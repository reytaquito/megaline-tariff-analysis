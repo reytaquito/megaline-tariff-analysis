{
 "cells": [
  {
   "cell_type": "markdown",
   "metadata": {
    "id": "3rYiDeEH0q0f"
   },
   "source": [
    "# Revenue Analysis of Surf and Ultimate Plans – Megaline Telecom\n",
    "\n",
    "This notebook presents an exploratory and statistical analysis of customer data from the telecom company **Megaline**, which offers two prepaid plans: **Surf** and **Ultimate**.\n",
    "\n",
    "The objective is to understand customer behavior (calls, messages, and internet usage) and determine which plan generates more average monthly revenue. The analysis includes data cleaning, feature engineering, revenue calculations, and statistical testing to support data-driven business decisions."
   ]
  },
  {
   "cell_type": "markdown",
   "metadata": {
    "id": "MQi4IPy70q0y"
   },
   "source": [
    "## Load all libraries"
   ]
  },
  {
   "cell_type": "code",
   "execution_count": 1,
   "metadata": {
    "id": "MtYIuBxu0q0z",
    "trusted": true
   },
   "outputs": [],
   "source": [
    "import pandas as pd\n",
    "import numpy as np\n",
    "from scipy import stats as st\n",
    "from matplotlib import pyplot as plt\n",
    "import math\n",
    "import seaborn as sns"
   ]
  },
  {
   "cell_type": "markdown",
   "metadata": {
    "id": "4ysWWC5i0q00"
   },
   "source": [
    "## Load & Explore the Data"
   ]
  },
  {
   "cell_type": "code",
   "execution_count": 2,
   "metadata": {
    "id": "CCqPW7rS0q01",
    "trusted": true
   },
   "outputs": [],
   "source": [
    "# Load the data files into different DataFrames\n",
    "df_calls = pd.read_csv('Datasets/megaline_calls.csv')\n",
    "df_internet = pd.read_csv('Datasets/megaline_internet.csv') \n",
    "df_messages = pd.read_csv('Datasets/megaline_messages.csv')\n",
    "df_plans = pd.read_csv('Datasets/megaline_plans.csv')\n",
    "df_users = pd.read_csv('Datasets/megaline_users.csv')"
   ]
  },
  {
   "cell_type": "markdown",
   "metadata": {},
   "source": [
    "Information about the rates DataFrame"
   ]
  },
  {
   "cell_type": "code",
   "execution_count": 3,
   "metadata": {
    "id": "GptqP3Q40q02",
    "trusted": true
   },
   "outputs": [
    {
     "name": "stdout",
     "output_type": "stream",
     "text": [
      "<class 'pandas.core.frame.DataFrame'>\n",
      "RangeIndex: 2 entries, 0 to 1\n",
      "Data columns (total 8 columns):\n",
      " #   Column                 Non-Null Count  Dtype  \n",
      "---  ------                 --------------  -----  \n",
      " 0   messages_included      2 non-null      int64  \n",
      " 1   mb_per_month_included  2 non-null      int64  \n",
      " 2   minutes_included       2 non-null      int64  \n",
      " 3   usd_monthly_pay        2 non-null      int64  \n",
      " 4   usd_per_gb             2 non-null      int64  \n",
      " 5   usd_per_message        2 non-null      float64\n",
      " 6   usd_per_minute         2 non-null      float64\n",
      " 7   plan_name              2 non-null      object \n",
      "dtypes: float64(2), int64(5), object(1)\n",
      "memory usage: 260.0+ bytes\n"
     ]
    }
   ],
   "source": [
    "df_plans.info()"
   ]
  },
  {
   "cell_type": "code",
   "execution_count": 4,
   "metadata": {
    "id": "64xzjwL70q02",
    "trusted": true
   },
   "outputs": [
    {
     "data": {
      "text/html": [
       "<div>\n",
       "<style scoped>\n",
       "    .dataframe tbody tr th:only-of-type {\n",
       "        vertical-align: middle;\n",
       "    }\n",
       "\n",
       "    .dataframe tbody tr th {\n",
       "        vertical-align: top;\n",
       "    }\n",
       "\n",
       "    .dataframe thead th {\n",
       "        text-align: right;\n",
       "    }\n",
       "</style>\n",
       "<table border=\"1\" class=\"dataframe\">\n",
       "  <thead>\n",
       "    <tr style=\"text-align: right;\">\n",
       "      <th></th>\n",
       "      <th>messages_included</th>\n",
       "      <th>mb_per_month_included</th>\n",
       "      <th>minutes_included</th>\n",
       "      <th>usd_monthly_pay</th>\n",
       "      <th>usd_per_gb</th>\n",
       "      <th>usd_per_message</th>\n",
       "      <th>usd_per_minute</th>\n",
       "      <th>plan_name</th>\n",
       "    </tr>\n",
       "  </thead>\n",
       "  <tbody>\n",
       "    <tr>\n",
       "      <th>0</th>\n",
       "      <td>50</td>\n",
       "      <td>15360</td>\n",
       "      <td>500</td>\n",
       "      <td>20</td>\n",
       "      <td>10</td>\n",
       "      <td>0.03</td>\n",
       "      <td>0.03</td>\n",
       "      <td>surf</td>\n",
       "    </tr>\n",
       "    <tr>\n",
       "      <th>1</th>\n",
       "      <td>1000</td>\n",
       "      <td>30720</td>\n",
       "      <td>3000</td>\n",
       "      <td>70</td>\n",
       "      <td>7</td>\n",
       "      <td>0.01</td>\n",
       "      <td>0.01</td>\n",
       "      <td>ultimate</td>\n",
       "    </tr>\n",
       "  </tbody>\n",
       "</table>\n",
       "</div>"
      ],
      "text/plain": [
       "   messages_included  mb_per_month_included  minutes_included  \\\n",
       "0                 50                  15360               500   \n",
       "1               1000                  30720              3000   \n",
       "\n",
       "   usd_monthly_pay  usd_per_gb  usd_per_message  usd_per_minute plan_name  \n",
       "0               20          10             0.03            0.03      surf  \n",
       "1               70           7             0.01            0.01  ultimate  "
      ]
     },
     "execution_count": 4,
     "metadata": {},
     "output_type": "execute_result"
    }
   ],
   "source": [
    "df_plans.head()"
   ]
  },
  {
   "cell_type": "markdown",
   "metadata": {
    "id": "mEc_3_hs0q02"
   },
   "source": [
    "Don't need any modification"
   ]
  },
  {
   "cell_type": "markdown",
   "metadata": {
    "id": "1n2X6WXf0q04"
   },
   "source": [
    "### Information about the users DataFrame"
   ]
  },
  {
   "cell_type": "code",
   "execution_count": 5,
   "metadata": {
    "id": "2NgjWFqx0q05",
    "trusted": true
   },
   "outputs": [
    {
     "name": "stdout",
     "output_type": "stream",
     "text": [
      "<class 'pandas.core.frame.DataFrame'>\n",
      "RangeIndex: 500 entries, 0 to 499\n",
      "Data columns (total 8 columns):\n",
      " #   Column      Non-Null Count  Dtype \n",
      "---  ------      --------------  ----- \n",
      " 0   user_id     500 non-null    int64 \n",
      " 1   first_name  500 non-null    object\n",
      " 2   last_name   500 non-null    object\n",
      " 3   age         500 non-null    int64 \n",
      " 4   city        500 non-null    object\n",
      " 5   reg_date    500 non-null    object\n",
      " 6   plan        500 non-null    object\n",
      " 7   churn_date  34 non-null     object\n",
      "dtypes: int64(2), object(6)\n",
      "memory usage: 31.4+ KB\n"
     ]
    }
   ],
   "source": [
    "df_users.info()"
   ]
  },
  {
   "cell_type": "code",
   "execution_count": 6,
   "metadata": {
    "id": "1IN1L9uh0q05",
    "trusted": true
   },
   "outputs": [
    {
     "data": {
      "text/html": [
       "<div>\n",
       "<style scoped>\n",
       "    .dataframe tbody tr th:only-of-type {\n",
       "        vertical-align: middle;\n",
       "    }\n",
       "\n",
       "    .dataframe tbody tr th {\n",
       "        vertical-align: top;\n",
       "    }\n",
       "\n",
       "    .dataframe thead th {\n",
       "        text-align: right;\n",
       "    }\n",
       "</style>\n",
       "<table border=\"1\" class=\"dataframe\">\n",
       "  <thead>\n",
       "    <tr style=\"text-align: right;\">\n",
       "      <th></th>\n",
       "      <th>user_id</th>\n",
       "      <th>first_name</th>\n",
       "      <th>last_name</th>\n",
       "      <th>age</th>\n",
       "      <th>city</th>\n",
       "      <th>reg_date</th>\n",
       "      <th>plan</th>\n",
       "      <th>churn_date</th>\n",
       "    </tr>\n",
       "  </thead>\n",
       "  <tbody>\n",
       "    <tr>\n",
       "      <th>182</th>\n",
       "      <td>1182</td>\n",
       "      <td>Jeff</td>\n",
       "      <td>Burt</td>\n",
       "      <td>39</td>\n",
       "      <td>Charlotte-Concord-Gastonia, NC-SC MSA</td>\n",
       "      <td>2018-05-29</td>\n",
       "      <td>surf</td>\n",
       "      <td>NaN</td>\n",
       "    </tr>\n",
       "    <tr>\n",
       "      <th>93</th>\n",
       "      <td>1093</td>\n",
       "      <td>Karima</td>\n",
       "      <td>Hampton</td>\n",
       "      <td>69</td>\n",
       "      <td>Nashville-Davidson–Murfreesboro–Franklin, TN MSA</td>\n",
       "      <td>2018-12-17</td>\n",
       "      <td>surf</td>\n",
       "      <td>NaN</td>\n",
       "    </tr>\n",
       "    <tr>\n",
       "      <th>312</th>\n",
       "      <td>1312</td>\n",
       "      <td>Kory</td>\n",
       "      <td>Emerson</td>\n",
       "      <td>42</td>\n",
       "      <td>Fresno, CA MSA</td>\n",
       "      <td>2018-01-26</td>\n",
       "      <td>surf</td>\n",
       "      <td>NaN</td>\n",
       "    </tr>\n",
       "    <tr>\n",
       "      <th>180</th>\n",
       "      <td>1180</td>\n",
       "      <td>Wonda</td>\n",
       "      <td>Hays</td>\n",
       "      <td>24</td>\n",
       "      <td>New York-Newark-Jersey City, NY-NJ-PA MSA</td>\n",
       "      <td>2018-12-01</td>\n",
       "      <td>surf</td>\n",
       "      <td>2018-12-22</td>\n",
       "    </tr>\n",
       "    <tr>\n",
       "      <th>286</th>\n",
       "      <td>1286</td>\n",
       "      <td>Casie</td>\n",
       "      <td>Castaneda</td>\n",
       "      <td>52</td>\n",
       "      <td>New Haven-Milford, CT MSA</td>\n",
       "      <td>2018-12-07</td>\n",
       "      <td>surf</td>\n",
       "      <td>NaN</td>\n",
       "    </tr>\n",
       "    <tr>\n",
       "      <th>222</th>\n",
       "      <td>1222</td>\n",
       "      <td>Cleo</td>\n",
       "      <td>Anderson</td>\n",
       "      <td>18</td>\n",
       "      <td>Los Angeles-Long Beach-Anaheim, CA MSA</td>\n",
       "      <td>2018-06-27</td>\n",
       "      <td>surf</td>\n",
       "      <td>NaN</td>\n",
       "    </tr>\n",
       "    <tr>\n",
       "      <th>236</th>\n",
       "      <td>1236</td>\n",
       "      <td>Odell</td>\n",
       "      <td>Juarez</td>\n",
       "      <td>74</td>\n",
       "      <td>Minneapolis-St. Paul-Bloomington, MN-WI MSA</td>\n",
       "      <td>2018-04-04</td>\n",
       "      <td>ultimate</td>\n",
       "      <td>NaN</td>\n",
       "    </tr>\n",
       "    <tr>\n",
       "      <th>124</th>\n",
       "      <td>1124</td>\n",
       "      <td>Jenell</td>\n",
       "      <td>Navarro</td>\n",
       "      <td>48</td>\n",
       "      <td>New Haven-Milford, CT MSA</td>\n",
       "      <td>2018-02-19</td>\n",
       "      <td>ultimate</td>\n",
       "      <td>NaN</td>\n",
       "    </tr>\n",
       "    <tr>\n",
       "      <th>419</th>\n",
       "      <td>1419</td>\n",
       "      <td>Bryon</td>\n",
       "      <td>Gordon</td>\n",
       "      <td>45</td>\n",
       "      <td>Phoenix-Mesa-Chandler, AZ MSA</td>\n",
       "      <td>2018-03-29</td>\n",
       "      <td>surf</td>\n",
       "      <td>NaN</td>\n",
       "    </tr>\n",
       "    <tr>\n",
       "      <th>469</th>\n",
       "      <td>1469</td>\n",
       "      <td>Rory</td>\n",
       "      <td>Nixon</td>\n",
       "      <td>75</td>\n",
       "      <td>New York-Newark-Jersey City, NY-NJ-PA MSA</td>\n",
       "      <td>2018-06-04</td>\n",
       "      <td>surf</td>\n",
       "      <td>NaN</td>\n",
       "    </tr>\n",
       "  </tbody>\n",
       "</table>\n",
       "</div>"
      ],
      "text/plain": [
       "     user_id first_name  last_name  age  \\\n",
       "182     1182       Jeff       Burt   39   \n",
       "93      1093     Karima    Hampton   69   \n",
       "312     1312       Kory    Emerson   42   \n",
       "180     1180      Wonda       Hays   24   \n",
       "286     1286      Casie  Castaneda   52   \n",
       "222     1222       Cleo   Anderson   18   \n",
       "236     1236      Odell     Juarez   74   \n",
       "124     1124     Jenell    Navarro   48   \n",
       "419     1419      Bryon     Gordon   45   \n",
       "469     1469       Rory      Nixon   75   \n",
       "\n",
       "                                                 city    reg_date      plan  \\\n",
       "182             Charlotte-Concord-Gastonia, NC-SC MSA  2018-05-29      surf   \n",
       "93   Nashville-Davidson–Murfreesboro–Franklin, TN MSA  2018-12-17      surf   \n",
       "312                                    Fresno, CA MSA  2018-01-26      surf   \n",
       "180         New York-Newark-Jersey City, NY-NJ-PA MSA  2018-12-01      surf   \n",
       "286                         New Haven-Milford, CT MSA  2018-12-07      surf   \n",
       "222            Los Angeles-Long Beach-Anaheim, CA MSA  2018-06-27      surf   \n",
       "236       Minneapolis-St. Paul-Bloomington, MN-WI MSA  2018-04-04  ultimate   \n",
       "124                         New Haven-Milford, CT MSA  2018-02-19  ultimate   \n",
       "419                     Phoenix-Mesa-Chandler, AZ MSA  2018-03-29      surf   \n",
       "469         New York-Newark-Jersey City, NY-NJ-PA MSA  2018-06-04      surf   \n",
       "\n",
       "     churn_date  \n",
       "182         NaN  \n",
       "93          NaN  \n",
       "312         NaN  \n",
       "180  2018-12-22  \n",
       "286         NaN  \n",
       "222         NaN  \n",
       "236         NaN  \n",
       "124         NaN  \n",
       "419         NaN  \n",
       "469         NaN  "
      ]
     },
     "execution_count": 6,
     "metadata": {},
     "output_type": "execute_result"
    }
   ],
   "source": [
    "df_users.sample(10)"
   ]
  },
  {
   "cell_type": "markdown",
   "metadata": {
    "id": "dCZoUq4f0q06"
   },
   "source": [
    "Need to chande de dates into datetime formar"
   ]
  },
  {
   "cell_type": "markdown",
   "metadata": {
    "id": "BX5FQh_I0q06"
   },
   "source": [
    "Changes"
   ]
  },
  {
   "cell_type": "code",
   "execution_count": 7,
   "metadata": {
    "id": "yUqX-K0C0q07",
    "trusted": true
   },
   "outputs": [
    {
     "name": "stdout",
     "output_type": "stream",
     "text": [
      "<class 'pandas.core.frame.DataFrame'>\n",
      "RangeIndex: 500 entries, 0 to 499\n",
      "Data columns (total 8 columns):\n",
      " #   Column      Non-Null Count  Dtype         \n",
      "---  ------      --------------  -----         \n",
      " 0   user_id     500 non-null    int64         \n",
      " 1   first_name  500 non-null    object        \n",
      " 2   last_name   500 non-null    object        \n",
      " 3   age         500 non-null    int64         \n",
      " 4   city        500 non-null    object        \n",
      " 5   reg_date    500 non-null    datetime64[ns]\n",
      " 6   plan        500 non-null    object        \n",
      " 7   churn_date  34 non-null     datetime64[ns]\n",
      "dtypes: datetime64[ns](2), int64(2), object(4)\n",
      "memory usage: 31.4+ KB\n"
     ]
    }
   ],
   "source": [
    "df_users['reg_date']= pd.to_datetime(df_users['reg_date'])\n",
    "df_users['churn_date']= pd.to_datetime(df_users['churn_date'])\n",
    "df_users.info()"
   ]
  },
  {
   "cell_type": "markdown",
   "metadata": {
    "id": "ycwuARJp0q07"
   },
   "source": [
    "Enhance the dataset with additional features/information"
   ]
  },
  {
   "cell_type": "code",
   "execution_count": 8,
   "metadata": {
    "id": "iq0AaBS90q08",
    "scrolled": true,
    "trusted": true
   },
   "outputs": [
    {
     "data": {
      "text/html": [
       "<div>\n",
       "<style scoped>\n",
       "    .dataframe tbody tr th:only-of-type {\n",
       "        vertical-align: middle;\n",
       "    }\n",
       "\n",
       "    .dataframe tbody tr th {\n",
       "        vertical-align: top;\n",
       "    }\n",
       "\n",
       "    .dataframe thead th {\n",
       "        text-align: right;\n",
       "    }\n",
       "</style>\n",
       "<table border=\"1\" class=\"dataframe\">\n",
       "  <thead>\n",
       "    <tr style=\"text-align: right;\">\n",
       "      <th></th>\n",
       "      <th>user_id</th>\n",
       "      <th>first_name</th>\n",
       "      <th>last_name</th>\n",
       "      <th>age</th>\n",
       "      <th>city</th>\n",
       "      <th>reg_date</th>\n",
       "      <th>plan</th>\n",
       "      <th>churn_date</th>\n",
       "      <th>is_active</th>\n",
       "    </tr>\n",
       "  </thead>\n",
       "  <tbody>\n",
       "    <tr>\n",
       "      <th>57</th>\n",
       "      <td>1057</td>\n",
       "      <td>Theo</td>\n",
       "      <td>Sargent</td>\n",
       "      <td>18</td>\n",
       "      <td>Atlanta-Sandy Springs-Roswell, GA MSA</td>\n",
       "      <td>2018-08-07</td>\n",
       "      <td>ultimate</td>\n",
       "      <td>NaT</td>\n",
       "      <td>True</td>\n",
       "    </tr>\n",
       "    <tr>\n",
       "      <th>200</th>\n",
       "      <td>1200</td>\n",
       "      <td>Delmar</td>\n",
       "      <td>Cross</td>\n",
       "      <td>45</td>\n",
       "      <td>Boston-Cambridge-Newton, MA-NH MSA</td>\n",
       "      <td>2018-11-27</td>\n",
       "      <td>surf</td>\n",
       "      <td>NaT</td>\n",
       "      <td>True</td>\n",
       "    </tr>\n",
       "    <tr>\n",
       "      <th>6</th>\n",
       "      <td>1006</td>\n",
       "      <td>Jesusa</td>\n",
       "      <td>Bradford</td>\n",
       "      <td>73</td>\n",
       "      <td>San Francisco-Oakland-Berkeley, CA MSA</td>\n",
       "      <td>2018-11-27</td>\n",
       "      <td>ultimate</td>\n",
       "      <td>2018-12-18</td>\n",
       "      <td>False</td>\n",
       "    </tr>\n",
       "    <tr>\n",
       "      <th>408</th>\n",
       "      <td>1408</td>\n",
       "      <td>Alaine</td>\n",
       "      <td>Robertson</td>\n",
       "      <td>40</td>\n",
       "      <td>Baltimore-Columbia-Towson, MD MSA</td>\n",
       "      <td>2018-01-11</td>\n",
       "      <td>surf</td>\n",
       "      <td>NaT</td>\n",
       "      <td>True</td>\n",
       "    </tr>\n",
       "    <tr>\n",
       "      <th>127</th>\n",
       "      <td>1127</td>\n",
       "      <td>Marchelle</td>\n",
       "      <td>Brock</td>\n",
       "      <td>28</td>\n",
       "      <td>New York-Newark-Jersey City, NY-NJ-PA MSA</td>\n",
       "      <td>2018-06-23</td>\n",
       "      <td>surf</td>\n",
       "      <td>NaT</td>\n",
       "      <td>True</td>\n",
       "    </tr>\n",
       "    <tr>\n",
       "      <th>238</th>\n",
       "      <td>1238</td>\n",
       "      <td>Jackeline</td>\n",
       "      <td>Byrd</td>\n",
       "      <td>42</td>\n",
       "      <td>Dallas-Fort Worth-Arlington, TX MSA</td>\n",
       "      <td>2018-06-16</td>\n",
       "      <td>surf</td>\n",
       "      <td>NaT</td>\n",
       "      <td>True</td>\n",
       "    </tr>\n",
       "    <tr>\n",
       "      <th>153</th>\n",
       "      <td>1153</td>\n",
       "      <td>Kathaleen</td>\n",
       "      <td>Crawford</td>\n",
       "      <td>30</td>\n",
       "      <td>Bridgeport-Stamford-Norwalk, CT MSA</td>\n",
       "      <td>2018-06-19</td>\n",
       "      <td>surf</td>\n",
       "      <td>NaT</td>\n",
       "      <td>True</td>\n",
       "    </tr>\n",
       "    <tr>\n",
       "      <th>92</th>\n",
       "      <td>1092</td>\n",
       "      <td>Taren</td>\n",
       "      <td>Strickland</td>\n",
       "      <td>26</td>\n",
       "      <td>Dallas-Fort Worth-Arlington, TX MSA</td>\n",
       "      <td>2018-12-10</td>\n",
       "      <td>surf</td>\n",
       "      <td>NaT</td>\n",
       "      <td>True</td>\n",
       "    </tr>\n",
       "    <tr>\n",
       "      <th>188</th>\n",
       "      <td>1188</td>\n",
       "      <td>Ethelene</td>\n",
       "      <td>Brock</td>\n",
       "      <td>31</td>\n",
       "      <td>Richmond, VA MSA</td>\n",
       "      <td>2018-01-10</td>\n",
       "      <td>ultimate</td>\n",
       "      <td>NaT</td>\n",
       "      <td>True</td>\n",
       "    </tr>\n",
       "    <tr>\n",
       "      <th>371</th>\n",
       "      <td>1371</td>\n",
       "      <td>Roderick</td>\n",
       "      <td>Slater</td>\n",
       "      <td>27</td>\n",
       "      <td>Portland-Vancouver-Hillsboro, OR-WA MSA</td>\n",
       "      <td>2018-10-27</td>\n",
       "      <td>surf</td>\n",
       "      <td>NaT</td>\n",
       "      <td>True</td>\n",
       "    </tr>\n",
       "  </tbody>\n",
       "</table>\n",
       "</div>"
      ],
      "text/plain": [
       "     user_id first_name   last_name  age  \\\n",
       "57      1057       Theo     Sargent   18   \n",
       "200     1200     Delmar       Cross   45   \n",
       "6       1006     Jesusa    Bradford   73   \n",
       "408     1408     Alaine   Robertson   40   \n",
       "127     1127  Marchelle       Brock   28   \n",
       "238     1238  Jackeline        Byrd   42   \n",
       "153     1153  Kathaleen    Crawford   30   \n",
       "92      1092      Taren  Strickland   26   \n",
       "188     1188   Ethelene       Brock   31   \n",
       "371     1371   Roderick      Slater   27   \n",
       "\n",
       "                                          city   reg_date      plan  \\\n",
       "57       Atlanta-Sandy Springs-Roswell, GA MSA 2018-08-07  ultimate   \n",
       "200         Boston-Cambridge-Newton, MA-NH MSA 2018-11-27      surf   \n",
       "6       San Francisco-Oakland-Berkeley, CA MSA 2018-11-27  ultimate   \n",
       "408          Baltimore-Columbia-Towson, MD MSA 2018-01-11      surf   \n",
       "127  New York-Newark-Jersey City, NY-NJ-PA MSA 2018-06-23      surf   \n",
       "238        Dallas-Fort Worth-Arlington, TX MSA 2018-06-16      surf   \n",
       "153        Bridgeport-Stamford-Norwalk, CT MSA 2018-06-19      surf   \n",
       "92         Dallas-Fort Worth-Arlington, TX MSA 2018-12-10      surf   \n",
       "188                           Richmond, VA MSA 2018-01-10  ultimate   \n",
       "371    Portland-Vancouver-Hillsboro, OR-WA MSA 2018-10-27      surf   \n",
       "\n",
       "    churn_date  is_active  \n",
       "57         NaT       True  \n",
       "200        NaT       True  \n",
       "6   2018-12-18      False  \n",
       "408        NaT       True  \n",
       "127        NaT       True  \n",
       "238        NaT       True  \n",
       "153        NaT       True  \n",
       "92         NaT       True  \n",
       "188        NaT       True  \n",
       "371        NaT       True  "
      ]
     },
     "execution_count": 8,
     "metadata": {},
     "output_type": "execute_result"
    }
   ],
   "source": [
    "df_users['is_active'] = df_users['churn_date'].isna()\n",
    "df_users.sample(10)"
   ]
  },
  {
   "cell_type": "code",
   "execution_count": 9,
   "metadata": {
    "trusted": true
   },
   "outputs": [
    {
     "data": {
      "text/html": [
       "<div>\n",
       "<style scoped>\n",
       "    .dataframe tbody tr th:only-of-type {\n",
       "        vertical-align: middle;\n",
       "    }\n",
       "\n",
       "    .dataframe tbody tr th {\n",
       "        vertical-align: top;\n",
       "    }\n",
       "\n",
       "    .dataframe thead th {\n",
       "        text-align: right;\n",
       "    }\n",
       "</style>\n",
       "<table border=\"1\" class=\"dataframe\">\n",
       "  <thead>\n",
       "    <tr style=\"text-align: right;\">\n",
       "      <th></th>\n",
       "      <th>user_id</th>\n",
       "      <th>plan</th>\n",
       "    </tr>\n",
       "  </thead>\n",
       "  <tbody>\n",
       "    <tr>\n",
       "      <th>0</th>\n",
       "      <td>1000</td>\n",
       "      <td>ultimate</td>\n",
       "    </tr>\n",
       "    <tr>\n",
       "      <th>1</th>\n",
       "      <td>1001</td>\n",
       "      <td>surf</td>\n",
       "    </tr>\n",
       "    <tr>\n",
       "      <th>2</th>\n",
       "      <td>1002</td>\n",
       "      <td>surf</td>\n",
       "    </tr>\n",
       "    <tr>\n",
       "      <th>3</th>\n",
       "      <td>1003</td>\n",
       "      <td>surf</td>\n",
       "    </tr>\n",
       "    <tr>\n",
       "      <th>4</th>\n",
       "      <td>1004</td>\n",
       "      <td>surf</td>\n",
       "    </tr>\n",
       "    <tr>\n",
       "      <th>...</th>\n",
       "      <td>...</td>\n",
       "      <td>...</td>\n",
       "    </tr>\n",
       "    <tr>\n",
       "      <th>495</th>\n",
       "      <td>1495</td>\n",
       "      <td>surf</td>\n",
       "    </tr>\n",
       "    <tr>\n",
       "      <th>496</th>\n",
       "      <td>1496</td>\n",
       "      <td>surf</td>\n",
       "    </tr>\n",
       "    <tr>\n",
       "      <th>497</th>\n",
       "      <td>1497</td>\n",
       "      <td>ultimate</td>\n",
       "    </tr>\n",
       "    <tr>\n",
       "      <th>498</th>\n",
       "      <td>1498</td>\n",
       "      <td>surf</td>\n",
       "    </tr>\n",
       "    <tr>\n",
       "      <th>499</th>\n",
       "      <td>1499</td>\n",
       "      <td>surf</td>\n",
       "    </tr>\n",
       "  </tbody>\n",
       "</table>\n",
       "<p>500 rows × 2 columns</p>\n",
       "</div>"
      ],
      "text/plain": [
       "     user_id      plan\n",
       "0       1000  ultimate\n",
       "1       1001      surf\n",
       "2       1002      surf\n",
       "3       1003      surf\n",
       "4       1004      surf\n",
       "..       ...       ...\n",
       "495     1495      surf\n",
       "496     1496      surf\n",
       "497     1497  ultimate\n",
       "498     1498      surf\n",
       "499     1499      surf\n",
       "\n",
       "[500 rows x 2 columns]"
      ]
     },
     "execution_count": 9,
     "metadata": {},
     "output_type": "execute_result"
    }
   ],
   "source": [
    "#create a new dataframe with user_id and plan\n",
    "user_plan= df_users[['user_id', 'plan']]\n",
    "user_plan"
   ]
  },
  {
   "cell_type": "markdown",
   "metadata": {
    "id": "o7MeKCid0q08"
   },
   "source": [
    "### Information about the calls DataFrame"
   ]
  },
  {
   "cell_type": "code",
   "execution_count": 10,
   "metadata": {
    "id": "6dDlnoDm0q08",
    "trusted": true
   },
   "outputs": [
    {
     "name": "stdout",
     "output_type": "stream",
     "text": [
      "<class 'pandas.core.frame.DataFrame'>\n",
      "RangeIndex: 137735 entries, 0 to 137734\n",
      "Data columns (total 4 columns):\n",
      " #   Column     Non-Null Count   Dtype  \n",
      "---  ------     --------------   -----  \n",
      " 0   id         137735 non-null  object \n",
      " 1   user_id    137735 non-null  int64  \n",
      " 2   call_date  137735 non-null  object \n",
      " 3   duration   137735 non-null  float64\n",
      "dtypes: float64(1), int64(1), object(2)\n",
      "memory usage: 4.2+ MB\n"
     ]
    }
   ],
   "source": [
    "df_calls.info()"
   ]
  },
  {
   "cell_type": "code",
   "execution_count": 11,
   "metadata": {
    "id": "kuh1vlNB0q09",
    "trusted": true
   },
   "outputs": [
    {
     "data": {
      "text/html": [
       "<div>\n",
       "<style scoped>\n",
       "    .dataframe tbody tr th:only-of-type {\n",
       "        vertical-align: middle;\n",
       "    }\n",
       "\n",
       "    .dataframe tbody tr th {\n",
       "        vertical-align: top;\n",
       "    }\n",
       "\n",
       "    .dataframe thead th {\n",
       "        text-align: right;\n",
       "    }\n",
       "</style>\n",
       "<table border=\"1\" class=\"dataframe\">\n",
       "  <thead>\n",
       "    <tr style=\"text-align: right;\">\n",
       "      <th></th>\n",
       "      <th>id</th>\n",
       "      <th>user_id</th>\n",
       "      <th>call_date</th>\n",
       "      <th>duration</th>\n",
       "    </tr>\n",
       "  </thead>\n",
       "  <tbody>\n",
       "    <tr>\n",
       "      <th>39532</th>\n",
       "      <td>1147_283</td>\n",
       "      <td>1147</td>\n",
       "      <td>2018-07-13</td>\n",
       "      <td>5.97</td>\n",
       "    </tr>\n",
       "    <tr>\n",
       "      <th>88577</th>\n",
       "      <td>1324_633</td>\n",
       "      <td>1324</td>\n",
       "      <td>2018-08-30</td>\n",
       "      <td>9.26</td>\n",
       "    </tr>\n",
       "    <tr>\n",
       "      <th>97221</th>\n",
       "      <td>1347_47</td>\n",
       "      <td>1347</td>\n",
       "      <td>2018-10-21</td>\n",
       "      <td>10.63</td>\n",
       "    </tr>\n",
       "    <tr>\n",
       "      <th>28169</th>\n",
       "      <td>1106_579</td>\n",
       "      <td>1106</td>\n",
       "      <td>2018-10-22</td>\n",
       "      <td>0.00</td>\n",
       "    </tr>\n",
       "    <tr>\n",
       "      <th>131330</th>\n",
       "      <td>1472_278</td>\n",
       "      <td>1472</td>\n",
       "      <td>2018-07-30</td>\n",
       "      <td>0.00</td>\n",
       "    </tr>\n",
       "    <tr>\n",
       "      <th>44148</th>\n",
       "      <td>1160_164</td>\n",
       "      <td>1160</td>\n",
       "      <td>2018-09-07</td>\n",
       "      <td>5.14</td>\n",
       "    </tr>\n",
       "    <tr>\n",
       "      <th>69882</th>\n",
       "      <td>1250_112</td>\n",
       "      <td>1250</td>\n",
       "      <td>2018-11-05</td>\n",
       "      <td>14.74</td>\n",
       "    </tr>\n",
       "    <tr>\n",
       "      <th>75976</th>\n",
       "      <td>1268_480</td>\n",
       "      <td>1268</td>\n",
       "      <td>2018-10-18</td>\n",
       "      <td>0.00</td>\n",
       "    </tr>\n",
       "    <tr>\n",
       "      <th>72282</th>\n",
       "      <td>1257_22</td>\n",
       "      <td>1257</td>\n",
       "      <td>2018-06-07</td>\n",
       "      <td>7.06</td>\n",
       "    </tr>\n",
       "    <tr>\n",
       "      <th>4736</th>\n",
       "      <td>1022_2</td>\n",
       "      <td>1022</td>\n",
       "      <td>2018-11-14</td>\n",
       "      <td>0.00</td>\n",
       "    </tr>\n",
       "  </tbody>\n",
       "</table>\n",
       "</div>"
      ],
      "text/plain": [
       "              id  user_id   call_date  duration\n",
       "39532   1147_283     1147  2018-07-13      5.97\n",
       "88577   1324_633     1324  2018-08-30      9.26\n",
       "97221    1347_47     1347  2018-10-21     10.63\n",
       "28169   1106_579     1106  2018-10-22      0.00\n",
       "131330  1472_278     1472  2018-07-30      0.00\n",
       "44148   1160_164     1160  2018-09-07      5.14\n",
       "69882   1250_112     1250  2018-11-05     14.74\n",
       "75976   1268_480     1268  2018-10-18      0.00\n",
       "72282    1257_22     1257  2018-06-07      7.06\n",
       "4736      1022_2     1022  2018-11-14      0.00"
      ]
     },
     "execution_count": 11,
     "metadata": {},
     "output_type": "execute_result"
    }
   ],
   "source": [
    "df_calls.sample(10)"
   ]
  },
  {
   "cell_type": "markdown",
   "metadata": {
    "id": "S7hzxmbX0q0-"
   },
   "source": [
    "Cahnges"
   ]
  },
  {
   "cell_type": "code",
   "execution_count": 12,
   "metadata": {
    "id": "S2r8xA4f0q0-",
    "trusted": true
   },
   "outputs": [
    {
     "name": "stdout",
     "output_type": "stream",
     "text": [
      "<class 'pandas.core.frame.DataFrame'>\n",
      "RangeIndex: 137735 entries, 0 to 137734\n",
      "Data columns (total 4 columns):\n",
      " #   Column     Non-Null Count   Dtype         \n",
      "---  ------     --------------   -----         \n",
      " 0   id         137735 non-null  object        \n",
      " 1   user_id    137735 non-null  int64         \n",
      " 2   call_date  137735 non-null  datetime64[ns]\n",
      " 3   duration   137735 non-null  float64       \n",
      "dtypes: datetime64[ns](1), float64(1), int64(1), object(1)\n",
      "memory usage: 4.2+ MB\n"
     ]
    }
   ],
   "source": [
    "# Convert 'call_date' to datetime format\n",
    "df_calls['call_date'] = pd.to_datetime(df_calls['call_date'])\n",
    "df_calls.info()"
   ]
  },
  {
   "cell_type": "markdown",
   "metadata": {
    "id": "KrMgTrlG0q0_"
   },
   "source": [
    "Enhance the dataset with additional features/information"
   ]
  },
  {
   "cell_type": "code",
   "execution_count": 13,
   "metadata": {
    "id": "iZ1avpA_0q0_",
    "trusted": true
   },
   "outputs": [
    {
     "data": {
      "text/html": [
       "<div>\n",
       "<style scoped>\n",
       "    .dataframe tbody tr th:only-of-type {\n",
       "        vertical-align: middle;\n",
       "    }\n",
       "\n",
       "    .dataframe tbody tr th {\n",
       "        vertical-align: top;\n",
       "    }\n",
       "\n",
       "    .dataframe thead th {\n",
       "        text-align: right;\n",
       "    }\n",
       "</style>\n",
       "<table border=\"1\" class=\"dataframe\">\n",
       "  <thead>\n",
       "    <tr style=\"text-align: right;\">\n",
       "      <th></th>\n",
       "      <th>id</th>\n",
       "      <th>user_id</th>\n",
       "      <th>call_date</th>\n",
       "      <th>duration</th>\n",
       "      <th>month</th>\n",
       "    </tr>\n",
       "  </thead>\n",
       "  <tbody>\n",
       "    <tr>\n",
       "      <th>48039</th>\n",
       "      <td>1174_16</td>\n",
       "      <td>1174</td>\n",
       "      <td>2018-06-06</td>\n",
       "      <td>2.24</td>\n",
       "      <td>6</td>\n",
       "    </tr>\n",
       "    <tr>\n",
       "      <th>91358</th>\n",
       "      <td>1329_177</td>\n",
       "      <td>1329</td>\n",
       "      <td>2018-09-10</td>\n",
       "      <td>12.46</td>\n",
       "      <td>9</td>\n",
       "    </tr>\n",
       "    <tr>\n",
       "      <th>109118</th>\n",
       "      <td>1385_188</td>\n",
       "      <td>1385</td>\n",
       "      <td>2018-06-03</td>\n",
       "      <td>10.74</td>\n",
       "      <td>6</td>\n",
       "    </tr>\n",
       "    <tr>\n",
       "      <th>50315</th>\n",
       "      <td>1181_689</td>\n",
       "      <td>1181</td>\n",
       "      <td>2018-07-24</td>\n",
       "      <td>0.00</td>\n",
       "      <td>7</td>\n",
       "    </tr>\n",
       "    <tr>\n",
       "      <th>112390</th>\n",
       "      <td>1396_101</td>\n",
       "      <td>1396</td>\n",
       "      <td>2018-09-02</td>\n",
       "      <td>2.65</td>\n",
       "      <td>9</td>\n",
       "    </tr>\n",
       "    <tr>\n",
       "      <th>118206</th>\n",
       "      <td>1412_490</td>\n",
       "      <td>1412</td>\n",
       "      <td>2018-08-20</td>\n",
       "      <td>6.76</td>\n",
       "      <td>8</td>\n",
       "    </tr>\n",
       "    <tr>\n",
       "      <th>136488</th>\n",
       "      <td>1494_330</td>\n",
       "      <td>1494</td>\n",
       "      <td>2018-09-24</td>\n",
       "      <td>5.50</td>\n",
       "      <td>9</td>\n",
       "    </tr>\n",
       "    <tr>\n",
       "      <th>100509</th>\n",
       "      <td>1359_391</td>\n",
       "      <td>1359</td>\n",
       "      <td>2018-12-17</td>\n",
       "      <td>17.10</td>\n",
       "      <td>12</td>\n",
       "    </tr>\n",
       "    <tr>\n",
       "      <th>128861</th>\n",
       "      <td>1464_618</td>\n",
       "      <td>1464</td>\n",
       "      <td>2018-12-11</td>\n",
       "      <td>3.98</td>\n",
       "      <td>12</td>\n",
       "    </tr>\n",
       "    <tr>\n",
       "      <th>27982</th>\n",
       "      <td>1106_317</td>\n",
       "      <td>1106</td>\n",
       "      <td>2018-06-11</td>\n",
       "      <td>0.00</td>\n",
       "      <td>6</td>\n",
       "    </tr>\n",
       "  </tbody>\n",
       "</table>\n",
       "</div>"
      ],
      "text/plain": [
       "              id  user_id  call_date  duration  month\n",
       "48039    1174_16     1174 2018-06-06      2.24      6\n",
       "91358   1329_177     1329 2018-09-10     12.46      9\n",
       "109118  1385_188     1385 2018-06-03     10.74      6\n",
       "50315   1181_689     1181 2018-07-24      0.00      7\n",
       "112390  1396_101     1396 2018-09-02      2.65      9\n",
       "118206  1412_490     1412 2018-08-20      6.76      8\n",
       "136488  1494_330     1494 2018-09-24      5.50      9\n",
       "100509  1359_391     1359 2018-12-17     17.10     12\n",
       "128861  1464_618     1464 2018-12-11      3.98     12\n",
       "27982   1106_317     1106 2018-06-11      0.00      6"
      ]
     },
     "execution_count": 13,
     "metadata": {},
     "output_type": "execute_result"
    }
   ],
   "source": [
    "# Extract month from 'call_date' and create a new column\n",
    "df_calls['month'] = df_calls['call_date'].dt.month\n",
    "df_calls.sample(10)"
   ]
  },
  {
   "cell_type": "markdown",
   "metadata": {
    "id": "mOUZSi180q0_"
   },
   "source": [
    "### Information about the messages DataFrame"
   ]
  },
  {
   "cell_type": "code",
   "execution_count": 14,
   "metadata": {
    "id": "R-bYJpdV0q1A",
    "trusted": true
   },
   "outputs": [
    {
     "name": "stdout",
     "output_type": "stream",
     "text": [
      "<class 'pandas.core.frame.DataFrame'>\n",
      "RangeIndex: 76051 entries, 0 to 76050\n",
      "Data columns (total 3 columns):\n",
      " #   Column        Non-Null Count  Dtype \n",
      "---  ------        --------------  ----- \n",
      " 0   id            76051 non-null  object\n",
      " 1   user_id       76051 non-null  int64 \n",
      " 2   message_date  76051 non-null  object\n",
      "dtypes: int64(1), object(2)\n",
      "memory usage: 1.7+ MB\n"
     ]
    }
   ],
   "source": [
    "df_messages.info()"
   ]
  },
  {
   "cell_type": "code",
   "execution_count": 15,
   "metadata": {
    "id": "mCEl2iGE0q1A",
    "trusted": true
   },
   "outputs": [
    {
     "data": {
      "text/html": [
       "<div>\n",
       "<style scoped>\n",
       "    .dataframe tbody tr th:only-of-type {\n",
       "        vertical-align: middle;\n",
       "    }\n",
       "\n",
       "    .dataframe tbody tr th {\n",
       "        vertical-align: top;\n",
       "    }\n",
       "\n",
       "    .dataframe thead th {\n",
       "        text-align: right;\n",
       "    }\n",
       "</style>\n",
       "<table border=\"1\" class=\"dataframe\">\n",
       "  <thead>\n",
       "    <tr style=\"text-align: right;\">\n",
       "      <th></th>\n",
       "      <th>id</th>\n",
       "      <th>user_id</th>\n",
       "      <th>message_date</th>\n",
       "    </tr>\n",
       "  </thead>\n",
       "  <tbody>\n",
       "    <tr>\n",
       "      <th>26807</th>\n",
       "      <td>1164_57</td>\n",
       "      <td>1164</td>\n",
       "      <td>2018-07-17</td>\n",
       "    </tr>\n",
       "    <tr>\n",
       "      <th>6699</th>\n",
       "      <td>1057_23</td>\n",
       "      <td>1057</td>\n",
       "      <td>2018-12-31</td>\n",
       "    </tr>\n",
       "    <tr>\n",
       "      <th>22985</th>\n",
       "      <td>1138_9</td>\n",
       "      <td>1138</td>\n",
       "      <td>2018-06-15</td>\n",
       "    </tr>\n",
       "    <tr>\n",
       "      <th>11212</th>\n",
       "      <td>1077_483</td>\n",
       "      <td>1077</td>\n",
       "      <td>2018-03-03</td>\n",
       "    </tr>\n",
       "    <tr>\n",
       "      <th>82</th>\n",
       "      <td>1001_143</td>\n",
       "      <td>1001</td>\n",
       "      <td>2018-10-09</td>\n",
       "    </tr>\n",
       "    <tr>\n",
       "      <th>18813</th>\n",
       "      <td>1122_42</td>\n",
       "      <td>1122</td>\n",
       "      <td>2018-12-16</td>\n",
       "    </tr>\n",
       "    <tr>\n",
       "      <th>67030</th>\n",
       "      <td>1435_68</td>\n",
       "      <td>1435</td>\n",
       "      <td>2018-09-30</td>\n",
       "    </tr>\n",
       "    <tr>\n",
       "      <th>19696</th>\n",
       "      <td>1126_492</td>\n",
       "      <td>1126</td>\n",
       "      <td>2018-10-09</td>\n",
       "    </tr>\n",
       "    <tr>\n",
       "      <th>49604</th>\n",
       "      <td>1328_562</td>\n",
       "      <td>1328</td>\n",
       "      <td>2018-11-21</td>\n",
       "    </tr>\n",
       "    <tr>\n",
       "      <th>16539</th>\n",
       "      <td>1111_16</td>\n",
       "      <td>1111</td>\n",
       "      <td>2018-12-25</td>\n",
       "    </tr>\n",
       "    <tr>\n",
       "      <th>43064</th>\n",
       "      <td>1283_3</td>\n",
       "      <td>1283</td>\n",
       "      <td>2018-12-16</td>\n",
       "    </tr>\n",
       "    <tr>\n",
       "      <th>48925</th>\n",
       "      <td>1327_18</td>\n",
       "      <td>1327</td>\n",
       "      <td>2018-12-22</td>\n",
       "    </tr>\n",
       "    <tr>\n",
       "      <th>73593</th>\n",
       "      <td>1472_167</td>\n",
       "      <td>1472</td>\n",
       "      <td>2018-05-22</td>\n",
       "    </tr>\n",
       "    <tr>\n",
       "      <th>37513</th>\n",
       "      <td>1248_77</td>\n",
       "      <td>1248</td>\n",
       "      <td>2018-12-06</td>\n",
       "    </tr>\n",
       "    <tr>\n",
       "      <th>32780</th>\n",
       "      <td>1203_425</td>\n",
       "      <td>1203</td>\n",
       "      <td>2018-12-02</td>\n",
       "    </tr>\n",
       "  </tbody>\n",
       "</table>\n",
       "</div>"
      ],
      "text/plain": [
       "             id  user_id message_date\n",
       "26807   1164_57     1164   2018-07-17\n",
       "6699    1057_23     1057   2018-12-31\n",
       "22985    1138_9     1138   2018-06-15\n",
       "11212  1077_483     1077   2018-03-03\n",
       "82     1001_143     1001   2018-10-09\n",
       "18813   1122_42     1122   2018-12-16\n",
       "67030   1435_68     1435   2018-09-30\n",
       "19696  1126_492     1126   2018-10-09\n",
       "49604  1328_562     1328   2018-11-21\n",
       "16539   1111_16     1111   2018-12-25\n",
       "43064    1283_3     1283   2018-12-16\n",
       "48925   1327_18     1327   2018-12-22\n",
       "73593  1472_167     1472   2018-05-22\n",
       "37513   1248_77     1248   2018-12-06\n",
       "32780  1203_425     1203   2018-12-02"
      ]
     },
     "execution_count": 15,
     "metadata": {},
     "output_type": "execute_result"
    }
   ],
   "source": [
    "df_messages.sample(15)"
   ]
  },
  {
   "cell_type": "markdown",
   "metadata": {
    "id": "Sprfak900q1B"
   },
   "source": [
    "Changes"
   ]
  },
  {
   "cell_type": "code",
   "execution_count": 16,
   "metadata": {
    "id": "vsllvkoa0q1B",
    "trusted": true
   },
   "outputs": [
    {
     "name": "stdout",
     "output_type": "stream",
     "text": [
      "<class 'pandas.core.frame.DataFrame'>\n",
      "RangeIndex: 76051 entries, 0 to 76050\n",
      "Data columns (total 3 columns):\n",
      " #   Column        Non-Null Count  Dtype         \n",
      "---  ------        --------------  -----         \n",
      " 0   id            76051 non-null  object        \n",
      " 1   user_id       76051 non-null  int64         \n",
      " 2   message_date  76051 non-null  datetime64[ns]\n",
      "dtypes: datetime64[ns](1), int64(1), object(1)\n",
      "memory usage: 1.7+ MB\n"
     ]
    }
   ],
   "source": [
    "# Convert 'message_date' to datetime format\n",
    "df_messages['message_date'] = pd.to_datetime(df_messages['message_date'])\n",
    "df_messages.info()"
   ]
  },
  {
   "cell_type": "markdown",
   "metadata": {
    "id": "HvLid7iD0q1B"
   },
   "source": [
    "Enhance the dataset with additional features/information"
   ]
  },
  {
   "cell_type": "code",
   "execution_count": 17,
   "metadata": {
    "id": "zYEXZac10q1C",
    "trusted": true
   },
   "outputs": [
    {
     "data": {
      "text/html": [
       "<div>\n",
       "<style scoped>\n",
       "    .dataframe tbody tr th:only-of-type {\n",
       "        vertical-align: middle;\n",
       "    }\n",
       "\n",
       "    .dataframe tbody tr th {\n",
       "        vertical-align: top;\n",
       "    }\n",
       "\n",
       "    .dataframe thead th {\n",
       "        text-align: right;\n",
       "    }\n",
       "</style>\n",
       "<table border=\"1\" class=\"dataframe\">\n",
       "  <thead>\n",
       "    <tr style=\"text-align: right;\">\n",
       "      <th></th>\n",
       "      <th>id</th>\n",
       "      <th>user_id</th>\n",
       "      <th>message_date</th>\n",
       "      <th>month</th>\n",
       "    </tr>\n",
       "  </thead>\n",
       "  <tbody>\n",
       "    <tr>\n",
       "      <th>0</th>\n",
       "      <td>1000_125</td>\n",
       "      <td>1000</td>\n",
       "      <td>2018-12-27</td>\n",
       "      <td>12</td>\n",
       "    </tr>\n",
       "    <tr>\n",
       "      <th>1</th>\n",
       "      <td>1000_160</td>\n",
       "      <td>1000</td>\n",
       "      <td>2018-12-31</td>\n",
       "      <td>12</td>\n",
       "    </tr>\n",
       "    <tr>\n",
       "      <th>2</th>\n",
       "      <td>1000_223</td>\n",
       "      <td>1000</td>\n",
       "      <td>2018-12-31</td>\n",
       "      <td>12</td>\n",
       "    </tr>\n",
       "    <tr>\n",
       "      <th>3</th>\n",
       "      <td>1000_251</td>\n",
       "      <td>1000</td>\n",
       "      <td>2018-12-27</td>\n",
       "      <td>12</td>\n",
       "    </tr>\n",
       "    <tr>\n",
       "      <th>4</th>\n",
       "      <td>1000_255</td>\n",
       "      <td>1000</td>\n",
       "      <td>2018-12-26</td>\n",
       "      <td>12</td>\n",
       "    </tr>\n",
       "  </tbody>\n",
       "</table>\n",
       "</div>"
      ],
      "text/plain": [
       "         id  user_id message_date  month\n",
       "0  1000_125     1000   2018-12-27     12\n",
       "1  1000_160     1000   2018-12-31     12\n",
       "2  1000_223     1000   2018-12-31     12\n",
       "3  1000_251     1000   2018-12-27     12\n",
       "4  1000_255     1000   2018-12-26     12"
      ]
     },
     "execution_count": 17,
     "metadata": {},
     "output_type": "execute_result"
    }
   ],
   "source": [
    "# Extract month from 'message_date' and create a new column\n",
    "df_messages['month'] = df_messages['message_date'].dt.month\n",
    "df_messages.head()"
   ]
  },
  {
   "cell_type": "markdown",
   "metadata": {
    "id": "bStkaxn40q1C"
   },
   "source": [
    "### Information about the internet DataFrame"
   ]
  },
  {
   "cell_type": "code",
   "execution_count": 18,
   "metadata": {
    "id": "e-Uz5qyn0q1C",
    "trusted": true
   },
   "outputs": [
    {
     "name": "stdout",
     "output_type": "stream",
     "text": [
      "<class 'pandas.core.frame.DataFrame'>\n",
      "RangeIndex: 104825 entries, 0 to 104824\n",
      "Data columns (total 4 columns):\n",
      " #   Column        Non-Null Count   Dtype  \n",
      "---  ------        --------------   -----  \n",
      " 0   id            104825 non-null  object \n",
      " 1   user_id       104825 non-null  int64  \n",
      " 2   session_date  104825 non-null  object \n",
      " 3   mb_used       104825 non-null  float64\n",
      "dtypes: float64(1), int64(1), object(2)\n",
      "memory usage: 3.2+ MB\n"
     ]
    }
   ],
   "source": [
    "df_internet.info()"
   ]
  },
  {
   "cell_type": "code",
   "execution_count": 19,
   "metadata": {
    "id": "9r3x_XLw0q1C",
    "trusted": true
   },
   "outputs": [
    {
     "data": {
      "text/html": [
       "<div>\n",
       "<style scoped>\n",
       "    .dataframe tbody tr th:only-of-type {\n",
       "        vertical-align: middle;\n",
       "    }\n",
       "\n",
       "    .dataframe tbody tr th {\n",
       "        vertical-align: top;\n",
       "    }\n",
       "\n",
       "    .dataframe thead th {\n",
       "        text-align: right;\n",
       "    }\n",
       "</style>\n",
       "<table border=\"1\" class=\"dataframe\">\n",
       "  <thead>\n",
       "    <tr style=\"text-align: right;\">\n",
       "      <th></th>\n",
       "      <th>id</th>\n",
       "      <th>user_id</th>\n",
       "      <th>session_date</th>\n",
       "      <th>mb_used</th>\n",
       "    </tr>\n",
       "  </thead>\n",
       "  <tbody>\n",
       "    <tr>\n",
       "      <th>39378</th>\n",
       "      <td>1176_199</td>\n",
       "      <td>1176</td>\n",
       "      <td>2018-11-19</td>\n",
       "      <td>618.82</td>\n",
       "    </tr>\n",
       "    <tr>\n",
       "      <th>18585</th>\n",
       "      <td>1082_331</td>\n",
       "      <td>1082</td>\n",
       "      <td>2018-06-19</td>\n",
       "      <td>717.43</td>\n",
       "    </tr>\n",
       "    <tr>\n",
       "      <th>96235</th>\n",
       "      <td>1450_31</td>\n",
       "      <td>1450</td>\n",
       "      <td>2018-12-13</td>\n",
       "      <td>149.05</td>\n",
       "    </tr>\n",
       "    <tr>\n",
       "      <th>50082</th>\n",
       "      <td>1223_281</td>\n",
       "      <td>1223</td>\n",
       "      <td>2018-10-19</td>\n",
       "      <td>0.00</td>\n",
       "    </tr>\n",
       "    <tr>\n",
       "      <th>82420</th>\n",
       "      <td>1385_171</td>\n",
       "      <td>1385</td>\n",
       "      <td>2018-07-06</td>\n",
       "      <td>328.29</td>\n",
       "    </tr>\n",
       "    <tr>\n",
       "      <th>46849</th>\n",
       "      <td>1209_62</td>\n",
       "      <td>1209</td>\n",
       "      <td>2018-10-01</td>\n",
       "      <td>249.33</td>\n",
       "    </tr>\n",
       "    <tr>\n",
       "      <th>23036</th>\n",
       "      <td>1106_289</td>\n",
       "      <td>1106</td>\n",
       "      <td>2018-11-11</td>\n",
       "      <td>636.74</td>\n",
       "    </tr>\n",
       "    <tr>\n",
       "      <th>76605</th>\n",
       "      <td>1359_289</td>\n",
       "      <td>1359</td>\n",
       "      <td>2018-05-23</td>\n",
       "      <td>480.86</td>\n",
       "    </tr>\n",
       "    <tr>\n",
       "      <th>60052</th>\n",
       "      <td>1270_310</td>\n",
       "      <td>1270</td>\n",
       "      <td>2018-12-16</td>\n",
       "      <td>0.00</td>\n",
       "    </tr>\n",
       "    <tr>\n",
       "      <th>15141</th>\n",
       "      <td>1068_257</td>\n",
       "      <td>1068</td>\n",
       "      <td>2018-07-24</td>\n",
       "      <td>578.77</td>\n",
       "    </tr>\n",
       "  </tbody>\n",
       "</table>\n",
       "</div>"
      ],
      "text/plain": [
       "             id  user_id session_date  mb_used\n",
       "39378  1176_199     1176   2018-11-19   618.82\n",
       "18585  1082_331     1082   2018-06-19   717.43\n",
       "96235   1450_31     1450   2018-12-13   149.05\n",
       "50082  1223_281     1223   2018-10-19     0.00\n",
       "82420  1385_171     1385   2018-07-06   328.29\n",
       "46849   1209_62     1209   2018-10-01   249.33\n",
       "23036  1106_289     1106   2018-11-11   636.74\n",
       "76605  1359_289     1359   2018-05-23   480.86\n",
       "60052  1270_310     1270   2018-12-16     0.00\n",
       "15141  1068_257     1068   2018-07-24   578.77"
      ]
     },
     "execution_count": 19,
     "metadata": {},
     "output_type": "execute_result"
    }
   ],
   "source": [
    "df_internet.sample(10)"
   ]
  },
  {
   "cell_type": "markdown",
   "metadata": {
    "id": "yA0tkPFg0q1D"
   },
   "source": [
    "Changes"
   ]
  },
  {
   "cell_type": "code",
   "execution_count": 20,
   "metadata": {
    "id": "zVeanzdd0q1E",
    "trusted": true
   },
   "outputs": [
    {
     "name": "stdout",
     "output_type": "stream",
     "text": [
      "<class 'pandas.core.frame.DataFrame'>\n",
      "RangeIndex: 104825 entries, 0 to 104824\n",
      "Data columns (total 4 columns):\n",
      " #   Column        Non-Null Count   Dtype         \n",
      "---  ------        --------------   -----         \n",
      " 0   id            104825 non-null  object        \n",
      " 1   user_id       104825 non-null  int64         \n",
      " 2   session_date  104825 non-null  datetime64[ns]\n",
      " 3   mb_used       104825 non-null  float64       \n",
      "dtypes: datetime64[ns](1), float64(1), int64(1), object(1)\n",
      "memory usage: 3.2+ MB\n"
     ]
    }
   ],
   "source": [
    "# Convert 'session_date' to datetime format\n",
    "df_internet['session_date'] = pd.to_datetime(df_internet['session_date'])\n",
    "df_internet.info()"
   ]
  },
  {
   "cell_type": "markdown",
   "metadata": {
    "id": "e8_mLF4a0q1E"
   },
   "source": [
    "Enhance the dataset with additional features/information"
   ]
  },
  {
   "cell_type": "code",
   "execution_count": 21,
   "metadata": {
    "id": "ESiYPIEK0q1E",
    "trusted": true
   },
   "outputs": [
    {
     "data": {
      "text/html": [
       "<div>\n",
       "<style scoped>\n",
       "    .dataframe tbody tr th:only-of-type {\n",
       "        vertical-align: middle;\n",
       "    }\n",
       "\n",
       "    .dataframe tbody tr th {\n",
       "        vertical-align: top;\n",
       "    }\n",
       "\n",
       "    .dataframe thead th {\n",
       "        text-align: right;\n",
       "    }\n",
       "</style>\n",
       "<table border=\"1\" class=\"dataframe\">\n",
       "  <thead>\n",
       "    <tr style=\"text-align: right;\">\n",
       "      <th></th>\n",
       "      <th>id</th>\n",
       "      <th>user_id</th>\n",
       "      <th>session_date</th>\n",
       "      <th>mb_used</th>\n",
       "      <th>month</th>\n",
       "    </tr>\n",
       "  </thead>\n",
       "  <tbody>\n",
       "    <tr>\n",
       "      <th>0</th>\n",
       "      <td>1000_13</td>\n",
       "      <td>1000</td>\n",
       "      <td>2018-12-29</td>\n",
       "      <td>89.86</td>\n",
       "      <td>12</td>\n",
       "    </tr>\n",
       "    <tr>\n",
       "      <th>1</th>\n",
       "      <td>1000_204</td>\n",
       "      <td>1000</td>\n",
       "      <td>2018-12-31</td>\n",
       "      <td>0.00</td>\n",
       "      <td>12</td>\n",
       "    </tr>\n",
       "    <tr>\n",
       "      <th>2</th>\n",
       "      <td>1000_379</td>\n",
       "      <td>1000</td>\n",
       "      <td>2018-12-28</td>\n",
       "      <td>660.40</td>\n",
       "      <td>12</td>\n",
       "    </tr>\n",
       "    <tr>\n",
       "      <th>3</th>\n",
       "      <td>1000_413</td>\n",
       "      <td>1000</td>\n",
       "      <td>2018-12-26</td>\n",
       "      <td>270.99</td>\n",
       "      <td>12</td>\n",
       "    </tr>\n",
       "    <tr>\n",
       "      <th>4</th>\n",
       "      <td>1000_442</td>\n",
       "      <td>1000</td>\n",
       "      <td>2018-12-27</td>\n",
       "      <td>880.22</td>\n",
       "      <td>12</td>\n",
       "    </tr>\n",
       "    <tr>\n",
       "      <th>...</th>\n",
       "      <td>...</td>\n",
       "      <td>...</td>\n",
       "      <td>...</td>\n",
       "      <td>...</td>\n",
       "      <td>...</td>\n",
       "    </tr>\n",
       "    <tr>\n",
       "      <th>104820</th>\n",
       "      <td>1499_215</td>\n",
       "      <td>1499</td>\n",
       "      <td>2018-10-20</td>\n",
       "      <td>218.06</td>\n",
       "      <td>10</td>\n",
       "    </tr>\n",
       "    <tr>\n",
       "      <th>104821</th>\n",
       "      <td>1499_216</td>\n",
       "      <td>1499</td>\n",
       "      <td>2018-12-30</td>\n",
       "      <td>304.72</td>\n",
       "      <td>12</td>\n",
       "    </tr>\n",
       "    <tr>\n",
       "      <th>104822</th>\n",
       "      <td>1499_217</td>\n",
       "      <td>1499</td>\n",
       "      <td>2018-09-22</td>\n",
       "      <td>292.75</td>\n",
       "      <td>9</td>\n",
       "    </tr>\n",
       "    <tr>\n",
       "      <th>104823</th>\n",
       "      <td>1499_218</td>\n",
       "      <td>1499</td>\n",
       "      <td>2018-12-07</td>\n",
       "      <td>0.00</td>\n",
       "      <td>12</td>\n",
       "    </tr>\n",
       "    <tr>\n",
       "      <th>104824</th>\n",
       "      <td>1499_219</td>\n",
       "      <td>1499</td>\n",
       "      <td>2018-12-24</td>\n",
       "      <td>758.31</td>\n",
       "      <td>12</td>\n",
       "    </tr>\n",
       "  </tbody>\n",
       "</table>\n",
       "<p>104825 rows × 5 columns</p>\n",
       "</div>"
      ],
      "text/plain": [
       "              id  user_id session_date  mb_used  month\n",
       "0        1000_13     1000   2018-12-29    89.86     12\n",
       "1       1000_204     1000   2018-12-31     0.00     12\n",
       "2       1000_379     1000   2018-12-28   660.40     12\n",
       "3       1000_413     1000   2018-12-26   270.99     12\n",
       "4       1000_442     1000   2018-12-27   880.22     12\n",
       "...          ...      ...          ...      ...    ...\n",
       "104820  1499_215     1499   2018-10-20   218.06     10\n",
       "104821  1499_216     1499   2018-12-30   304.72     12\n",
       "104822  1499_217     1499   2018-09-22   292.75      9\n",
       "104823  1499_218     1499   2018-12-07     0.00     12\n",
       "104824  1499_219     1499   2018-12-24   758.31     12\n",
       "\n",
       "[104825 rows x 5 columns]"
      ]
     },
     "execution_count": 21,
     "metadata": {},
     "output_type": "execute_result"
    }
   ],
   "source": [
    "# Extract month from 'session_date' and create a new column\n",
    "df_internet['month'] = df_internet['session_date'].dt.month\n",
    "df_internet"
   ]
  },
  {
   "cell_type": "markdown",
   "metadata": {
    "id": "hMR1tP5d0q1F"
   },
   "source": [
    "### Agregar datos por usuario\n",
    "Now that the data is clean, aggregate the data by user and by time period so that there is only one record per user per time period. This will make further analysis much easier"
   ]
  },
  {
   "cell_type": "code",
   "execution_count": null,
   "metadata": {
    "id": "A332cedB0q1G",
    "trusted": true
   },
   "outputs": [
    {
     "data": {
      "text/plain": [
       "month  user_id\n",
       "1      1042       18\n",
       "       1077       42\n",
       "       1185       23\n",
       "       1196       42\n",
       "       1214        5\n",
       "                  ..\n",
       "12     1495       65\n",
       "       1496       40\n",
       "       1497       54\n",
       "       1498       39\n",
       "       1499       65\n",
       "Name: id, Length: 2258, dtype: int64"
      ]
     },
     "execution_count": 22,
     "metadata": {},
     "output_type": "execute_result"
    }
   ],
   "source": [
    "#calculate the number of calls by month for user_id\n",
    "calls_by_user = df_calls.groupby(['month', 'user_id'])['id'].count()\n",
    "print(calls_by_user)"
   ]
  },
  {
   "cell_type": "code",
   "execution_count": 23,
   "metadata": {
    "id": "aw2cmuql0q1G",
    "trusted": true
   },
   "outputs": [
    {
     "data": {
      "text/plain": [
       "month  user_id\n",
       "1      1042       106.83\n",
       "       1077       275.07\n",
       "       1185       170.29\n",
       "       1196       272.56\n",
       "       1214        14.73\n",
       "                   ...  \n",
       "12     1495       467.47\n",
       "       1496       278.61\n",
       "       1497       276.53\n",
       "       1498       324.77\n",
       "       1499       468.10\n",
       "Name: duration, Length: 2258, dtype: float64"
      ]
     },
     "metadata": {},
     "output_type": "display_data"
    }
   ],
   "source": [
    "#calculate the total duration of calls by month and user_id\n",
    "minutes_by_user = df_calls.groupby(['month', 'user_id'])['duration'].sum()\n",
    "display(minutes_by_user)\n"
   ]
  },
  {
   "cell_type": "code",
   "execution_count": 24,
   "metadata": {
    "id": "CcQvNHn60q1G",
    "trusted": true
   },
   "outputs": [
    {
     "name": "stdout",
     "output_type": "stream",
     "text": [
      "month  user_id\n",
      "8      1079       71\n",
      "11     1098       89\n",
      "9      1451       54\n",
      "12     1425       28\n",
      "11     1484        1\n",
      "8      1280       65\n",
      "9      1320       60\n",
      "12     1344       14\n",
      "       1464       27\n",
      "4      1445       11\n",
      "Name: id, dtype: int64\n"
     ]
    }
   ],
   "source": [
    "#calculate the total internet usage by month for user_id\n",
    "messages_by_user = df_messages.groupby(['month', 'user_id'])['id'].count()\n",
    "print(messages_by_user.sample(10))\n"
   ]
  },
  {
   "cell_type": "code",
   "execution_count": null,
   "metadata": {
    "id": "H1AqN2eG0q1H",
    "trusted": true
   },
   "outputs": [
    {
     "name": "stdout",
     "output_type": "stream",
     "text": [
      "month  user_id\n",
      "1      1042        1854.93\n",
      "       1077       10635.64\n",
      "       1185        6812.77\n",
      "       1196        8908.61\n",
      "       1214        1315.35\n",
      "                    ...   \n",
      "12     1495       24097.40\n",
      "       1496       16438.99\n",
      "       1497       11106.55\n",
      "       1498       23137.69\n",
      "       1499       22059.21\n",
      "Name: mb_used, Length: 2277, dtype: float64\n"
     ]
    }
   ],
   "source": [
    "#calculate the total internet usage by month for user_id\n",
    "internet_by_user = df_internet.groupby(['month', 'user_id'])['mb_used'].sum()\n",
    "print(internet_by_user)"
   ]
  },
  {
   "cell_type": "markdown",
   "metadata": {
    "id": "VDfYXnj80q1H"
   },
   "source": [
    "Put the aggregated data together in a DataFrame so that there is one record that represents what a unique user consumed in a given month"
   ]
  },
  {
   "cell_type": "code",
   "execution_count": null,
   "metadata": {
    "id": "FW99ykyf0q1H",
    "trusted": true
   },
   "outputs": [],
   "source": [
    "#merge the calls and minutes dataframes on user_id and month\n",
    "merge_1 = pd.merge(\n",
    "    calls_by_user,\n",
    "    minutes_by_user,\n",
    "    left_index=True,\n",
    "    right_index=True\n",
    ")\n",
    "#rename the columns for clarity\n",
    "merge_1.columns = ['calls_count', 'minutes_sum']\n"
   ]
  },
  {
   "cell_type": "code",
   "execution_count": null,
   "metadata": {
    "trusted": true
   },
   "outputs": [
    {
     "data": {
      "text/html": [
       "<div>\n",
       "<style scoped>\n",
       "    .dataframe tbody tr th:only-of-type {\n",
       "        vertical-align: middle;\n",
       "    }\n",
       "\n",
       "    .dataframe tbody tr th {\n",
       "        vertical-align: top;\n",
       "    }\n",
       "\n",
       "    .dataframe thead th {\n",
       "        text-align: right;\n",
       "    }\n",
       "</style>\n",
       "<table border=\"1\" class=\"dataframe\">\n",
       "  <thead>\n",
       "    <tr style=\"text-align: right;\">\n",
       "      <th></th>\n",
       "      <th></th>\n",
       "      <th>calls_count</th>\n",
       "      <th>minutes_sum</th>\n",
       "      <th>message_sent</th>\n",
       "    </tr>\n",
       "    <tr>\n",
       "      <th>month</th>\n",
       "      <th>user_id</th>\n",
       "      <th></th>\n",
       "      <th></th>\n",
       "      <th></th>\n",
       "    </tr>\n",
       "  </thead>\n",
       "  <tbody>\n",
       "    <tr>\n",
       "      <th rowspan=\"5\" valign=\"top\">1</th>\n",
       "      <th>1042</th>\n",
       "      <td>18</td>\n",
       "      <td>106.83</td>\n",
       "      <td>NaN</td>\n",
       "    </tr>\n",
       "    <tr>\n",
       "      <th>1077</th>\n",
       "      <td>42</td>\n",
       "      <td>275.07</td>\n",
       "      <td>37.0</td>\n",
       "    </tr>\n",
       "    <tr>\n",
       "      <th>1185</th>\n",
       "      <td>23</td>\n",
       "      <td>170.29</td>\n",
       "      <td>NaN</td>\n",
       "    </tr>\n",
       "    <tr>\n",
       "      <th>1196</th>\n",
       "      <td>42</td>\n",
       "      <td>272.56</td>\n",
       "      <td>23.0</td>\n",
       "    </tr>\n",
       "    <tr>\n",
       "      <th>1214</th>\n",
       "      <td>5</td>\n",
       "      <td>14.73</td>\n",
       "      <td>2.0</td>\n",
       "    </tr>\n",
       "    <tr>\n",
       "      <th>...</th>\n",
       "      <th>...</th>\n",
       "      <td>...</td>\n",
       "      <td>...</td>\n",
       "      <td>...</td>\n",
       "    </tr>\n",
       "    <tr>\n",
       "      <th rowspan=\"5\" valign=\"top\">12</th>\n",
       "      <th>1495</th>\n",
       "      <td>65</td>\n",
       "      <td>467.47</td>\n",
       "      <td>NaN</td>\n",
       "    </tr>\n",
       "    <tr>\n",
       "      <th>1496</th>\n",
       "      <td>40</td>\n",
       "      <td>278.61</td>\n",
       "      <td>11.0</td>\n",
       "    </tr>\n",
       "    <tr>\n",
       "      <th>1497</th>\n",
       "      <td>54</td>\n",
       "      <td>276.53</td>\n",
       "      <td>50.0</td>\n",
       "    </tr>\n",
       "    <tr>\n",
       "      <th>1498</th>\n",
       "      <td>39</td>\n",
       "      <td>324.77</td>\n",
       "      <td>NaN</td>\n",
       "    </tr>\n",
       "    <tr>\n",
       "      <th>1499</th>\n",
       "      <td>65</td>\n",
       "      <td>468.10</td>\n",
       "      <td>NaN</td>\n",
       "    </tr>\n",
       "  </tbody>\n",
       "</table>\n",
       "<p>2258 rows × 3 columns</p>\n",
       "</div>"
      ],
      "text/plain": [
       "               calls_count  minutes_sum  message_sent\n",
       "month user_id                                        \n",
       "1     1042              18       106.83           NaN\n",
       "      1077              42       275.07          37.0\n",
       "      1185              23       170.29           NaN\n",
       "      1196              42       272.56          23.0\n",
       "      1214               5        14.73           2.0\n",
       "...                    ...          ...           ...\n",
       "12    1495              65       467.47           NaN\n",
       "      1496              40       278.61          11.0\n",
       "      1497              54       276.53          50.0\n",
       "      1498              39       324.77           NaN\n",
       "      1499              65       468.10           NaN\n",
       "\n",
       "[2258 rows x 3 columns]"
      ]
     },
     "execution_count": 27,
     "metadata": {},
     "output_type": "execute_result"
    }
   ],
   "source": [
    "#merge the internet data with the previous merge on user_id and month\n",
    "merge_2 = pd.merge(\n",
    "    merge_1,\n",
    "    messages_by_user,\n",
    "    left_index=True,\n",
    "    right_index=True,\n",
    "    how='left'\n",
    ")\n",
    "merge_2.columns = ['calls_count', 'minutes_sum', 'message_sent'] \n",
    "merge_2"
   ]
  },
  {
   "cell_type": "code",
   "execution_count": null,
   "metadata": {
    "trusted": true
   },
   "outputs": [
    {
     "data": {
      "text/html": [
       "<div>\n",
       "<style scoped>\n",
       "    .dataframe tbody tr th:only-of-type {\n",
       "        vertical-align: middle;\n",
       "    }\n",
       "\n",
       "    .dataframe tbody tr th {\n",
       "        vertical-align: top;\n",
       "    }\n",
       "\n",
       "    .dataframe thead th {\n",
       "        text-align: right;\n",
       "    }\n",
       "</style>\n",
       "<table border=\"1\" class=\"dataframe\">\n",
       "  <thead>\n",
       "    <tr style=\"text-align: right;\">\n",
       "      <th></th>\n",
       "      <th></th>\n",
       "      <th>calls_count</th>\n",
       "      <th>minutes_sum</th>\n",
       "      <th>message_sent</th>\n",
       "      <th>internet_used</th>\n",
       "    </tr>\n",
       "    <tr>\n",
       "      <th>month</th>\n",
       "      <th>user_id</th>\n",
       "      <th></th>\n",
       "      <th></th>\n",
       "      <th></th>\n",
       "      <th></th>\n",
       "    </tr>\n",
       "  </thead>\n",
       "  <tbody>\n",
       "    <tr>\n",
       "      <th rowspan=\"5\" valign=\"top\">1</th>\n",
       "      <th>1042</th>\n",
       "      <td>18</td>\n",
       "      <td>106.83</td>\n",
       "      <td>NaN</td>\n",
       "      <td>1854.93</td>\n",
       "    </tr>\n",
       "    <tr>\n",
       "      <th>1077</th>\n",
       "      <td>42</td>\n",
       "      <td>275.07</td>\n",
       "      <td>37.0</td>\n",
       "      <td>10635.64</td>\n",
       "    </tr>\n",
       "    <tr>\n",
       "      <th>1185</th>\n",
       "      <td>23</td>\n",
       "      <td>170.29</td>\n",
       "      <td>NaN</td>\n",
       "      <td>6812.77</td>\n",
       "    </tr>\n",
       "    <tr>\n",
       "      <th>1196</th>\n",
       "      <td>42</td>\n",
       "      <td>272.56</td>\n",
       "      <td>23.0</td>\n",
       "      <td>8908.61</td>\n",
       "    </tr>\n",
       "    <tr>\n",
       "      <th>1214</th>\n",
       "      <td>5</td>\n",
       "      <td>14.73</td>\n",
       "      <td>2.0</td>\n",
       "      <td>1315.35</td>\n",
       "    </tr>\n",
       "    <tr>\n",
       "      <th>...</th>\n",
       "      <th>...</th>\n",
       "      <td>...</td>\n",
       "      <td>...</td>\n",
       "      <td>...</td>\n",
       "      <td>...</td>\n",
       "    </tr>\n",
       "    <tr>\n",
       "      <th rowspan=\"5\" valign=\"top\">12</th>\n",
       "      <th>1495</th>\n",
       "      <td>65</td>\n",
       "      <td>467.47</td>\n",
       "      <td>NaN</td>\n",
       "      <td>24097.40</td>\n",
       "    </tr>\n",
       "    <tr>\n",
       "      <th>1496</th>\n",
       "      <td>40</td>\n",
       "      <td>278.61</td>\n",
       "      <td>11.0</td>\n",
       "      <td>16438.99</td>\n",
       "    </tr>\n",
       "    <tr>\n",
       "      <th>1497</th>\n",
       "      <td>54</td>\n",
       "      <td>276.53</td>\n",
       "      <td>50.0</td>\n",
       "      <td>11106.55</td>\n",
       "    </tr>\n",
       "    <tr>\n",
       "      <th>1498</th>\n",
       "      <td>39</td>\n",
       "      <td>324.77</td>\n",
       "      <td>NaN</td>\n",
       "      <td>23137.69</td>\n",
       "    </tr>\n",
       "    <tr>\n",
       "      <th>1499</th>\n",
       "      <td>65</td>\n",
       "      <td>468.10</td>\n",
       "      <td>NaN</td>\n",
       "      <td>22059.21</td>\n",
       "    </tr>\n",
       "  </tbody>\n",
       "</table>\n",
       "<p>2258 rows × 4 columns</p>\n",
       "</div>"
      ],
      "text/plain": [
       "               calls_count  minutes_sum  message_sent  internet_used\n",
       "month user_id                                                       \n",
       "1     1042              18       106.83           NaN        1854.93\n",
       "      1077              42       275.07          37.0       10635.64\n",
       "      1185              23       170.29           NaN        6812.77\n",
       "      1196              42       272.56          23.0        8908.61\n",
       "      1214               5        14.73           2.0        1315.35\n",
       "...                    ...          ...           ...            ...\n",
       "12    1495              65       467.47           NaN       24097.40\n",
       "      1496              40       278.61          11.0       16438.99\n",
       "      1497              54       276.53          50.0       11106.55\n",
       "      1498              39       324.77           NaN       23137.69\n",
       "      1499              65       468.10           NaN       22059.21\n",
       "\n",
       "[2258 rows x 4 columns]"
      ]
     },
     "execution_count": 28,
     "metadata": {},
     "output_type": "execute_result"
    }
   ],
   "source": [
    "#merge the messages data with the previous merge on user_id and month\n",
    "merge_3 = pd.merge(\n",
    "    merge_2, \n",
    "    internet_by_user,\n",
    "    left_index=True,\n",
    "    right_index=True,\n",
    "    how='left'\n",
    ") \n",
    "#rename the columns for clarity\n",
    "\n",
    "merge_3.columns = ['calls_count', 'minutes_sum', 'message_sent', 'internet_used']\n",
    "merge_3"
   ]
  },
  {
   "cell_type": "code",
   "execution_count": null,
   "metadata": {
    "trusted": true
   },
   "outputs": [],
   "source": [
    "# Fill NaN values in 'message_sent' with 0, as it indicates no messages sent\n",
    "merge_3['message_sent'] = merge_3['message_sent'].fillna(0)\n",
    "# Reset the index to make it easier to work with\n",
    "merge_3 = merge_3.reset_index()\n",
    "\n",
    "merge_3"
   ]
  },
  {
   "cell_type": "code",
   "execution_count": null,
   "metadata": {
    "trusted": true
   },
   "outputs": [
    {
     "data": {
      "text/html": [
       "<div>\n",
       "<style scoped>\n",
       "    .dataframe tbody tr th:only-of-type {\n",
       "        vertical-align: middle;\n",
       "    }\n",
       "\n",
       "    .dataframe tbody tr th {\n",
       "        vertical-align: top;\n",
       "    }\n",
       "\n",
       "    .dataframe thead th {\n",
       "        text-align: right;\n",
       "    }\n",
       "</style>\n",
       "<table border=\"1\" class=\"dataframe\">\n",
       "  <thead>\n",
       "    <tr style=\"text-align: right;\">\n",
       "      <th></th>\n",
       "      <th>month</th>\n",
       "      <th>user_id</th>\n",
       "      <th>calls_count</th>\n",
       "      <th>minutes_sum</th>\n",
       "      <th>message_sent</th>\n",
       "      <th>internet_used</th>\n",
       "      <th>plan</th>\n",
       "    </tr>\n",
       "  </thead>\n",
       "  <tbody>\n",
       "    <tr>\n",
       "      <th>0</th>\n",
       "      <td>1</td>\n",
       "      <td>1042</td>\n",
       "      <td>18</td>\n",
       "      <td>106.83</td>\n",
       "      <td>0.0</td>\n",
       "      <td>1854.93</td>\n",
       "      <td>surf</td>\n",
       "    </tr>\n",
       "    <tr>\n",
       "      <th>1</th>\n",
       "      <td>1</td>\n",
       "      <td>1077</td>\n",
       "      <td>42</td>\n",
       "      <td>275.07</td>\n",
       "      <td>37.0</td>\n",
       "      <td>10635.64</td>\n",
       "      <td>ultimate</td>\n",
       "    </tr>\n",
       "    <tr>\n",
       "      <th>2</th>\n",
       "      <td>1</td>\n",
       "      <td>1185</td>\n",
       "      <td>23</td>\n",
       "      <td>170.29</td>\n",
       "      <td>0.0</td>\n",
       "      <td>6812.77</td>\n",
       "      <td>ultimate</td>\n",
       "    </tr>\n",
       "    <tr>\n",
       "      <th>3</th>\n",
       "      <td>1</td>\n",
       "      <td>1196</td>\n",
       "      <td>42</td>\n",
       "      <td>272.56</td>\n",
       "      <td>23.0</td>\n",
       "      <td>8908.61</td>\n",
       "      <td>ultimate</td>\n",
       "    </tr>\n",
       "    <tr>\n",
       "      <th>4</th>\n",
       "      <td>1</td>\n",
       "      <td>1214</td>\n",
       "      <td>5</td>\n",
       "      <td>14.73</td>\n",
       "      <td>2.0</td>\n",
       "      <td>1315.35</td>\n",
       "      <td>ultimate</td>\n",
       "    </tr>\n",
       "    <tr>\n",
       "      <th>...</th>\n",
       "      <td>...</td>\n",
       "      <td>...</td>\n",
       "      <td>...</td>\n",
       "      <td>...</td>\n",
       "      <td>...</td>\n",
       "      <td>...</td>\n",
       "      <td>...</td>\n",
       "    </tr>\n",
       "    <tr>\n",
       "      <th>2253</th>\n",
       "      <td>12</td>\n",
       "      <td>1495</td>\n",
       "      <td>65</td>\n",
       "      <td>467.47</td>\n",
       "      <td>0.0</td>\n",
       "      <td>24097.40</td>\n",
       "      <td>surf</td>\n",
       "    </tr>\n",
       "    <tr>\n",
       "      <th>2254</th>\n",
       "      <td>12</td>\n",
       "      <td>1496</td>\n",
       "      <td>40</td>\n",
       "      <td>278.61</td>\n",
       "      <td>11.0</td>\n",
       "      <td>16438.99</td>\n",
       "      <td>surf</td>\n",
       "    </tr>\n",
       "    <tr>\n",
       "      <th>2255</th>\n",
       "      <td>12</td>\n",
       "      <td>1497</td>\n",
       "      <td>54</td>\n",
       "      <td>276.53</td>\n",
       "      <td>50.0</td>\n",
       "      <td>11106.55</td>\n",
       "      <td>ultimate</td>\n",
       "    </tr>\n",
       "    <tr>\n",
       "      <th>2256</th>\n",
       "      <td>12</td>\n",
       "      <td>1498</td>\n",
       "      <td>39</td>\n",
       "      <td>324.77</td>\n",
       "      <td>0.0</td>\n",
       "      <td>23137.69</td>\n",
       "      <td>surf</td>\n",
       "    </tr>\n",
       "    <tr>\n",
       "      <th>2257</th>\n",
       "      <td>12</td>\n",
       "      <td>1499</td>\n",
       "      <td>65</td>\n",
       "      <td>468.10</td>\n",
       "      <td>0.0</td>\n",
       "      <td>22059.21</td>\n",
       "      <td>surf</td>\n",
       "    </tr>\n",
       "  </tbody>\n",
       "</table>\n",
       "<p>2258 rows × 7 columns</p>\n",
       "</div>"
      ],
      "text/plain": [
       "      month  user_id  calls_count  minutes_sum  message_sent  internet_used  \\\n",
       "0         1     1042           18       106.83           0.0        1854.93   \n",
       "1         1     1077           42       275.07          37.0       10635.64   \n",
       "2         1     1185           23       170.29           0.0        6812.77   \n",
       "3         1     1196           42       272.56          23.0        8908.61   \n",
       "4         1     1214            5        14.73           2.0        1315.35   \n",
       "...     ...      ...          ...          ...           ...            ...   \n",
       "2253     12     1495           65       467.47           0.0       24097.40   \n",
       "2254     12     1496           40       278.61          11.0       16438.99   \n",
       "2255     12     1497           54       276.53          50.0       11106.55   \n",
       "2256     12     1498           39       324.77           0.0       23137.69   \n",
       "2257     12     1499           65       468.10           0.0       22059.21   \n",
       "\n",
       "          plan  \n",
       "0         surf  \n",
       "1     ultimate  \n",
       "2     ultimate  \n",
       "3     ultimate  \n",
       "4     ultimate  \n",
       "...        ...  \n",
       "2253      surf  \n",
       "2254      surf  \n",
       "2255  ultimate  \n",
       "2256      surf  \n",
       "2257      surf  \n",
       "\n",
       "[2258 rows x 7 columns]"
      ]
     },
     "execution_count": 32,
     "metadata": {},
     "output_type": "execute_result"
    }
   ],
   "source": [
    "# add the user plan information to the merged DataFrame\n",
    "merge_4 = pd.merge(\n",
    "    merge_3, \n",
    "    user_plan,\n",
    "     on='user_id',\n",
    "    how='left'\n",
    ") \n",
    "merge_4"
   ]
  },
  {
   "cell_type": "code",
   "execution_count": null,
   "metadata": {
    "trusted": true
   },
   "outputs": [
    {
     "data": {
      "text/html": [
       "<div>\n",
       "<style scoped>\n",
       "    .dataframe tbody tr th:only-of-type {\n",
       "        vertical-align: middle;\n",
       "    }\n",
       "\n",
       "    .dataframe tbody tr th {\n",
       "        vertical-align: top;\n",
       "    }\n",
       "\n",
       "    .dataframe thead th {\n",
       "        text-align: right;\n",
       "    }\n",
       "</style>\n",
       "<table border=\"1\" class=\"dataframe\">\n",
       "  <thead>\n",
       "    <tr style=\"text-align: right;\">\n",
       "      <th></th>\n",
       "      <th>month</th>\n",
       "      <th>user_id</th>\n",
       "      <th>calls_count</th>\n",
       "      <th>minutes_sum</th>\n",
       "      <th>message_sent</th>\n",
       "      <th>internet_used</th>\n",
       "      <th>plan</th>\n",
       "      <th>messages_included</th>\n",
       "      <th>mb_per_month_included</th>\n",
       "      <th>minutes_included</th>\n",
       "      <th>usd_monthly_pay</th>\n",
       "      <th>usd_per_gb</th>\n",
       "      <th>usd_per_message</th>\n",
       "      <th>usd_per_minute</th>\n",
       "      <th>plan_name</th>\n",
       "    </tr>\n",
       "  </thead>\n",
       "  <tbody>\n",
       "    <tr>\n",
       "      <th>0</th>\n",
       "      <td>1</td>\n",
       "      <td>1042</td>\n",
       "      <td>18</td>\n",
       "      <td>106.83</td>\n",
       "      <td>0.0</td>\n",
       "      <td>1854.93</td>\n",
       "      <td>surf</td>\n",
       "      <td>50</td>\n",
       "      <td>15360</td>\n",
       "      <td>500</td>\n",
       "      <td>20</td>\n",
       "      <td>10</td>\n",
       "      <td>0.03</td>\n",
       "      <td>0.03</td>\n",
       "      <td>surf</td>\n",
       "    </tr>\n",
       "    <tr>\n",
       "      <th>1</th>\n",
       "      <td>1</td>\n",
       "      <td>1077</td>\n",
       "      <td>42</td>\n",
       "      <td>275.07</td>\n",
       "      <td>37.0</td>\n",
       "      <td>10635.64</td>\n",
       "      <td>ultimate</td>\n",
       "      <td>1000</td>\n",
       "      <td>30720</td>\n",
       "      <td>3000</td>\n",
       "      <td>70</td>\n",
       "      <td>7</td>\n",
       "      <td>0.01</td>\n",
       "      <td>0.01</td>\n",
       "      <td>ultimate</td>\n",
       "    </tr>\n",
       "    <tr>\n",
       "      <th>2</th>\n",
       "      <td>1</td>\n",
       "      <td>1185</td>\n",
       "      <td>23</td>\n",
       "      <td>170.29</td>\n",
       "      <td>0.0</td>\n",
       "      <td>6812.77</td>\n",
       "      <td>ultimate</td>\n",
       "      <td>1000</td>\n",
       "      <td>30720</td>\n",
       "      <td>3000</td>\n",
       "      <td>70</td>\n",
       "      <td>7</td>\n",
       "      <td>0.01</td>\n",
       "      <td>0.01</td>\n",
       "      <td>ultimate</td>\n",
       "    </tr>\n",
       "    <tr>\n",
       "      <th>3</th>\n",
       "      <td>1</td>\n",
       "      <td>1196</td>\n",
       "      <td>42</td>\n",
       "      <td>272.56</td>\n",
       "      <td>23.0</td>\n",
       "      <td>8908.61</td>\n",
       "      <td>ultimate</td>\n",
       "      <td>1000</td>\n",
       "      <td>30720</td>\n",
       "      <td>3000</td>\n",
       "      <td>70</td>\n",
       "      <td>7</td>\n",
       "      <td>0.01</td>\n",
       "      <td>0.01</td>\n",
       "      <td>ultimate</td>\n",
       "    </tr>\n",
       "    <tr>\n",
       "      <th>4</th>\n",
       "      <td>1</td>\n",
       "      <td>1214</td>\n",
       "      <td>5</td>\n",
       "      <td>14.73</td>\n",
       "      <td>2.0</td>\n",
       "      <td>1315.35</td>\n",
       "      <td>ultimate</td>\n",
       "      <td>1000</td>\n",
       "      <td>30720</td>\n",
       "      <td>3000</td>\n",
       "      <td>70</td>\n",
       "      <td>7</td>\n",
       "      <td>0.01</td>\n",
       "      <td>0.01</td>\n",
       "      <td>ultimate</td>\n",
       "    </tr>\n",
       "    <tr>\n",
       "      <th>...</th>\n",
       "      <td>...</td>\n",
       "      <td>...</td>\n",
       "      <td>...</td>\n",
       "      <td>...</td>\n",
       "      <td>...</td>\n",
       "      <td>...</td>\n",
       "      <td>...</td>\n",
       "      <td>...</td>\n",
       "      <td>...</td>\n",
       "      <td>...</td>\n",
       "      <td>...</td>\n",
       "      <td>...</td>\n",
       "      <td>...</td>\n",
       "      <td>...</td>\n",
       "      <td>...</td>\n",
       "    </tr>\n",
       "    <tr>\n",
       "      <th>2253</th>\n",
       "      <td>12</td>\n",
       "      <td>1495</td>\n",
       "      <td>65</td>\n",
       "      <td>467.47</td>\n",
       "      <td>0.0</td>\n",
       "      <td>24097.40</td>\n",
       "      <td>surf</td>\n",
       "      <td>50</td>\n",
       "      <td>15360</td>\n",
       "      <td>500</td>\n",
       "      <td>20</td>\n",
       "      <td>10</td>\n",
       "      <td>0.03</td>\n",
       "      <td>0.03</td>\n",
       "      <td>surf</td>\n",
       "    </tr>\n",
       "    <tr>\n",
       "      <th>2254</th>\n",
       "      <td>12</td>\n",
       "      <td>1496</td>\n",
       "      <td>40</td>\n",
       "      <td>278.61</td>\n",
       "      <td>11.0</td>\n",
       "      <td>16438.99</td>\n",
       "      <td>surf</td>\n",
       "      <td>50</td>\n",
       "      <td>15360</td>\n",
       "      <td>500</td>\n",
       "      <td>20</td>\n",
       "      <td>10</td>\n",
       "      <td>0.03</td>\n",
       "      <td>0.03</td>\n",
       "      <td>surf</td>\n",
       "    </tr>\n",
       "    <tr>\n",
       "      <th>2255</th>\n",
       "      <td>12</td>\n",
       "      <td>1497</td>\n",
       "      <td>54</td>\n",
       "      <td>276.53</td>\n",
       "      <td>50.0</td>\n",
       "      <td>11106.55</td>\n",
       "      <td>ultimate</td>\n",
       "      <td>1000</td>\n",
       "      <td>30720</td>\n",
       "      <td>3000</td>\n",
       "      <td>70</td>\n",
       "      <td>7</td>\n",
       "      <td>0.01</td>\n",
       "      <td>0.01</td>\n",
       "      <td>ultimate</td>\n",
       "    </tr>\n",
       "    <tr>\n",
       "      <th>2256</th>\n",
       "      <td>12</td>\n",
       "      <td>1498</td>\n",
       "      <td>39</td>\n",
       "      <td>324.77</td>\n",
       "      <td>0.0</td>\n",
       "      <td>23137.69</td>\n",
       "      <td>surf</td>\n",
       "      <td>50</td>\n",
       "      <td>15360</td>\n",
       "      <td>500</td>\n",
       "      <td>20</td>\n",
       "      <td>10</td>\n",
       "      <td>0.03</td>\n",
       "      <td>0.03</td>\n",
       "      <td>surf</td>\n",
       "    </tr>\n",
       "    <tr>\n",
       "      <th>2257</th>\n",
       "      <td>12</td>\n",
       "      <td>1499</td>\n",
       "      <td>65</td>\n",
       "      <td>468.10</td>\n",
       "      <td>0.0</td>\n",
       "      <td>22059.21</td>\n",
       "      <td>surf</td>\n",
       "      <td>50</td>\n",
       "      <td>15360</td>\n",
       "      <td>500</td>\n",
       "      <td>20</td>\n",
       "      <td>10</td>\n",
       "      <td>0.03</td>\n",
       "      <td>0.03</td>\n",
       "      <td>surf</td>\n",
       "    </tr>\n",
       "  </tbody>\n",
       "</table>\n",
       "<p>2258 rows × 15 columns</p>\n",
       "</div>"
      ],
      "text/plain": [
       "      month  user_id  calls_count  minutes_sum  message_sent  internet_used  \\\n",
       "0         1     1042           18       106.83           0.0        1854.93   \n",
       "1         1     1077           42       275.07          37.0       10635.64   \n",
       "2         1     1185           23       170.29           0.0        6812.77   \n",
       "3         1     1196           42       272.56          23.0        8908.61   \n",
       "4         1     1214            5        14.73           2.0        1315.35   \n",
       "...     ...      ...          ...          ...           ...            ...   \n",
       "2253     12     1495           65       467.47           0.0       24097.40   \n",
       "2254     12     1496           40       278.61          11.0       16438.99   \n",
       "2255     12     1497           54       276.53          50.0       11106.55   \n",
       "2256     12     1498           39       324.77           0.0       23137.69   \n",
       "2257     12     1499           65       468.10           0.0       22059.21   \n",
       "\n",
       "          plan  messages_included  mb_per_month_included  minutes_included  \\\n",
       "0         surf                 50                  15360               500   \n",
       "1     ultimate               1000                  30720              3000   \n",
       "2     ultimate               1000                  30720              3000   \n",
       "3     ultimate               1000                  30720              3000   \n",
       "4     ultimate               1000                  30720              3000   \n",
       "...        ...                ...                    ...               ...   \n",
       "2253      surf                 50                  15360               500   \n",
       "2254      surf                 50                  15360               500   \n",
       "2255  ultimate               1000                  30720              3000   \n",
       "2256      surf                 50                  15360               500   \n",
       "2257      surf                 50                  15360               500   \n",
       "\n",
       "      usd_monthly_pay  usd_per_gb  usd_per_message  usd_per_minute plan_name  \n",
       "0                  20          10             0.03            0.03      surf  \n",
       "1                  70           7             0.01            0.01  ultimate  \n",
       "2                  70           7             0.01            0.01  ultimate  \n",
       "3                  70           7             0.01            0.01  ultimate  \n",
       "4                  70           7             0.01            0.01  ultimate  \n",
       "...               ...         ...              ...             ...       ...  \n",
       "2253               20          10             0.03            0.03      surf  \n",
       "2254               20          10             0.03            0.03      surf  \n",
       "2255               70           7             0.01            0.01  ultimate  \n",
       "2256               20          10             0.03            0.03      surf  \n",
       "2257               20          10             0.03            0.03      surf  \n",
       "\n",
       "[2258 rows x 15 columns]"
      ]
     },
     "execution_count": 33,
     "metadata": {},
     "output_type": "execute_result"
    }
   ],
   "source": [
    "#merge the plans data with the previous merge on user_id and month\n",
    "merge_5 = merge_4.merge(df_plans, \n",
    "                        left_on='plan', \n",
    "                        right_on='plan_name',\n",
    "                        how='left')\n",
    "merge_5"
   ]
  },
  {
   "cell_type": "markdown",
   "metadata": {
    "id": "1IwGo4wg0q1I"
   },
   "source": [
    "###  Calculate monthly revenue per user "
   ]
  },
  {
   "cell_type": "code",
   "execution_count": null,
   "metadata": {
    "id": "5FGCf_c60q1I",
    "trusted": true
   },
   "outputs": [],
   "source": [
    "# calculate the monthly revenue for each user\n",
    "def calc_monthly_revenue(row):\n",
    "    # extract data usage and plan details from the row\n",
    "    plan            = row['plan']  \n",
    "    minutes_used    = row['minutes_sum']\n",
    "    messages_used   = row['message_sent']\n",
    "    mb_used         = row['internet_used']\n",
    "    \n",
    "    #extract the included limits and costs from the plan\n",
    "    monthly_fee     = row['usd_monthly_pay']   \n",
    "    min_incl        = row['minutes_included']   \n",
    "    msg_incl        = row['messages_included'] \n",
    "    mb_incl         = row['mb_per_month_included'] \n",
    "    cost_per_min    = row['usd_per_minute']\n",
    "    cost_per_msg    = row['usd_per_message']\n",
    "    cost_per_gb     = row['usd_per_gb']\n",
    "\n",
    "    #calculate the extra usage\n",
    "    #minutes and messages: with a simple max(0, usage - included)\n",
    "    extra_minutes   = max(0, minutes_used  - min_incl)\n",
    "    extra_messages  = max(0, messages_used - msg_incl)\n",
    "    \n",
    "    # convert MB to GB for data usage\n",
    "    used_gb_total   = math.ceil(mb_used / 1024.0)            \n",
    "    included_gb     = mb_incl / 1024.0                       \n",
    "    extra_gb        = max(0, used_gb_total - included_gb)   \n",
    "    \n",
    "    # costs for extra usage\n",
    "    cost_extra_minutes  = extra_minutes  * cost_per_min\n",
    "    cost_extra_messages = extra_messages * cost_per_msg\n",
    "    cost_extra_gb       = extra_gb       * cost_per_gb\n",
    "    \n",
    "    # total revenue calculation\n",
    "    total_revenue = monthly_fee + cost_extra_minutes + cost_extra_messages + cost_extra_gb\n",
    "    return total_revenue"
   ]
  },
  {
   "cell_type": "code",
   "execution_count": null,
   "metadata": {
    "trusted": true
   },
   "outputs": [],
   "source": [
    "#fill NaN values in 'internet_used' with 0, as it indicates no internet usage\n",
    "merge_5['internet_used'] = merge_5['internet_used'].fillna(0)"
   ]
  },
  {
   "cell_type": "code",
   "execution_count": null,
   "metadata": {
    "trusted": true
   },
   "outputs": [
    {
     "data": {
      "text/html": [
       "<div>\n",
       "<style scoped>\n",
       "    .dataframe tbody tr th:only-of-type {\n",
       "        vertical-align: middle;\n",
       "    }\n",
       "\n",
       "    .dataframe tbody tr th {\n",
       "        vertical-align: top;\n",
       "    }\n",
       "\n",
       "    .dataframe thead th {\n",
       "        text-align: right;\n",
       "    }\n",
       "</style>\n",
       "<table border=\"1\" class=\"dataframe\">\n",
       "  <thead>\n",
       "    <tr style=\"text-align: right;\">\n",
       "      <th></th>\n",
       "      <th>month</th>\n",
       "      <th>user_id</th>\n",
       "      <th>calls_count</th>\n",
       "      <th>minutes_sum</th>\n",
       "      <th>message_sent</th>\n",
       "      <th>internet_used</th>\n",
       "      <th>plan</th>\n",
       "      <th>messages_included</th>\n",
       "      <th>mb_per_month_included</th>\n",
       "      <th>minutes_included</th>\n",
       "      <th>usd_monthly_pay</th>\n",
       "      <th>usd_per_gb</th>\n",
       "      <th>usd_per_message</th>\n",
       "      <th>usd_per_minute</th>\n",
       "      <th>plan_name</th>\n",
       "      <th>monthly_revenue</th>\n",
       "    </tr>\n",
       "  </thead>\n",
       "  <tbody>\n",
       "    <tr>\n",
       "      <th>0</th>\n",
       "      <td>1</td>\n",
       "      <td>1042</td>\n",
       "      <td>18</td>\n",
       "      <td>106.83</td>\n",
       "      <td>0.0</td>\n",
       "      <td>1854.93</td>\n",
       "      <td>surf</td>\n",
       "      <td>50</td>\n",
       "      <td>15360</td>\n",
       "      <td>500</td>\n",
       "      <td>20</td>\n",
       "      <td>10</td>\n",
       "      <td>0.03</td>\n",
       "      <td>0.03</td>\n",
       "      <td>surf</td>\n",
       "      <td>20.0</td>\n",
       "    </tr>\n",
       "    <tr>\n",
       "      <th>1</th>\n",
       "      <td>1</td>\n",
       "      <td>1077</td>\n",
       "      <td>42</td>\n",
       "      <td>275.07</td>\n",
       "      <td>37.0</td>\n",
       "      <td>10635.64</td>\n",
       "      <td>ultimate</td>\n",
       "      <td>1000</td>\n",
       "      <td>30720</td>\n",
       "      <td>3000</td>\n",
       "      <td>70</td>\n",
       "      <td>7</td>\n",
       "      <td>0.01</td>\n",
       "      <td>0.01</td>\n",
       "      <td>ultimate</td>\n",
       "      <td>70.0</td>\n",
       "    </tr>\n",
       "    <tr>\n",
       "      <th>2</th>\n",
       "      <td>1</td>\n",
       "      <td>1185</td>\n",
       "      <td>23</td>\n",
       "      <td>170.29</td>\n",
       "      <td>0.0</td>\n",
       "      <td>6812.77</td>\n",
       "      <td>ultimate</td>\n",
       "      <td>1000</td>\n",
       "      <td>30720</td>\n",
       "      <td>3000</td>\n",
       "      <td>70</td>\n",
       "      <td>7</td>\n",
       "      <td>0.01</td>\n",
       "      <td>0.01</td>\n",
       "      <td>ultimate</td>\n",
       "      <td>70.0</td>\n",
       "    </tr>\n",
       "    <tr>\n",
       "      <th>3</th>\n",
       "      <td>1</td>\n",
       "      <td>1196</td>\n",
       "      <td>42</td>\n",
       "      <td>272.56</td>\n",
       "      <td>23.0</td>\n",
       "      <td>8908.61</td>\n",
       "      <td>ultimate</td>\n",
       "      <td>1000</td>\n",
       "      <td>30720</td>\n",
       "      <td>3000</td>\n",
       "      <td>70</td>\n",
       "      <td>7</td>\n",
       "      <td>0.01</td>\n",
       "      <td>0.01</td>\n",
       "      <td>ultimate</td>\n",
       "      <td>70.0</td>\n",
       "    </tr>\n",
       "    <tr>\n",
       "      <th>4</th>\n",
       "      <td>1</td>\n",
       "      <td>1214</td>\n",
       "      <td>5</td>\n",
       "      <td>14.73</td>\n",
       "      <td>2.0</td>\n",
       "      <td>1315.35</td>\n",
       "      <td>ultimate</td>\n",
       "      <td>1000</td>\n",
       "      <td>30720</td>\n",
       "      <td>3000</td>\n",
       "      <td>70</td>\n",
       "      <td>7</td>\n",
       "      <td>0.01</td>\n",
       "      <td>0.01</td>\n",
       "      <td>ultimate</td>\n",
       "      <td>70.0</td>\n",
       "    </tr>\n",
       "    <tr>\n",
       "      <th>...</th>\n",
       "      <td>...</td>\n",
       "      <td>...</td>\n",
       "      <td>...</td>\n",
       "      <td>...</td>\n",
       "      <td>...</td>\n",
       "      <td>...</td>\n",
       "      <td>...</td>\n",
       "      <td>...</td>\n",
       "      <td>...</td>\n",
       "      <td>...</td>\n",
       "      <td>...</td>\n",
       "      <td>...</td>\n",
       "      <td>...</td>\n",
       "      <td>...</td>\n",
       "      <td>...</td>\n",
       "      <td>...</td>\n",
       "    </tr>\n",
       "    <tr>\n",
       "      <th>2253</th>\n",
       "      <td>12</td>\n",
       "      <td>1495</td>\n",
       "      <td>65</td>\n",
       "      <td>467.47</td>\n",
       "      <td>0.0</td>\n",
       "      <td>24097.40</td>\n",
       "      <td>surf</td>\n",
       "      <td>50</td>\n",
       "      <td>15360</td>\n",
       "      <td>500</td>\n",
       "      <td>20</td>\n",
       "      <td>10</td>\n",
       "      <td>0.03</td>\n",
       "      <td>0.03</td>\n",
       "      <td>surf</td>\n",
       "      <td>110.0</td>\n",
       "    </tr>\n",
       "    <tr>\n",
       "      <th>2254</th>\n",
       "      <td>12</td>\n",
       "      <td>1496</td>\n",
       "      <td>40</td>\n",
       "      <td>278.61</td>\n",
       "      <td>11.0</td>\n",
       "      <td>16438.99</td>\n",
       "      <td>surf</td>\n",
       "      <td>50</td>\n",
       "      <td>15360</td>\n",
       "      <td>500</td>\n",
       "      <td>20</td>\n",
       "      <td>10</td>\n",
       "      <td>0.03</td>\n",
       "      <td>0.03</td>\n",
       "      <td>surf</td>\n",
       "      <td>40.0</td>\n",
       "    </tr>\n",
       "    <tr>\n",
       "      <th>2255</th>\n",
       "      <td>12</td>\n",
       "      <td>1497</td>\n",
       "      <td>54</td>\n",
       "      <td>276.53</td>\n",
       "      <td>50.0</td>\n",
       "      <td>11106.55</td>\n",
       "      <td>ultimate</td>\n",
       "      <td>1000</td>\n",
       "      <td>30720</td>\n",
       "      <td>3000</td>\n",
       "      <td>70</td>\n",
       "      <td>7</td>\n",
       "      <td>0.01</td>\n",
       "      <td>0.01</td>\n",
       "      <td>ultimate</td>\n",
       "      <td>70.0</td>\n",
       "    </tr>\n",
       "    <tr>\n",
       "      <th>2256</th>\n",
       "      <td>12</td>\n",
       "      <td>1498</td>\n",
       "      <td>39</td>\n",
       "      <td>324.77</td>\n",
       "      <td>0.0</td>\n",
       "      <td>23137.69</td>\n",
       "      <td>surf</td>\n",
       "      <td>50</td>\n",
       "      <td>15360</td>\n",
       "      <td>500</td>\n",
       "      <td>20</td>\n",
       "      <td>10</td>\n",
       "      <td>0.03</td>\n",
       "      <td>0.03</td>\n",
       "      <td>surf</td>\n",
       "      <td>100.0</td>\n",
       "    </tr>\n",
       "    <tr>\n",
       "      <th>2257</th>\n",
       "      <td>12</td>\n",
       "      <td>1499</td>\n",
       "      <td>65</td>\n",
       "      <td>468.10</td>\n",
       "      <td>0.0</td>\n",
       "      <td>22059.21</td>\n",
       "      <td>surf</td>\n",
       "      <td>50</td>\n",
       "      <td>15360</td>\n",
       "      <td>500</td>\n",
       "      <td>20</td>\n",
       "      <td>10</td>\n",
       "      <td>0.03</td>\n",
       "      <td>0.03</td>\n",
       "      <td>surf</td>\n",
       "      <td>90.0</td>\n",
       "    </tr>\n",
       "  </tbody>\n",
       "</table>\n",
       "<p>2258 rows × 16 columns</p>\n",
       "</div>"
      ],
      "text/plain": [
       "      month  user_id  calls_count  minutes_sum  message_sent  internet_used  \\\n",
       "0         1     1042           18       106.83           0.0        1854.93   \n",
       "1         1     1077           42       275.07          37.0       10635.64   \n",
       "2         1     1185           23       170.29           0.0        6812.77   \n",
       "3         1     1196           42       272.56          23.0        8908.61   \n",
       "4         1     1214            5        14.73           2.0        1315.35   \n",
       "...     ...      ...          ...          ...           ...            ...   \n",
       "2253     12     1495           65       467.47           0.0       24097.40   \n",
       "2254     12     1496           40       278.61          11.0       16438.99   \n",
       "2255     12     1497           54       276.53          50.0       11106.55   \n",
       "2256     12     1498           39       324.77           0.0       23137.69   \n",
       "2257     12     1499           65       468.10           0.0       22059.21   \n",
       "\n",
       "          plan  messages_included  mb_per_month_included  minutes_included  \\\n",
       "0         surf                 50                  15360               500   \n",
       "1     ultimate               1000                  30720              3000   \n",
       "2     ultimate               1000                  30720              3000   \n",
       "3     ultimate               1000                  30720              3000   \n",
       "4     ultimate               1000                  30720              3000   \n",
       "...        ...                ...                    ...               ...   \n",
       "2253      surf                 50                  15360               500   \n",
       "2254      surf                 50                  15360               500   \n",
       "2255  ultimate               1000                  30720              3000   \n",
       "2256      surf                 50                  15360               500   \n",
       "2257      surf                 50                  15360               500   \n",
       "\n",
       "      usd_monthly_pay  usd_per_gb  usd_per_message  usd_per_minute plan_name  \\\n",
       "0                  20          10             0.03            0.03      surf   \n",
       "1                  70           7             0.01            0.01  ultimate   \n",
       "2                  70           7             0.01            0.01  ultimate   \n",
       "3                  70           7             0.01            0.01  ultimate   \n",
       "4                  70           7             0.01            0.01  ultimate   \n",
       "...               ...         ...              ...             ...       ...   \n",
       "2253               20          10             0.03            0.03      surf   \n",
       "2254               20          10             0.03            0.03      surf   \n",
       "2255               70           7             0.01            0.01  ultimate   \n",
       "2256               20          10             0.03            0.03      surf   \n",
       "2257               20          10             0.03            0.03      surf   \n",
       "\n",
       "      monthly_revenue  \n",
       "0                20.0  \n",
       "1                70.0  \n",
       "2                70.0  \n",
       "3                70.0  \n",
       "4                70.0  \n",
       "...               ...  \n",
       "2253            110.0  \n",
       "2254             40.0  \n",
       "2255             70.0  \n",
       "2256            100.0  \n",
       "2257             90.0  \n",
       "\n",
       "[2258 rows x 16 columns]"
      ]
     },
     "execution_count": 36,
     "metadata": {},
     "output_type": "execute_result"
    }
   ],
   "source": [
    "#apply the function to calculate monthly revenue\n",
    "merge_5['monthly_revenue'] = merge_5.apply(calc_monthly_revenue, axis=1)\n",
    "merge_5"
   ]
  },
  {
   "cell_type": "code",
   "execution_count": null,
   "metadata": {
    "trusted": true
   },
   "outputs": [
    {
     "data": {
      "text/html": [
       "<div>\n",
       "<style scoped>\n",
       "    .dataframe tbody tr th:only-of-type {\n",
       "        vertical-align: middle;\n",
       "    }\n",
       "\n",
       "    .dataframe tbody tr th {\n",
       "        vertical-align: top;\n",
       "    }\n",
       "\n",
       "    .dataframe thead th {\n",
       "        text-align: right;\n",
       "    }\n",
       "</style>\n",
       "<table border=\"1\" class=\"dataframe\">\n",
       "  <thead>\n",
       "    <tr style=\"text-align: right;\">\n",
       "      <th></th>\n",
       "      <th>month</th>\n",
       "      <th>user_id</th>\n",
       "      <th>plan</th>\n",
       "      <th>monthly_revenue</th>\n",
       "      <th>city</th>\n",
       "    </tr>\n",
       "  </thead>\n",
       "  <tbody>\n",
       "    <tr>\n",
       "      <th>0</th>\n",
       "      <td>1</td>\n",
       "      <td>1042</td>\n",
       "      <td>surf</td>\n",
       "      <td>20.0</td>\n",
       "      <td>Philadelphia-Camden-Wilmington, PA-NJ-DE-MD MSA</td>\n",
       "    </tr>\n",
       "    <tr>\n",
       "      <th>1</th>\n",
       "      <td>1</td>\n",
       "      <td>1077</td>\n",
       "      <td>ultimate</td>\n",
       "      <td>70.0</td>\n",
       "      <td>Charlotte-Concord-Gastonia, NC-SC MSA</td>\n",
       "    </tr>\n",
       "    <tr>\n",
       "      <th>2</th>\n",
       "      <td>1</td>\n",
       "      <td>1185</td>\n",
       "      <td>ultimate</td>\n",
       "      <td>70.0</td>\n",
       "      <td>Louisville/Jefferson County, KY-IN MSA</td>\n",
       "    </tr>\n",
       "    <tr>\n",
       "      <th>3</th>\n",
       "      <td>1</td>\n",
       "      <td>1196</td>\n",
       "      <td>ultimate</td>\n",
       "      <td>70.0</td>\n",
       "      <td>Los Angeles-Long Beach-Anaheim, CA MSA</td>\n",
       "    </tr>\n",
       "    <tr>\n",
       "      <th>4</th>\n",
       "      <td>1</td>\n",
       "      <td>1214</td>\n",
       "      <td>ultimate</td>\n",
       "      <td>70.0</td>\n",
       "      <td>San Francisco-Oakland-Berkeley, CA MSA</td>\n",
       "    </tr>\n",
       "    <tr>\n",
       "      <th>...</th>\n",
       "      <td>...</td>\n",
       "      <td>...</td>\n",
       "      <td>...</td>\n",
       "      <td>...</td>\n",
       "      <td>...</td>\n",
       "    </tr>\n",
       "    <tr>\n",
       "      <th>2253</th>\n",
       "      <td>12</td>\n",
       "      <td>1495</td>\n",
       "      <td>surf</td>\n",
       "      <td>110.0</td>\n",
       "      <td>New York-Newark-Jersey City, NY-NJ-PA MSA</td>\n",
       "    </tr>\n",
       "    <tr>\n",
       "      <th>2254</th>\n",
       "      <td>12</td>\n",
       "      <td>1496</td>\n",
       "      <td>surf</td>\n",
       "      <td>40.0</td>\n",
       "      <td>New Orleans-Metairie, LA MSA</td>\n",
       "    </tr>\n",
       "    <tr>\n",
       "      <th>2255</th>\n",
       "      <td>12</td>\n",
       "      <td>1497</td>\n",
       "      <td>ultimate</td>\n",
       "      <td>70.0</td>\n",
       "      <td>Los Angeles-Long Beach-Anaheim, CA MSA</td>\n",
       "    </tr>\n",
       "    <tr>\n",
       "      <th>2256</th>\n",
       "      <td>12</td>\n",
       "      <td>1498</td>\n",
       "      <td>surf</td>\n",
       "      <td>100.0</td>\n",
       "      <td>New York-Newark-Jersey City, NY-NJ-PA MSA</td>\n",
       "    </tr>\n",
       "    <tr>\n",
       "      <th>2257</th>\n",
       "      <td>12</td>\n",
       "      <td>1499</td>\n",
       "      <td>surf</td>\n",
       "      <td>90.0</td>\n",
       "      <td>Orlando-Kissimmee-Sanford, FL MSA</td>\n",
       "    </tr>\n",
       "  </tbody>\n",
       "</table>\n",
       "<p>2258 rows × 5 columns</p>\n",
       "</div>"
      ],
      "text/plain": [
       "      month  user_id      plan  monthly_revenue  \\\n",
       "0         1     1042      surf             20.0   \n",
       "1         1     1077  ultimate             70.0   \n",
       "2         1     1185  ultimate             70.0   \n",
       "3         1     1196  ultimate             70.0   \n",
       "4         1     1214  ultimate             70.0   \n",
       "...     ...      ...       ...              ...   \n",
       "2253     12     1495      surf            110.0   \n",
       "2254     12     1496      surf             40.0   \n",
       "2255     12     1497  ultimate             70.0   \n",
       "2256     12     1498      surf            100.0   \n",
       "2257     12     1499      surf             90.0   \n",
       "\n",
       "                                                 city  \n",
       "0     Philadelphia-Camden-Wilmington, PA-NJ-DE-MD MSA  \n",
       "1               Charlotte-Concord-Gastonia, NC-SC MSA  \n",
       "2              Louisville/Jefferson County, KY-IN MSA  \n",
       "3              Los Angeles-Long Beach-Anaheim, CA MSA  \n",
       "4              San Francisco-Oakland-Berkeley, CA MSA  \n",
       "...                                               ...  \n",
       "2253        New York-Newark-Jersey City, NY-NJ-PA MSA  \n",
       "2254                     New Orleans-Metairie, LA MSA  \n",
       "2255           Los Angeles-Long Beach-Anaheim, CA MSA  \n",
       "2256        New York-Newark-Jersey City, NY-NJ-PA MSA  \n",
       "2257                Orlando-Kissimmee-Sanford, FL MSA  \n",
       "\n",
       "[2258 rows x 5 columns]"
      ]
     },
     "execution_count": 37,
     "metadata": {},
     "output_type": "execute_result"
    }
   ],
   "source": [
    "#merge the user city information to the DataFrame\n",
    "region_filter = df_users[['user_id', 'city' ]]\n",
    "region_filter\n",
    "merge_6 = merge_5.merge(region_filter,\n",
    "                  on='user_id',\n",
    "                  how='left'\n",
    "                 )\n",
    "merge_6 = merge_6[['month', 'user_id', 'plan', 'monthly_revenue', 'city']]\n",
    "merge_6"
   ]
  },
  {
   "cell_type": "markdown",
   "metadata": {
    "id": "-jtyHzJb0q1I"
   },
   "source": [
    "### Study user behavior"
   ]
  },
  {
   "cell_type": "markdown",
   "metadata": {
    "id": "AxU3Y0N70q1J"
   },
   "source": [
    "Calculate some useful descriptive statistics for the aggregated and merged data that show the overall picture captured by the data"
   ]
  },
  {
   "cell_type": "markdown",
   "metadata": {
    "id": "vtW4CJEe0q1J"
   },
   "source": [
    "Calls"
   ]
  },
  {
   "cell_type": "code",
   "execution_count": null,
   "metadata": {
    "id": "Jf5v5--k0q1J",
    "scrolled": false,
    "trusted": true
   },
   "outputs": [
    {
     "data": {
      "text/plain": [
       "<matplotlib.legend.Legend at 0x3036176e0>"
      ]
     },
     "execution_count": 38,
     "metadata": {},
     "output_type": "execute_result"
    },
    {
     "data": {
      "image/png": "[encoded data removed]",
      "text/plain": [
       "<Figure size 1500x600 with 1 Axes>"
      ]
     },
     "metadata": {},
     "output_type": "display_data"
    }
   ],
   "source": [
    "# Compare the average call duration for each plan\n",
    "calls_df =  merge_4.groupby(['plan', 'month'])['calls_count'].mean()\n",
    "#create bar plot\n",
    "plt.figure(figsize=(15, 6)) \n",
    "calls_df['surf'].plot(kind='bar',\n",
    "                     alpha=0.8)\n",
    "calls_df['ultimate'].plot(kind='bar',\n",
    "                         color='orange',\n",
    "                         alpha= 0.5)\n",
    "plt.xlabel('Months')\n",
    "plt.ylabel('Minutes')\n",
    "plt.title('Average Call Duration')\n",
    "plt.legend([\"Surf\", \"Ultimate\"])"
   ]
  },
  {
   "cell_type": "code",
   "execution_count": null,
   "metadata": {
    "id": "QoLqW1S_0q1J",
    "scrolled": false,
    "trusted": true
   },
   "outputs": [
    {
     "data": {
      "image/png": "[encoded data removed]",
      "text/plain": [
       "<Figure size 1000x600 with 1 Axes>"
      ]
     },
     "metadata": {},
     "output_type": "display_data"
    }
   ],
   "source": [
    "# Compara number of minutes used by each plan\n",
    "surf_plan = merge_4[merge_4['plan'] == \"surf\"]\n",
    "ultimate_plan = merge_4[merge_4['plan'] == \"ultimate\"]\n",
    "plt.figure(figsize=(10, 6))\n",
    "\n",
    "surf_plan['minutes_sum'].plot(kind='hist',\n",
    "                              bins=30,\n",
    "                             alpha=0.5)\n",
    "ultimate_plan['minutes_sum'].plot(kind='hist',\n",
    "                                  bins=30,\n",
    "                                 alpha=0.5)\n",
    "plt.xlabel(\"Minutos Mensuales\")\n",
    "plt.ylabel(\"Frecuencia\")\n",
    "plt.title(\"Distribución de Minutos Mensuales por Plan\")\n",
    "plt.legend([\"Surf\", \"Ultimate\"])\n",
    "plt.grid(True)\n",
    "plt.show()"
   ]
  },
  {
   "cell_type": "code",
   "execution_count": null,
   "metadata": {
    "id": "oSndbAnt0q1K",
    "trusted": true
   },
   "outputs": [
    {
     "name": "stdout",
     "output_type": "stream",
     "text": [
      "The media of call duration by month is: month\n",
      "1     186.388333\n",
      "2     345.779333\n",
      "3     302.306571\n",
      "4     327.685493\n",
      "5     386.147885\n",
      "6     396.740284\n",
      "7     420.053520\n",
      "8     395.339087\n",
      "9     402.148628\n",
      "10    419.041246\n",
      "11    413.120099\n",
      "12    451.482696\n",
      "Name: minutes_sum, dtype: float64\n",
      "The variance of call duration is: 4727.511398272458\n"
     ]
    }
   ],
   "source": [
    "# Calculate the average and variance of monthly call duration\n",
    "media_llamadas = merge_4.groupby( 'month')['minutes_sum'].mean()\n",
    "varianza_llamadas = np.var(media_llamadas)\n",
    "print('The media of call duration by month is:', media_llamadas)\n",
    "print('The variance of call duration is:', varianza_llamadas)"
   ]
  },
  {
   "cell_type": "code",
   "execution_count": null,
   "metadata": {
    "id": "nZzoRUKc0q1K",
    "trusted": true
   },
   "outputs": [
    {
     "data": {
      "text/plain": [
       "<Axes: ylabel='minutes_sum'>"
      ]
     },
     "execution_count": 50,
     "metadata": {},
     "output_type": "execute_result"
    },
    {
     "data": {
      "image/png": "[encoded data removed]",
      "text/plain": [
       "<Figure size 640x480 with 1 Axes>"
      ]
     },
     "metadata": {},
     "output_type": "display_data"
    }
   ],
   "source": [
    "#boxplot for monthly call duration\n",
    "sns.boxplot(media_llamadas)\n",
    "\n"
   ]
  },
  {
   "cell_type": "code",
   "execution_count": null,
   "metadata": {},
   "outputs": [
    {
     "ename": "NameError",
     "evalue": "name 'df' is not defined",
     "output_type": "error",
     "traceback": [
      "\u001b[0;31m---------------------------------------------------------------------------\u001b[0m",
      "\u001b[0;31mNameError\u001b[0m                                 Traceback (most recent call last)",
      "Cell \u001b[0;32mIn[51], line 2\u001b[0m\n\u001b[1;32m      1\u001b[0m plt\u001b[38;5;241m.\u001b[39mfigure(figsize\u001b[38;5;241m=\u001b[39m(\u001b[38;5;241m8\u001b[39m, \u001b[38;5;241m5\u001b[39m))\n\u001b[0;32m----> 2\u001b[0m sns\u001b[38;5;241m.\u001b[39mboxplot(x\u001b[38;5;241m=\u001b[39m\u001b[38;5;124m'\u001b[39m\u001b[38;5;124mplan\u001b[39m\u001b[38;5;124m'\u001b[39m, y\u001b[38;5;241m=\u001b[39m\u001b[38;5;124m'\u001b[39m\u001b[38;5;124mllamadas\u001b[39m\u001b[38;5;124m'\u001b[39m, data\u001b[38;5;241m=\u001b[39mdf, palette\u001b[38;5;241m=\u001b[39m\u001b[38;5;124m'\u001b[39m\u001b[38;5;124mSet2\u001b[39m\u001b[38;5;124m'\u001b[39m)\n\u001b[1;32m      3\u001b[0m plt\u001b[38;5;241m.\u001b[39mtitle(\u001b[38;5;124m'\u001b[39m\u001b[38;5;124mDistribución de llamadas por plan\u001b[39m\u001b[38;5;124m'\u001b[39m)\n\u001b[1;32m      4\u001b[0m plt\u001b[38;5;241m.\u001b[39mxlabel(\u001b[38;5;124m'\u001b[39m\u001b[38;5;124mPlan\u001b[39m\u001b[38;5;124m'\u001b[39m)\n",
      "\u001b[0;31mNameError\u001b[0m: name 'df' is not defined"
     ]
    },
    {
     "data": {
      "text/plain": [
       "<Figure size 800x500 with 0 Axes>"
      ]
     },
     "metadata": {},
     "output_type": "display_data"
    }
   ],
   "source": [
    "plt.figure(figsize=(8, 5))\n",
    "sns.boxplot(x='plan', y='llamadas', data=merge_4, palette='Set2')\n",
    "plt.title('Distribución de llamadas por plan')\n",
    "plt.xlabel('Plan')\n",
    "plt.ylabel('Media de llamadas')\n",
    "plt.grid(True, axis='y', linestyle='--', alpha=0.5)\n",
    "plt.show()"
   ]
  },
  {
   "cell_type": "markdown",
   "metadata": {},
   "source": [
    "<div class=\"alert alert-block alert-warning\">  \n",
    "<b>Comentario del revisor</b> <a class=\"tocSkip\"></a><br>  \n",
    "<b>Atención</b> ⚠️ - Buen análisis comparativo de llamadas entre planes. Las visualizaciones son útiles, pero podrías complementar con la desviación estándar o una prueba estadística para confirmar diferencias significativas en el comportamiento. Sigue con este enfoque detallado.  \n",
    "</div>"
   ]
  },
  {
   "cell_type": "markdown",
   "metadata": {
    "id": "r627zBO50q1K"
   },
   "source": [
    "[Elabora las conclusiones sobre el comportamiento de los usuarios con respecto a las llamadas. ¿Su comportamiento varía en función del plan?]\n",
    "La media de llamadas se encuentra en alrededor de 400 "
   ]
  },
  {
   "cell_type": "markdown",
   "metadata": {},
   "source": [
    "<div class=\"alert alert-block alert-warning\">  \n",
    "<b>Comentario del revisor</b> <a class=\"tocSkip\"></a><br>  \n",
    "<b>Atención</b> ⚠️ - Realizar conclusiones es fundamental para transformar datos en información útil. Un buen análisis no solo describe los datos, sino que extrae insights clave para la toma de decisiones. Asegúrate de interpretar los hallazgos con claridad.  \n",
    "</div>"
   ]
  },
  {
   "cell_type": "markdown",
   "metadata": {
    "id": "8idKy8Wh0q1L"
   },
   "source": [
    "### Mensajes"
   ]
  },
  {
   "cell_type": "code",
   "execution_count": 42,
   "metadata": {
    "id": "NXLxiTit0q1L",
    "scrolled": false,
    "trusted": true
   },
   "outputs": [
    {
     "data": {
      "text/plain": [
       "<matplotlib.legend.Legend at 0x304b90a10>"
      ]
     },
     "execution_count": 42,
     "metadata": {},
     "output_type": "execute_result"
    },
    {
     "data": {
      "image/png": "[encoded data removed]",
      "text/plain": [
       "<Figure size 1000x600 with 1 Axes>"
      ]
     },
     "metadata": {},
     "output_type": "display_data"
    }
   ],
   "source": [
    "# Compara el número de mensajes que tienden a enviar cada mes los usuarios de cada plan\n",
    "message_month = merge_4.groupby(['plan', 'month'])[\"message_sent\"].mean()\n",
    "message_month\n",
    "\n",
    "plt.figure(figsize=(10, 6)) \n",
    "message_month['surf'].plot(kind='bar',\n",
    "                           color='blue',\n",
    "                     alpha=0.8)\n",
    "message_month['ultimate'].plot(kind='bar',\n",
    "                         color='green',\n",
    "                         alpha= 0.5)\n",
    "plt.xlabel('Months')\n",
    "plt.ylabel('Message')\n",
    "plt.title('Average Messages Sent by User')\n",
    "plt.legend([\"Surf\", \"Ultimate\"])\n",
    "\n"
   ]
  },
  {
   "cell_type": "code",
   "execution_count": null,
   "metadata": {
    "id": "dtFwCGAp0q1M",
    "trusted": true
   },
   "outputs": [],
   "source": []
  },
  {
   "cell_type": "markdown",
   "metadata": {
    "id": "390SSL480q1M"
   },
   "source": [
    "[Elabora las conclusiones sobre el comportamiento de los usuarios con respecto a los mensajes. ¿Su comportamiento varía en función del plan?]\n",
    "No, el comportamiento no varia, ya que son muy similares las dos graficas"
   ]
  },
  {
   "cell_type": "markdown",
   "metadata": {},
   "source": [
    "<div class=\"alert alert-block alert-warning\">  \n",
    "<b>Comentario del revisor</b> <a class=\"tocSkip\"></a><br>  \n",
    "<b>Atención</b> ⚠️ - Buen uso de visualizaciones para comparar el envío de mensajes entre planes. Sin embargo, para confirmar que el comportamiento realmente no varía, podrías calcular medidas como la desviación estándar o aplicar una prueba estadística. Esto fortalecería la conclusión.  \n",
    "</div>"
   ]
  },
  {
   "cell_type": "markdown",
   "metadata": {
    "id": "42YSypXz0q1M"
   },
   "source": [
    "### Internet"
   ]
  },
  {
   "cell_type": "markdown",
   "metadata": {
    "id": "UN9zwuMP0q1N"
   },
   "source": [
    "[Elabora las conclusiones sobre cómo los usuarios tienden a consumir el tráfico de Internet. ¿Su comportamiento varía en función del plan?]"
   ]
  },
  {
   "cell_type": "code",
   "execution_count": 43,
   "metadata": {
    "id": "GRI_R7xF0q1L",
    "trusted": true
   },
   "outputs": [
    {
     "data": {
      "image/png": "[encoded data removed]",
      "text/plain": [
       "<Figure size 800x500 with 1 Axes>"
      ]
     },
     "metadata": {},
     "output_type": "display_data"
    }
   ],
   "source": [
    "# Compara la cantidad de tráfico de Internet consumido por usuarios por plan\n",
    "internet_usage = merge_4.groupby(\"plan\")[\"internet_used\"].mean()\n",
    "plt.figure(figsize=(8, 5))\n",
    "internet_usage.plot(kind=\"bar\", color=[\"blue\", \"orange\"])\n",
    "plt.title(\"Consumo promedio de Internet por Plan\")\n",
    "plt.xlabel(\"Plan\")\n",
    "plt.ylabel(\"Internet usado (MB)\")\n",
    "plt.xticks(rotation=0)\n",
    "plt.grid(axis=\"y\", linestyle=\"--\", alpha=0.7)\n",
    "\n",
    "plt.show()"
   ]
  },
  {
   "cell_type": "markdown",
   "metadata": {
    "id": "390SSL480q1M"
   },
   "source": [
    "No, el comportamiento no varia, ya que son muy similares las dos graficas. Usuarios sin depender del plan usan casi el mismo internet"
   ]
  },
  {
   "cell_type": "markdown",
   "metadata": {},
   "source": [
    "<div class=\"alert alert-block alert-warning\">  \n",
    "<b>Comentario del revisor</b> <a class=\"tocSkip\"></a><br>  \n",
    "<b>Atención</b> ⚠️ - Buen análisis visual del consumo de Internet entre planes. Sin embargo, para respaldar la afirmación de que el comportamiento no varía, podrías calcular la desviación estándar o realizar una prueba de hipótesis. Esto daría mayor certeza a la conclusión.  \n",
    "</div>"
   ]
  },
  {
   "cell_type": "markdown",
   "metadata": {
    "id": "tCijq3260q1N"
   },
   "source": [
    "## Ingreso"
   ]
  },
  {
   "cell_type": "markdown",
   "metadata": {
    "id": "9nq5IAcy0q1O"
   },
   "source": [
    "[Del mismo modo que has estudiado el comportamiento de los usuarios, describe estadísticamente los ingresos de los planes.]"
   ]
  },
  {
   "cell_type": "code",
   "execution_count": 44,
   "metadata": {
    "id": "0Y1v8ZUz0q1P",
    "trusted": true
   },
   "outputs": [
    {
     "data": {
      "text/html": [
       "<div>\n",
       "<style scoped>\n",
       "    .dataframe tbody tr th:only-of-type {\n",
       "        vertical-align: middle;\n",
       "    }\n",
       "\n",
       "    .dataframe tbody tr th {\n",
       "        vertical-align: top;\n",
       "    }\n",
       "\n",
       "    .dataframe thead th {\n",
       "        text-align: right;\n",
       "    }\n",
       "</style>\n",
       "<table border=\"1\" class=\"dataframe\">\n",
       "  <thead>\n",
       "    <tr style=\"text-align: right;\">\n",
       "      <th></th>\n",
       "      <th>count</th>\n",
       "      <th>mean</th>\n",
       "      <th>std</th>\n",
       "      <th>min</th>\n",
       "      <th>25%</th>\n",
       "      <th>50%</th>\n",
       "      <th>75%</th>\n",
       "      <th>max</th>\n",
       "    </tr>\n",
       "    <tr>\n",
       "      <th>plan</th>\n",
       "      <th></th>\n",
       "      <th></th>\n",
       "      <th></th>\n",
       "      <th></th>\n",
       "      <th></th>\n",
       "      <th></th>\n",
       "      <th></th>\n",
       "      <th></th>\n",
       "    </tr>\n",
       "  </thead>\n",
       "  <tbody>\n",
       "    <tr>\n",
       "      <th>surf</th>\n",
       "      <td>1545.0</td>\n",
       "      <td>59.739583</td>\n",
       "      <td>53.396963</td>\n",
       "      <td>20.0</td>\n",
       "      <td>20.0</td>\n",
       "      <td>40.33</td>\n",
       "      <td>80.0</td>\n",
       "      <td>588.6372</td>\n",
       "    </tr>\n",
       "    <tr>\n",
       "      <th>ultimate</th>\n",
       "      <td>713.0</td>\n",
       "      <td>72.277700</td>\n",
       "      <td>11.351942</td>\n",
       "      <td>70.0</td>\n",
       "      <td>70.0</td>\n",
       "      <td>70.00</td>\n",
       "      <td>70.0</td>\n",
       "      <td>182.0000</td>\n",
       "    </tr>\n",
       "  </tbody>\n",
       "</table>\n",
       "</div>"
      ],
      "text/plain": [
       "           count       mean        std   min   25%    50%   75%       max\n",
       "plan                                                                     \n",
       "surf      1545.0  59.739583  53.396963  20.0  20.0  40.33  80.0  588.6372\n",
       "ultimate   713.0  72.277700  11.351942  70.0  70.0  70.00  70.0  182.0000"
      ]
     },
     "execution_count": 44,
     "metadata": {},
     "output_type": "execute_result"
    }
   ],
   "source": [
    "plan_revenue = merge_5.groupby('plan')['monthly_revenue'].describe()\n",
    "plan_revenue"
   ]
  },
  {
   "cell_type": "markdown",
   "metadata": {
    "id": "KAFidcXZ0q1P"
   },
   "source": [
    "[Elabora las conclusiones sobre cómo difiere el ingreso entre los planes.]\n",
    "Los usuarios de surf suelen pagar mucho mas por su tarifa, en promedio 59 lo que es 39 mas de lo que esta establecido, su std es de 53 lo que significa que hay alta dispercion en los costos, lo que quiere decir que hay gran variabilidad en ellos. alrededor de el 50% de los valores, es decir de los usuarios estan en 40.33 eso quiere decir que la mitad pagan el doble de su precio establecido. El plan ultimate es mas estable, su media es casi igual a su costo, su desviacion estandar es baja de 11 lo que uqiere decir que sus costos son mas estables y consistentes, casi todos sus datos se encuentran en 70, si un usuario busca pagar algo estable esta es la mejo opcion. "
   ]
  },
  {
   "cell_type": "markdown",
   "metadata": {},
   "source": [
    "<div class=\"alert alert-block alert-success\">  \n",
    "<b>Comentario del revisor</b> <a class=\"tocSkip\"></a><br>  \n",
    "<b>Éxito</b> - Excelente interpretación de los ingresos por plan. Has identificado correctamente la variabilidad en los costos del plan \"Surf\" y la estabilidad del plan \"Ultimate\". Resaltar la dispersión y la diferencia entre la media y la tarifa base es un análisis clave para entender la rentabilidad de cada plan.  \n",
    "\n",
    "Para fortalecer aún más tu conclusión, podrías visualizar la distribución de los ingresos con un boxplot o histograma. Esto ayudaría a representar de manera más clara la variabilidad que mencionaste. Sigue con este nivel de detalle en el análisis.  \n",
    "</div>"
   ]
  },
  {
   "cell_type": "markdown",
   "metadata": {
    "id": "ajJ7VKeI0q1Q"
   },
   "source": [
    "## Prueba las hipótesis estadísticas"
   ]
  },
  {
   "cell_type": "markdown",
   "metadata": {
    "id": "AdXAZ-yL0q1Q"
   },
   "source": [
    "[Prueba la hipótesis de que son diferentes los ingresos promedio procedentes de los usuarios de los planes de llamada Ultimate y Surf.]"
   ]
  },
  {
   "cell_type": "markdown",
   "metadata": {
    "id": "IQwa_hsh0q1Q"
   },
   "source": [
    "[Elabora las hipótesis nula y alternativa, escoge la prueba estadística, determina el valor alfa.]"
   ]
  },
  {
   "cell_type": "code",
   "execution_count": 45,
   "metadata": {
    "id": "nFoPNlPq0q1R",
    "trusted": true
   },
   "outputs": [
    {
     "name": "stdout",
     "output_type": "stream",
     "text": [
      "Media ingresos plan Surf: 59.73958291262136\n",
      "Media ingresos plan Ultimate: 72.27769985974754\n",
      "Valor-p: 2.8950294906188968e-18\n",
      "Rechazamos la hipótesis nula: Los ingresos promedio son significativamente diferentes\n"
     ]
    }
   ],
   "source": [
    "# Prueba las hipótesis\n",
    "surf_revenue = merge_5[merge_5['plan'] == 'surf']['monthly_revenue']  # Filtrar los ingresos del plan Surf\n",
    "ultimate_revenue = merge_5[merge_5['plan'] == 'ultimate']['monthly_revenue']\n",
    "\n",
    "print('Media ingresos plan Surf:', surf_revenue.mean())\n",
    "print('Media ingresos plan Ultimate:', ultimate_revenue.mean())\n",
    "\n",
    "alpha =  0.05\n",
    "\n",
    "results = st.ttest_ind(surf_revenue, ultimate_revenue, equal_var=False)\n",
    "\n",
    "print('Valor-p:', results.pvalue)\n",
    "\n",
    "if results.pvalue < alpha:\n",
    "    print(\"Rechazamos la hipótesis nula: Los ingresos promedio son significativamente diferentes\")\n",
    "else:\n",
    "    print(\"No podemos rechazar la hipótesis nula: No hay suficiente evidencia para afirmar que los ingresos promedio son diferentes\")\n"
   ]
  },
  {
   "cell_type": "markdown",
   "metadata": {
    "id": "tCcAruM60q1R"
   },
   "source": [
    "[Prueba la hipótesis de que el ingreso promedio de los usuarios del área NY-NJ es diferente al de los usuarios de otras regiones.]"
   ]
  },
  {
   "cell_type": "markdown",
   "metadata": {
    "id": "LsBgitqj0q1R"
   },
   "source": [
    "[Elabora las hipótesis nula y alternativa, escoge la prueba estadística, determina el valor alfa.]"
   ]
  },
  {
   "cell_type": "code",
   "execution_count": 46,
   "metadata": {
    "id": "Cqcj7wrZ0q1S",
    "trusted": true
   },
   "outputs": [
    {
     "name": "stdout",
     "output_type": "stream",
     "text": [
      "Media ingresos region NY-NJ: 58.54780161725068\n",
      "Media ingresos otras regiones: 64.71140498145205\n",
      "Valor-p: 0.012035021702244008\n",
      "Rechazamos la hipótesis nula: Los ingresos promedio son significativamente diferentes\n"
     ]
    }
   ],
   "source": [
    "# Prueba las hipótesis\n",
    "merge_6\n",
    "ny_filter = merge_6.query('city == \"New York-Newark-Jersey City, NY-NJ-PA MSA\"')\n",
    "other_filter = merge_6.query('city != \"New York-Newark-Jersey City, NY-NJ-PA MSA\"')\n",
    "\n",
    "ny_revenue = ny_filter['monthly_revenue']\n",
    "other_revenue = other_filter['monthly_revenue']\n",
    "\n",
    "print('Media ingresos region NY-NJ:', ny_revenue.mean())\n",
    "print('Media ingresos otras regiones:', other_revenue.mean())\n",
    "\n",
    "alpha =  0.05\n",
    "\n",
    "results = st.ttest_ind(ny_revenue, other_revenue, equal_var=False)\n",
    "\n",
    "print('Valor-p:', results.pvalue)\n",
    "\n",
    "if results.pvalue < alpha:\n",
    "    print(\"Rechazamos la hipótesis nula: Los ingresos promedio son significativamente diferentes\")\n",
    "else:\n",
    "    print(\"No podemos rechazar la hipótesis nula: No hay suficiente evidencia para afirmar que los ingresos promedio son diferentes\")\n"
   ]
  },
  {
   "cell_type": "markdown",
   "metadata": {
    "id": "bbTR8UQO0q1T"
   },
   "source": [
    "## Conclusión general\n",
    "\n",
    "[En esta sección final, enumera tus conclusiones importantes. Asegúrate de que estas abarquen todas las decisiones (suposiciones) importantes que adoptaste y que determinaron la forma elegida para procesar y analizar los datos.]\n",
    "Los usuarios de ambos planes se comportan de manera casi igual, el problema esta en que gran parte de los usuarios de surf, exceden el plan ya prestablecido, haciendo que los datos sea mucho mas variables, a comparacion del ultimate donde muy pocos usuarios se exceden del limite del plan prestablecido. Haciendo que los datos se ven mucho mas estables, si contratas el plan surf es casi por seguro que no vas a pagar los 20, terminaras pagando hasta el doble, pero bueno no llega a costarte 70, aunque ya si pagas 70 probablemnte siempre pagues 70 y no varie tanto como el plan surf"
   ]
  },
  {
   "cell_type": "markdown",
   "metadata": {},
   "source": [
    "<div class=\"alert alert-block alert-success\">  \n",
    "<b>Comentario del revisor</b> <a class=\"tocSkip\"></a><br>  \n",
    "<b>Éxito</b> - Excelente aplicación de pruebas de hipótesis. Has seleccionado correctamente la prueba t de dos muestras y establecido un umbral de significancia adecuado. Además, interpretaste bien los resultados, resaltando la diferencia en la variabilidad de costos entre los planes y su impacto en la estabilidad de los ingresos.  \n",
    "\n",
    "\n",
    "</div>"
   ]
  },
  {
   "cell_type": "markdown",
   "metadata": {},
   "source": [
    "# Comentario general del revisor "
   ]
  },
  {
   "cell_type": "markdown",
   "metadata": {},
   "source": [
    " \n",
    "<div class=\"alert alert-block alert-success\">  \n",
    "<b>Comentario del revisor</b> <a class=\"tocSkip\"></a>  \n",
    "    \n",
    "¡Felicidades Rodrigo! Tu proyecto está **aprobado** Has realizado un análisis sólido y bien estructurado. Has aplicado correctamente técnicas de limpieza, transformación y análisis de datos, complementadas con pruebas estadísticas bien fundamentadas. A continuación, destaco los puntos positivos y algunas áreas para seguir explorando:  \n",
    "\n",
    "**Puntos Positivos:**  \n",
    "- **Limpieza y preparación de datos:** Correcta conversión de tipos, manejo de valores nulos y consolidación de información.  \n",
    "- **Exploración y visualización:** Uso adecuado de gráficos para comparar el comportamiento de usuarios en llamadas, mensajes e internet.  \n",
    "- **Análisis de ingresos y variabilidad:** Identificaste diferencias clave en el comportamiento financiero de los planes.  \n",
    "- **Pruebas de hipótesis bien estructuradas:** Aplicaste pruebas estadísticas relevantes para confirmar diferencias en los ingresos.  \n",
    "\n",
    "**Áreas para Seguir Investigando:**  \n",
    "- **Visualización avanzada:** Incorporar boxplots o histogramas para mostrar la variabilidad en ingresos y consumo de servicios.  \n",
    "- **Segmentación de usuarios:** Explorar grupos con patrones de consumo similares para mejorar la rentabilidad de los planes.  \n",
    "- **Optimización de planes:** Evaluar si los límites de consumo establecidos en cada plan pueden ajustarse para maximizar ingresos y retención de clientes.  \n",
    "- **Pruebas estadísticas adicionales:** Considerar pruebas de normalidad o análisis de varianza (ANOVA) para respaldar más conclusiones.  \n",
    "\n",
    "Tu trabajo demuestra un buen manejo del análisis de datos y una estructura clara en la interpretación de resultados. ¡Sigue con este nivel de detalle y enfoque analítico!  \n",
    "</div>  \n"
   ]
  },
  {
   "cell_type": "code",
   "execution_count": null,
   "metadata": {
    "trusted": true
   },
   "outputs": [],
   "source": []
  }
 ],
 "metadata": {
  "ExecuteTimeLog": [
   {
    "duration": 828,
    "start_time": "2021-11-16T09:21:11.304Z"
   },
   {
    "duration": 893,
    "start_time": "2021-11-16T09:21:17.728Z"
   },
   {
    "duration": 1150,
    "start_time": "2021-11-16T09:21:29.568Z"
   },
   {
    "duration": 3,
    "start_time": "2021-11-16T09:24:14.495Z"
   },
   {
    "duration": 120,
    "start_time": "2021-11-16T09:24:46.630Z"
   },
   {
    "duration": 3,
    "start_time": "2021-11-16T09:28:27.882Z"
   },
   {
    "duration": 4,
    "start_time": "2021-11-16T09:29:54.281Z"
   },
   {
    "duration": 3,
    "start_time": "2021-11-16T09:30:45.936Z"
   },
   {
    "duration": 4,
    "start_time": "2021-11-16T09:31:06.300Z"
   },
   {
    "duration": 113,
    "start_time": "2021-11-16T09:31:37.208Z"
   },
   {
    "duration": 143,
    "start_time": "2021-11-16T09:31:48.656Z"
   },
   {
    "duration": 98,
    "start_time": "2021-11-16T09:31:55.678Z"
   },
   {
    "duration": 3,
    "start_time": "2021-11-16T09:32:08.535Z"
   },
   {
    "duration": 111,
    "start_time": "2021-11-16T09:32:10.120Z"
   },
   {
    "duration": 3,
    "start_time": "2021-11-16T09:32:15.732Z"
   },
   {
    "duration": 4,
    "start_time": "2021-11-16T09:32:29.423Z"
   },
   {
    "duration": 3,
    "start_time": "2021-11-16T10:03:03.074Z"
   },
   {
    "duration": 3,
    "start_time": "2021-11-16T10:10:01.288Z"
   },
   {
    "duration": 3,
    "start_time": "2021-11-16T10:10:46.923Z"
   },
   {
    "duration": 121,
    "start_time": "2021-11-16T10:37:46.494Z"
   },
   {
    "duration": 125,
    "start_time": "2021-11-16T10:38:20.632Z"
   },
   {
    "duration": 112,
    "start_time": "2021-11-16T10:46:53.001Z"
   },
   {
    "duration": 110,
    "start_time": "2021-11-16T10:48:25.775Z"
   },
   {
    "duration": 3,
    "start_time": "2021-11-16T10:50:18.720Z"
   },
   {
    "duration": 4,
    "start_time": "2021-11-16T10:50:37.649Z"
   },
   {
    "duration": 2,
    "start_time": "2021-11-16T10:50:51.884Z"
   },
   {
    "duration": 3,
    "start_time": "2021-11-16T10:51:56.237Z"
   },
   {
    "duration": 101,
    "start_time": "2021-11-16T10:53:13.791Z"
   },
   {
    "duration": 3,
    "start_time": "2021-11-16T10:55:59.186Z"
   },
   {
    "duration": 3,
    "start_time": "2021-11-16T10:56:10.751Z"
   },
   {
    "duration": 3,
    "start_time": "2021-11-16T10:56:49.038Z"
   },
   {
    "duration": 3,
    "start_time": "2021-11-16T10:56:49.174Z"
   },
   {
    "duration": 4,
    "start_time": "2021-11-16T10:56:49.414Z"
   },
   {
    "duration": 3,
    "start_time": "2021-11-16T10:56:49.680Z"
   },
   {
    "duration": 3,
    "start_time": "2021-11-16T10:56:50.370Z"
   },
   {
    "duration": 114,
    "start_time": "2021-11-16T10:59:34.518Z"
   },
   {
    "duration": 3,
    "start_time": "2021-11-16T11:01:41.201Z"
   },
   {
    "duration": 116,
    "start_time": "2021-11-16T11:01:48.754Z"
   },
   {
    "duration": 3,
    "start_time": "2021-11-16T11:02:16.685Z"
   },
   {
    "duration": 3,
    "start_time": "2021-11-16T11:02:19.479Z"
   },
   {
    "duration": 3,
    "start_time": "2021-11-16T11:02:47.067Z"
   },
   {
    "duration": 3,
    "start_time": "2021-11-16T11:02:49.353Z"
   },
   {
    "duration": 3,
    "start_time": "2021-11-16T11:03:07.835Z"
   },
   {
    "duration": 3,
    "start_time": "2021-11-16T11:03:07.953Z"
   },
   {
    "duration": 112,
    "start_time": "2021-11-16T11:07:52.072Z"
   },
   {
    "duration": 187,
    "start_time": "2021-11-16T11:09:23.468Z"
   },
   {
    "duration": 4,
    "start_time": "2021-11-16T11:10:01.455Z"
   },
   {
    "duration": 3,
    "start_time": "2021-11-16T11:10:05.069Z"
   },
   {
    "duration": 4,
    "start_time": "2021-11-16T11:10:13.376Z"
   },
   {
    "duration": 3,
    "start_time": "2021-11-16T11:10:14.434Z"
   },
   {
    "duration": 3,
    "start_time": "2021-11-16T11:10:22.853Z"
   },
   {
    "duration": 4,
    "start_time": "2021-11-16T11:27:29.279Z"
   },
   {
    "duration": 4,
    "start_time": "2021-11-16T11:29:08.919Z"
   },
   {
    "duration": 118,
    "start_time": "2021-11-16T11:29:46.703Z"
   },
   {
    "duration": 437,
    "start_time": "2021-11-16T11:36:02.181Z"
   },
   {
    "duration": 157,
    "start_time": "2021-11-16T11:36:14.388Z"
   },
   {
    "duration": 207,
    "start_time": "2021-11-16T11:47:15.898Z"
   },
   {
    "duration": 3,
    "start_time": "2021-11-16T11:53:52.092Z"
   },
   {
    "duration": 3,
    "start_time": "2021-11-16T11:53:52.236Z"
   },
   {
    "duration": 3,
    "start_time": "2021-11-16T11:59:12.005Z"
   },
   {
    "duration": 112,
    "start_time": "2021-11-16T12:00:33.446Z"
   },
   {
    "duration": 3,
    "start_time": "2021-11-16T12:02:14.453Z"
   },
   {
    "duration": 3,
    "start_time": "2021-11-16T12:02:39.512Z"
   },
   {
    "duration": 106,
    "start_time": "2021-11-16T12:03:03.460Z"
   },
   {
    "duration": 3,
    "start_time": "2021-11-17T20:37:21.139Z"
   },
   {
    "duration": 3,
    "start_time": "2021-11-17T20:37:22.229Z"
   },
   {
    "duration": 3,
    "start_time": "2021-11-17T20:38:38.806Z"
   },
   {
    "duration": 3,
    "start_time": "2021-11-17T20:38:41.958Z"
   },
   {
    "duration": 3,
    "start_time": "2021-11-17T20:43:46.551Z"
   },
   {
    "duration": 4,
    "start_time": "2021-11-17T20:58:21.835Z"
   },
   {
    "duration": 3,
    "start_time": "2021-11-17T20:59:21.872Z"
   },
   {
    "duration": 4,
    "start_time": "2021-11-17T20:59:45.352Z"
   },
   {
    "duration": 4,
    "start_time": "2021-11-17T20:59:49.646Z"
   },
   {
    "duration": 159,
    "start_time": "2021-11-17T21:02:26.949Z"
   },
   {
    "duration": 3,
    "start_time": "2021-11-17T21:03:53.461Z"
   },
   {
    "duration": 3,
    "start_time": "2021-11-17T21:03:53.694Z"
   },
   {
    "duration": 3,
    "start_time": "2021-11-17T21:05:28.145Z"
   },
   {
    "duration": 116,
    "start_time": "2021-11-17T21:05:57.787Z"
   },
   {
    "duration": 3,
    "start_time": "2021-11-17T21:06:37.993Z"
   },
   {
    "duration": 3,
    "start_time": "2021-11-17T21:06:38.261Z"
   },
   {
    "duration": 3,
    "start_time": "2021-11-17T21:11:54.358Z"
   },
   {
    "duration": 3,
    "start_time": "2021-11-17T21:12:43.846Z"
   },
   {
    "duration": 4,
    "start_time": "2021-11-17T21:13:08.773Z"
   },
   {
    "duration": 3,
    "start_time": "2021-11-17T21:14:44.441Z"
   },
   {
    "duration": 3,
    "start_time": "2021-11-17T21:15:42.059Z"
   },
   {
    "duration": 4,
    "start_time": "2021-11-17T21:15:51.995Z"
   },
   {
    "duration": 3,
    "start_time": "2021-11-17T21:15:53.923Z"
   },
   {
    "duration": 3,
    "start_time": "2021-11-17T21:15:55.282Z"
   },
   {
    "duration": 3,
    "start_time": "2021-11-17T21:16:28.492Z"
   },
   {
    "duration": 3,
    "start_time": "2021-11-17T21:16:32.603Z"
   },
   {
    "duration": 3,
    "start_time": "2021-11-17T21:17:06.941Z"
   },
   {
    "duration": 98,
    "start_time": "2021-11-17T21:18:05.733Z"
   },
   {
    "duration": 4,
    "start_time": "2021-11-17T21:21:35.255Z"
   },
   {
    "duration": 3,
    "start_time": "2021-11-17T21:21:37.804Z"
   },
   {
    "duration": 4,
    "start_time": "2021-11-17T21:23:06.071Z"
   },
   {
    "duration": 3,
    "start_time": "2021-11-17T21:23:24.799Z"
   },
   {
    "duration": 3,
    "start_time": "2021-11-17T21:23:32.591Z"
   },
   {
    "duration": 98,
    "start_time": "2021-11-17T21:28:31.559Z"
   },
   {
    "duration": 3,
    "start_time": "2021-11-17T21:28:45.448Z"
   },
   {
    "duration": 3,
    "start_time": "2021-11-17T21:29:17.303Z"
   },
   {
    "duration": 3,
    "start_time": "2021-11-17T21:29:29.617Z"
   },
   {
    "duration": 3,
    "start_time": "2021-11-17T21:29:32.681Z"
   },
   {
    "duration": 3,
    "start_time": "2021-11-17T21:36:11.474Z"
   },
   {
    "duration": 3,
    "start_time": "2021-11-17T21:36:14.791Z"
   },
   {
    "duration": 3,
    "start_time": "2021-11-17T21:36:53.943Z"
   },
   {
    "duration": 3,
    "start_time": "2021-11-17T21:36:56.165Z"
   },
   {
    "duration": 4,
    "start_time": "2021-11-17T21:37:16.590Z"
   },
   {
    "duration": 3,
    "start_time": "2021-11-17T21:37:22.702Z"
   },
   {
    "duration": 4,
    "start_time": "2021-11-17T21:38:03.479Z"
   },
   {
    "duration": 3,
    "start_time": "2021-11-17T21:38:08.601Z"
   },
   {
    "duration": 3,
    "start_time": "2021-11-17T21:38:12.928Z"
   },
   {
    "duration": 3,
    "start_time": "2021-11-17T21:38:48.896Z"
   },
   {
    "duration": 2,
    "start_time": "2021-11-17T21:38:49.171Z"
   },
   {
    "duration": 4,
    "start_time": "2021-11-17T21:39:57.889Z"
   },
   {
    "duration": 3,
    "start_time": "2021-11-17T21:39:58.057Z"
   },
   {
    "duration": 3,
    "start_time": "2021-11-17T21:41:20.108Z"
   },
   {
    "duration": 3,
    "start_time": "2021-11-17T21:41:20.629Z"
   },
   {
    "duration": 3,
    "start_time": "2021-11-17T21:42:49.136Z"
   },
   {
    "duration": 3,
    "start_time": "2021-11-17T21:43:15.137Z"
   },
   {
    "duration": 4,
    "start_time": "2021-11-17T21:43:16.766Z"
   },
   {
    "duration": 4,
    "start_time": "2021-11-17T21:43:31.711Z"
   },
   {
    "duration": 3,
    "start_time": "2021-11-17T21:43:36.312Z"
   },
   {
    "duration": 4,
    "start_time": "2021-11-17T21:45:08.825Z"
   },
   {
    "duration": 4,
    "start_time": "2021-11-17T21:45:10.119Z"
   },
   {
    "duration": 4,
    "start_time": "2021-11-17T21:45:13.748Z"
   },
   {
    "duration": 3,
    "start_time": "2021-11-17T21:45:22.219Z"
   },
   {
    "duration": 3,
    "start_time": "2021-11-17T21:45:33.412Z"
   },
   {
    "duration": 2,
    "start_time": "2021-11-17T21:46:01.885Z"
   },
   {
    "duration": 3,
    "start_time": "2021-11-17T21:46:03.628Z"
   },
   {
    "duration": 107,
    "start_time": "2021-11-17T21:47:32.512Z"
   },
   {
    "duration": 103,
    "start_time": "2021-11-17T21:50:36.243Z"
   },
   {
    "duration": 3,
    "start_time": "2021-11-18T06:28:31.440Z"
   },
   {
    "duration": 3,
    "start_time": "2021-11-18T06:29:00.168Z"
   },
   {
    "duration": 3,
    "start_time": "2021-11-18T06:31:27.008Z"
   },
   {
    "duration": 2,
    "start_time": "2021-11-18T06:35:34.288Z"
   },
   {
    "duration": 2,
    "start_time": "2021-11-18T06:38:04.527Z"
   },
   {
    "duration": 734,
    "start_time": "2025-01-20T02:56:28.363Z"
   },
   {
    "duration": 154,
    "start_time": "2025-01-20T02:56:29.099Z"
   },
   {
    "duration": 2,
    "start_time": "2025-01-20T02:56:29.255Z"
   },
   {
    "duration": 2,
    "start_time": "2025-01-20T02:56:29.259Z"
   },
   {
    "duration": 2,
    "start_time": "2025-01-20T02:56:29.265Z"
   },
   {
    "duration": 2,
    "start_time": "2025-01-20T02:56:29.269Z"
   },
   {
    "duration": 2,
    "start_time": "2025-01-20T02:56:29.273Z"
   },
   {
    "duration": 3,
    "start_time": "2025-01-20T02:56:29.277Z"
   },
   {
    "duration": 3,
    "start_time": "2025-01-20T02:56:29.281Z"
   },
   {
    "duration": 3,
    "start_time": "2025-01-20T02:56:29.285Z"
   },
   {
    "duration": 2,
    "start_time": "2025-01-20T02:56:29.310Z"
   },
   {
    "duration": 3,
    "start_time": "2025-01-20T02:56:29.313Z"
   },
   {
    "duration": 2,
    "start_time": "2025-01-20T02:56:29.318Z"
   },
   {
    "duration": 2,
    "start_time": "2025-01-20T02:56:29.324Z"
   },
   {
    "duration": 3,
    "start_time": "2025-01-20T02:56:29.327Z"
   },
   {
    "duration": 2,
    "start_time": "2025-01-20T02:56:29.332Z"
   },
   {
    "duration": 3,
    "start_time": "2025-01-20T02:56:29.336Z"
   },
   {
    "duration": 3,
    "start_time": "2025-01-20T02:56:29.340Z"
   },
   {
    "duration": 2,
    "start_time": "2025-01-20T02:56:29.345Z"
   },
   {
    "duration": 2,
    "start_time": "2025-01-20T02:56:29.349Z"
   },
   {
    "duration": 3,
    "start_time": "2025-01-20T02:56:29.353Z"
   },
   {
    "duration": 3,
    "start_time": "2025-01-20T02:56:29.357Z"
   },
   {
    "duration": 2,
    "start_time": "2025-01-20T02:56:29.410Z"
   },
   {
    "duration": 4,
    "start_time": "2025-01-20T02:56:29.413Z"
   },
   {
    "duration": 2,
    "start_time": "2025-01-20T02:56:29.419Z"
   },
   {
    "duration": 3,
    "start_time": "2025-01-20T02:56:29.423Z"
   },
   {
    "duration": 3,
    "start_time": "2025-01-20T02:56:29.427Z"
   },
   {
    "duration": 3,
    "start_time": "2025-01-20T02:56:29.431Z"
   },
   {
    "duration": 10,
    "start_time": "2025-01-20T02:58:51.645Z"
   },
   {
    "duration": 12,
    "start_time": "2025-01-20T02:59:07.271Z"
   },
   {
    "duration": 9,
    "start_time": "2025-01-20T02:59:16.347Z"
   },
   {
    "duration": 210,
    "start_time": "2025-01-20T03:02:52.211Z"
   },
   {
    "duration": 9,
    "start_time": "2025-01-20T03:02:55.459Z"
   },
   {
    "duration": 8,
    "start_time": "2025-01-20T03:03:09.455Z"
   },
   {
    "duration": 9,
    "start_time": "2025-01-20T03:04:01.122Z"
   },
   {
    "duration": 8,
    "start_time": "2025-01-20T03:05:06.546Z"
   },
   {
    "duration": 9,
    "start_time": "2025-01-20T03:05:11.370Z"
   },
   {
    "duration": 16,
    "start_time": "2025-01-20T03:15:21.619Z"
   },
   {
    "duration": 7,
    "start_time": "2025-01-20T03:15:31.822Z"
   },
   {
    "duration": 11,
    "start_time": "2025-01-20T03:15:43.697Z"
   },
   {
    "duration": 11,
    "start_time": "2025-01-20T03:16:06.462Z"
   },
   {
    "duration": 12,
    "start_time": "2025-01-20T03:16:07.285Z"
   },
   {
    "duration": 10,
    "start_time": "2025-01-20T03:16:09.131Z"
   },
   {
    "duration": 7,
    "start_time": "2025-01-20T03:16:19.993Z"
   },
   {
    "duration": 11,
    "start_time": "2025-01-20T03:16:25.732Z"
   },
   {
    "duration": 12,
    "start_time": "2025-01-20T03:16:28.025Z"
   },
   {
    "duration": 13,
    "start_time": "2025-01-20T03:18:22.512Z"
   },
   {
    "duration": 9,
    "start_time": "2025-01-20T03:18:30.166Z"
   },
   {
    "duration": 8,
    "start_time": "2025-01-20T03:18:42.297Z"
   },
   {
    "duration": 8,
    "start_time": "2025-01-20T03:18:42.900Z"
   },
   {
    "duration": 8,
    "start_time": "2025-01-20T03:18:43.491Z"
   },
   {
    "duration": 9,
    "start_time": "2025-01-20T03:18:44.259Z"
   },
   {
    "duration": 8,
    "start_time": "2025-01-20T03:18:44.876Z"
   },
   {
    "duration": 8,
    "start_time": "2025-01-20T03:18:45.494Z"
   },
   {
    "duration": 8,
    "start_time": "2025-01-20T03:18:46.066Z"
   },
   {
    "duration": 8,
    "start_time": "2025-01-20T03:18:46.668Z"
   },
   {
    "duration": 6,
    "start_time": "2025-01-20T03:18:59.986Z"
   },
   {
    "duration": 8,
    "start_time": "2025-01-20T03:19:07.150Z"
   },
   {
    "duration": 161,
    "start_time": "2025-01-20T16:28:56.005Z"
   },
   {
    "duration": 2445,
    "start_time": "2025-01-20T16:29:02.279Z"
   },
   {
    "duration": 212,
    "start_time": "2025-01-20T16:29:04.726Z"
   },
   {
    "duration": 9,
    "start_time": "2025-01-20T16:29:04.941Z"
   },
   {
    "duration": 9,
    "start_time": "2025-01-20T16:29:04.952Z"
   },
   {
    "duration": 8,
    "start_time": "2025-01-20T16:29:04.964Z"
   },
   {
    "duration": 9,
    "start_time": "2025-01-20T16:29:04.973Z"
   },
   {
    "duration": 3,
    "start_time": "2025-01-20T16:29:04.984Z"
   },
   {
    "duration": 41,
    "start_time": "2025-01-20T16:29:04.988Z"
   },
   {
    "duration": 10,
    "start_time": "2025-01-20T16:29:05.030Z"
   },
   {
    "duration": 11,
    "start_time": "2025-01-20T16:29:05.041Z"
   },
   {
    "duration": 8,
    "start_time": "2025-01-20T16:29:05.054Z"
   },
   {
    "duration": 6,
    "start_time": "2025-01-20T16:29:05.064Z"
   },
   {
    "duration": 2,
    "start_time": "2025-01-20T16:29:05.072Z"
   },
   {
    "duration": 2,
    "start_time": "2025-01-20T16:29:05.078Z"
   },
   {
    "duration": 2,
    "start_time": "2025-01-20T16:29:05.082Z"
   },
   {
    "duration": 40,
    "start_time": "2025-01-20T16:29:05.086Z"
   },
   {
    "duration": 3,
    "start_time": "2025-01-20T16:29:05.127Z"
   },
   {
    "duration": 2,
    "start_time": "2025-01-20T16:29:05.132Z"
   },
   {
    "duration": 3,
    "start_time": "2025-01-20T16:29:05.136Z"
   },
   {
    "duration": 4,
    "start_time": "2025-01-20T16:29:05.141Z"
   },
   {
    "duration": 3,
    "start_time": "2025-01-20T16:29:05.147Z"
   },
   {
    "duration": 3,
    "start_time": "2025-01-20T16:29:05.152Z"
   },
   {
    "duration": 3,
    "start_time": "2025-01-20T16:29:05.156Z"
   },
   {
    "duration": 2,
    "start_time": "2025-01-20T16:29:05.163Z"
   },
   {
    "duration": 2,
    "start_time": "2025-01-20T16:29:05.167Z"
   },
   {
    "duration": 2,
    "start_time": "2025-01-20T16:29:05.172Z"
   },
   {
    "duration": 50,
    "start_time": "2025-01-20T16:29:05.176Z"
   },
   {
    "duration": 3,
    "start_time": "2025-01-20T16:29:05.227Z"
   },
   {
    "duration": 2,
    "start_time": "2025-01-20T16:29:05.232Z"
   },
   {
    "duration": 11,
    "start_time": "2025-01-20T16:29:16.047Z"
   },
   {
    "duration": 10,
    "start_time": "2025-01-20T16:29:25.564Z"
   },
   {
    "duration": 10,
    "start_time": "2025-01-20T16:31:35.360Z"
   },
   {
    "duration": 10,
    "start_time": "2025-01-20T16:32:53.702Z"
   },
   {
    "duration": 226,
    "start_time": "2025-01-20T16:33:50.845Z"
   },
   {
    "duration": 5,
    "start_time": "2025-01-20T16:33:55.891Z"
   },
   {
    "duration": 10,
    "start_time": "2025-01-20T16:34:03.417Z"
   },
   {
    "duration": 11,
    "start_time": "2025-01-20T16:34:11.256Z"
   },
   {
    "duration": 10,
    "start_time": "2025-01-20T16:34:13.173Z"
   },
   {
    "duration": 11,
    "start_time": "2025-01-20T16:34:21.034Z"
   },
   {
    "duration": 11,
    "start_time": "2025-01-20T16:34:23.472Z"
   },
   {
    "duration": 10,
    "start_time": "2025-01-20T16:34:43.948Z"
   },
   {
    "duration": 12,
    "start_time": "2025-01-20T16:34:45.551Z"
   },
   {
    "duration": 12,
    "start_time": "2025-01-20T16:35:25.375Z"
   },
   {
    "duration": 15,
    "start_time": "2025-01-20T16:35:27.495Z"
   },
   {
    "duration": 10,
    "start_time": "2025-01-20T16:35:33.769Z"
   },
   {
    "duration": 11,
    "start_time": "2025-01-20T16:35:45.667Z"
   },
   {
    "duration": 11,
    "start_time": "2025-01-20T16:35:47.831Z"
   },
   {
    "duration": 12,
    "start_time": "2025-01-20T16:35:56.013Z"
   },
   {
    "duration": 11,
    "start_time": "2025-01-20T16:35:57.316Z"
   },
   {
    "duration": 11,
    "start_time": "2025-01-20T16:36:00.900Z"
   },
   {
    "duration": 10,
    "start_time": "2025-01-20T16:36:01.704Z"
   },
   {
    "duration": 12,
    "start_time": "2025-01-20T16:36:04.404Z"
   },
   {
    "duration": 10,
    "start_time": "2025-01-20T16:36:22.062Z"
   },
   {
    "duration": 10,
    "start_time": "2025-01-20T16:36:23.440Z"
   },
   {
    "duration": 10,
    "start_time": "2025-01-20T16:36:24.341Z"
   },
   {
    "duration": 10,
    "start_time": "2025-01-20T16:36:25.104Z"
   },
   {
    "duration": 10,
    "start_time": "2025-01-20T16:36:26.152Z"
   },
   {
    "duration": 34,
    "start_time": "2025-01-20T16:36:38.581Z"
   },
   {
    "duration": 17,
    "start_time": "2025-01-20T16:36:41.036Z"
   },
   {
    "duration": 36,
    "start_time": "2025-01-20T16:36:44.921Z"
   },
   {
    "duration": 39,
    "start_time": "2025-01-20T16:36:50.662Z"
   },
   {
    "duration": 17,
    "start_time": "2025-01-20T16:39:05.463Z"
   },
   {
    "duration": 20,
    "start_time": "2025-01-20T16:39:12.881Z"
   },
   {
    "duration": 11,
    "start_time": "2025-01-20T16:46:48.648Z"
   },
   {
    "duration": 18,
    "start_time": "2025-01-20T16:46:57.248Z"
   },
   {
    "duration": 13,
    "start_time": "2025-01-20T16:47:01.861Z"
   },
   {
    "duration": 74,
    "start_time": "2025-01-20T16:47:09.212Z"
   },
   {
    "duration": 14,
    "start_time": "2025-01-20T16:47:24.381Z"
   },
   {
    "duration": 9,
    "start_time": "2025-01-20T16:47:33.918Z"
   },
   {
    "duration": 10,
    "start_time": "2025-01-20T16:47:47.103Z"
   },
   {
    "duration": 14,
    "start_time": "2025-01-20T16:47:48.183Z"
   },
   {
    "duration": 9,
    "start_time": "2025-01-20T16:47:48.994Z"
   },
   {
    "duration": 10,
    "start_time": "2025-01-20T16:47:50.121Z"
   },
   {
    "duration": 14,
    "start_time": "2025-01-20T16:48:18.705Z"
   },
   {
    "duration": 27,
    "start_time": "2025-01-20T16:48:27.567Z"
   },
   {
    "duration": 15,
    "start_time": "2025-01-20T16:48:35.516Z"
   },
   {
    "duration": 18,
    "start_time": "2025-01-20T16:48:39.660Z"
   },
   {
    "duration": 8,
    "start_time": "2025-01-20T17:06:01.237Z"
   },
   {
    "duration": 14,
    "start_time": "2025-01-20T17:06:04.199Z"
   },
   {
    "duration": 8,
    "start_time": "2025-01-20T17:06:06.198Z"
   },
   {
    "duration": 8,
    "start_time": "2025-01-20T17:06:33.242Z"
   },
   {
    "duration": 4,
    "start_time": "2025-01-20T17:14:12.251Z"
   },
   {
    "duration": 24,
    "start_time": "2025-01-20T17:14:28.359Z"
   },
   {
    "duration": 12,
    "start_time": "2025-01-20T17:14:55.446Z"
   },
   {
    "duration": 11,
    "start_time": "2025-01-20T17:15:30.645Z"
   },
   {
    "duration": 12,
    "start_time": "2025-01-20T17:15:40.176Z"
   },
   {
    "duration": 10,
    "start_time": "2025-01-20T17:31:44.800Z"
   },
   {
    "duration": 9,
    "start_time": "2025-01-20T17:31:47.088Z"
   },
   {
    "duration": 12,
    "start_time": "2025-01-20T17:32:01.076Z"
   },
   {
    "duration": 15,
    "start_time": "2025-01-20T17:32:51.973Z"
   },
   {
    "duration": 17,
    "start_time": "2025-01-20T17:33:02.543Z"
   },
   {
    "duration": 9,
    "start_time": "2025-01-20T17:33:18.641Z"
   },
   {
    "duration": 7,
    "start_time": "2025-01-20T17:33:27.133Z"
   },
   {
    "duration": 7,
    "start_time": "2025-01-20T17:33:27.489Z"
   },
   {
    "duration": 6,
    "start_time": "2025-01-20T17:34:29.518Z"
   },
   {
    "duration": 10,
    "start_time": "2025-01-20T17:36:37.110Z"
   },
   {
    "duration": 8,
    "start_time": "2025-01-20T17:36:45.065Z"
   },
   {
    "duration": 11,
    "start_time": "2025-01-20T17:37:14.852Z"
   },
   {
    "duration": 2,
    "start_time": "2025-01-20T17:37:53.413Z"
   },
   {
    "duration": 3,
    "start_time": "2025-01-20T17:38:07.767Z"
   },
   {
    "duration": 3,
    "start_time": "2025-01-20T17:38:12.436Z"
   },
   {
    "duration": 12,
    "start_time": "2025-01-20T17:38:14.798Z"
   },
   {
    "duration": 9,
    "start_time": "2025-01-20T17:38:23.661Z"
   },
   {
    "duration": 12,
    "start_time": "2025-01-20T17:38:42.641Z"
   },
   {
    "duration": 9,
    "start_time": "2025-01-20T17:39:02.226Z"
   },
   {
    "duration": 13,
    "start_time": "2025-01-20T17:39:10.393Z"
   },
   {
    "duration": 9,
    "start_time": "2025-01-20T17:39:15.027Z"
   },
   {
    "duration": 13,
    "start_time": "2025-01-20T17:39:41.653Z"
   },
   {
    "duration": 2496,
    "start_time": "2025-01-20T18:07:35.076Z"
   },
   {
    "duration": 236,
    "start_time": "2025-01-20T18:07:37.574Z"
   },
   {
    "duration": 10,
    "start_time": "2025-01-20T18:07:37.812Z"
   },
   {
    "duration": 9,
    "start_time": "2025-01-20T18:07:37.824Z"
   },
   {
    "duration": 9,
    "start_time": "2025-01-20T18:07:37.836Z"
   },
   {
    "duration": 11,
    "start_time": "2025-01-20T18:07:37.847Z"
   },
   {
    "duration": 11,
    "start_time": "2025-01-20T18:07:37.860Z"
   },
   {
    "duration": 11,
    "start_time": "2025-01-20T18:07:37.873Z"
   },
   {
    "duration": 49,
    "start_time": "2025-01-20T18:07:37.885Z"
   },
   {
    "duration": 12,
    "start_time": "2025-01-20T18:07:37.936Z"
   },
   {
    "duration": 26,
    "start_time": "2025-01-20T18:07:37.950Z"
   },
   {
    "duration": 12,
    "start_time": "2025-01-20T18:07:37.978Z"
   },
   {
    "duration": 8,
    "start_time": "2025-01-20T18:07:37.992Z"
   },
   {
    "duration": 19,
    "start_time": "2025-01-20T18:07:38.033Z"
   },
   {
    "duration": 14,
    "start_time": "2025-01-20T18:07:38.054Z"
   },
   {
    "duration": 10,
    "start_time": "2025-01-20T18:07:38.069Z"
   },
   {
    "duration": 22,
    "start_time": "2025-01-20T18:07:38.081Z"
   },
   {
    "duration": 9,
    "start_time": "2025-01-20T18:07:38.132Z"
   },
   {
    "duration": 10,
    "start_time": "2025-01-20T18:07:38.144Z"
   },
   {
    "duration": 5,
    "start_time": "2025-01-20T18:07:38.156Z"
   },
   {
    "duration": 7,
    "start_time": "2025-01-20T18:07:38.163Z"
   },
   {
    "duration": 12,
    "start_time": "2025-01-20T18:07:38.172Z"
   },
   {
    "duration": 2,
    "start_time": "2025-01-20T18:07:38.187Z"
   },
   {
    "duration": 42,
    "start_time": "2025-01-20T18:07:38.190Z"
   },
   {
    "duration": 3,
    "start_time": "2025-01-20T18:07:38.234Z"
   },
   {
    "duration": 2,
    "start_time": "2025-01-20T18:07:38.239Z"
   },
   {
    "duration": 4,
    "start_time": "2025-01-20T18:07:38.243Z"
   },
   {
    "duration": 2,
    "start_time": "2025-01-20T18:07:38.249Z"
   },
   {
    "duration": 3,
    "start_time": "2025-01-20T18:07:38.253Z"
   },
   {
    "duration": 3,
    "start_time": "2025-01-20T18:07:38.257Z"
   },
   {
    "duration": 4,
    "start_time": "2025-01-20T18:07:38.261Z"
   },
   {
    "duration": 3,
    "start_time": "2025-01-20T18:07:38.266Z"
   },
   {
    "duration": 3,
    "start_time": "2025-01-20T18:07:38.271Z"
   },
   {
    "duration": 10,
    "start_time": "2025-01-20T18:07:56.135Z"
   },
   {
    "duration": 11,
    "start_time": "2025-01-20T18:07:57.072Z"
   },
   {
    "duration": 12,
    "start_time": "2025-01-20T18:08:28.379Z"
   },
   {
    "duration": 9,
    "start_time": "2025-01-20T18:08:50.950Z"
   },
   {
    "duration": 1712,
    "start_time": "2025-01-20T18:17:40.429Z"
   },
   {
    "duration": 815,
    "start_time": "2025-01-20T18:18:04.156Z"
   },
   {
    "duration": 212,
    "start_time": "2025-01-20T18:18:04.973Z"
   },
   {
    "duration": 10,
    "start_time": "2025-01-20T18:18:05.187Z"
   },
   {
    "duration": 10,
    "start_time": "2025-01-20T18:18:05.199Z"
   },
   {
    "duration": 8,
    "start_time": "2025-01-20T18:18:05.212Z"
   },
   {
    "duration": 9,
    "start_time": "2025-01-20T18:18:05.222Z"
   },
   {
    "duration": 11,
    "start_time": "2025-01-20T18:18:05.232Z"
   },
   {
    "duration": 10,
    "start_time": "2025-01-20T18:18:05.245Z"
   },
   {
    "duration": 14,
    "start_time": "2025-01-20T18:18:05.257Z"
   },
   {
    "duration": 9,
    "start_time": "2025-01-20T18:18:05.273Z"
   },
   {
    "duration": 55,
    "start_time": "2025-01-20T18:18:05.283Z"
   },
   {
    "duration": 12,
    "start_time": "2025-01-20T18:18:05.340Z"
   },
   {
    "duration": 8,
    "start_time": "2025-01-20T18:18:05.353Z"
   },
   {
    "duration": 18,
    "start_time": "2025-01-20T18:18:05.365Z"
   },
   {
    "duration": 13,
    "start_time": "2025-01-20T18:18:05.385Z"
   },
   {
    "duration": 39,
    "start_time": "2025-01-20T18:18:05.400Z"
   },
   {
    "duration": 21,
    "start_time": "2025-01-20T18:18:05.440Z"
   },
   {
    "duration": 6,
    "start_time": "2025-01-20T18:18:05.463Z"
   },
   {
    "duration": 13,
    "start_time": "2025-01-20T18:18:05.471Z"
   },
   {
    "duration": 6,
    "start_time": "2025-01-20T18:18:05.486Z"
   },
   {
    "duration": 44,
    "start_time": "2025-01-20T18:18:05.494Z"
   },
   {
    "duration": 11,
    "start_time": "2025-01-20T18:18:05.540Z"
   },
   {
    "duration": 1730,
    "start_time": "2025-01-20T18:18:05.553Z"
   },
   {
    "duration": 3,
    "start_time": "2025-01-20T18:18:07.285Z"
   },
   {
    "duration": 2,
    "start_time": "2025-01-20T18:18:07.291Z"
   },
   {
    "duration": 3,
    "start_time": "2025-01-20T18:18:07.295Z"
   },
   {
    "duration": 3,
    "start_time": "2025-01-20T18:18:07.300Z"
   },
   {
    "duration": 4,
    "start_time": "2025-01-20T18:18:07.305Z"
   },
   {
    "duration": 22,
    "start_time": "2025-01-20T18:18:07.310Z"
   },
   {
    "duration": 4,
    "start_time": "2025-01-20T18:18:07.333Z"
   },
   {
    "duration": 3,
    "start_time": "2025-01-20T18:18:07.338Z"
   },
   {
    "duration": 2,
    "start_time": "2025-01-20T18:18:07.343Z"
   },
   {
    "duration": 3,
    "start_time": "2025-01-20T18:18:07.347Z"
   },
   {
    "duration": 764,
    "start_time": "2025-01-20T18:19:43.387Z"
   },
   {
    "duration": 212,
    "start_time": "2025-01-20T18:19:44.153Z"
   },
   {
    "duration": 10,
    "start_time": "2025-01-20T18:19:44.367Z"
   },
   {
    "duration": 11,
    "start_time": "2025-01-20T18:19:44.380Z"
   },
   {
    "duration": 10,
    "start_time": "2025-01-20T18:19:44.392Z"
   },
   {
    "duration": 28,
    "start_time": "2025-01-20T18:19:44.404Z"
   },
   {
    "duration": 11,
    "start_time": "2025-01-20T18:19:44.434Z"
   },
   {
    "duration": 11,
    "start_time": "2025-01-20T18:19:44.447Z"
   },
   {
    "duration": 16,
    "start_time": "2025-01-20T18:19:44.460Z"
   },
   {
    "duration": 11,
    "start_time": "2025-01-20T18:19:44.480Z"
   },
   {
    "duration": 55,
    "start_time": "2025-01-20T18:19:44.493Z"
   },
   {
    "duration": 12,
    "start_time": "2025-01-20T18:19:44.550Z"
   },
   {
    "duration": 8,
    "start_time": "2025-01-20T18:19:44.563Z"
   },
   {
    "duration": 22,
    "start_time": "2025-01-20T18:19:44.573Z"
   },
   {
    "duration": 50,
    "start_time": "2025-01-20T18:19:44.596Z"
   },
   {
    "duration": 10,
    "start_time": "2025-01-20T18:19:44.647Z"
   },
   {
    "duration": 22,
    "start_time": "2025-01-20T18:19:44.659Z"
   },
   {
    "duration": 7,
    "start_time": "2025-01-20T18:19:44.682Z"
   },
   {
    "duration": 41,
    "start_time": "2025-01-20T18:19:44.690Z"
   },
   {
    "duration": 6,
    "start_time": "2025-01-20T18:19:44.734Z"
   },
   {
    "duration": 8,
    "start_time": "2025-01-20T18:19:44.742Z"
   },
   {
    "duration": 12,
    "start_time": "2025-01-20T18:19:44.751Z"
   },
   {
    "duration": 1743,
    "start_time": "2025-01-20T18:19:44.765Z"
   },
   {
    "duration": 3,
    "start_time": "2025-01-20T18:19:46.509Z"
   },
   {
    "duration": 4,
    "start_time": "2025-01-20T18:19:46.513Z"
   },
   {
    "duration": 14,
    "start_time": "2025-01-20T18:19:46.518Z"
   },
   {
    "duration": 4,
    "start_time": "2025-01-20T18:19:46.533Z"
   },
   {
    "duration": 2,
    "start_time": "2025-01-20T18:19:46.541Z"
   },
   {
    "duration": 4,
    "start_time": "2025-01-20T18:19:46.544Z"
   },
   {
    "duration": 3,
    "start_time": "2025-01-20T18:19:46.549Z"
   },
   {
    "duration": 3,
    "start_time": "2025-01-20T18:19:46.554Z"
   },
   {
    "duration": 3,
    "start_time": "2025-01-20T18:19:46.558Z"
   },
   {
    "duration": 3,
    "start_time": "2025-01-20T18:19:46.563Z"
   },
   {
    "duration": 162,
    "start_time": "2025-01-20T18:20:57.399Z"
   },
   {
    "duration": 734,
    "start_time": "2025-01-20T18:21:03.499Z"
   },
   {
    "duration": 208,
    "start_time": "2025-01-20T18:21:04.235Z"
   },
   {
    "duration": 11,
    "start_time": "2025-01-20T18:21:04.444Z"
   },
   {
    "duration": 12,
    "start_time": "2025-01-20T18:21:04.456Z"
   },
   {
    "duration": 9,
    "start_time": "2025-01-20T18:21:04.471Z"
   },
   {
    "duration": 10,
    "start_time": "2025-01-20T18:21:04.482Z"
   },
   {
    "duration": 11,
    "start_time": "2025-01-20T18:21:04.493Z"
   },
   {
    "duration": 13,
    "start_time": "2025-01-20T18:21:04.531Z"
   },
   {
    "duration": 17,
    "start_time": "2025-01-20T18:21:04.546Z"
   },
   {
    "duration": 10,
    "start_time": "2025-01-20T18:21:04.564Z"
   },
   {
    "duration": 27,
    "start_time": "2025-01-20T18:21:04.576Z"
   },
   {
    "duration": 12,
    "start_time": "2025-01-20T18:21:04.631Z"
   },
   {
    "duration": 8,
    "start_time": "2025-01-20T18:21:04.645Z"
   },
   {
    "duration": 18,
    "start_time": "2025-01-20T18:21:04.657Z"
   },
   {
    "duration": 13,
    "start_time": "2025-01-20T18:21:04.677Z"
   },
   {
    "duration": 41,
    "start_time": "2025-01-20T18:21:04.692Z"
   },
   {
    "duration": 21,
    "start_time": "2025-01-20T18:21:04.735Z"
   },
   {
    "duration": 7,
    "start_time": "2025-01-20T18:21:04.758Z"
   },
   {
    "duration": 13,
    "start_time": "2025-01-20T18:21:04.767Z"
   },
   {
    "duration": 6,
    "start_time": "2025-01-20T18:21:04.782Z"
   },
   {
    "duration": 8,
    "start_time": "2025-01-20T18:21:04.789Z"
   },
   {
    "duration": 44,
    "start_time": "2025-01-20T18:21:04.799Z"
   },
   {
    "duration": 1736,
    "start_time": "2025-01-20T18:21:04.845Z"
   },
   {
    "duration": 2,
    "start_time": "2025-01-20T18:21:06.583Z"
   },
   {
    "duration": 3,
    "start_time": "2025-01-20T18:21:06.587Z"
   },
   {
    "duration": 4,
    "start_time": "2025-01-20T18:21:06.591Z"
   },
   {
    "duration": 3,
    "start_time": "2025-01-20T18:21:06.596Z"
   },
   {
    "duration": 3,
    "start_time": "2025-01-20T18:21:06.601Z"
   },
   {
    "duration": 26,
    "start_time": "2025-01-20T18:21:06.605Z"
   },
   {
    "duration": 3,
    "start_time": "2025-01-20T18:21:06.633Z"
   },
   {
    "duration": 3,
    "start_time": "2025-01-20T18:21:06.637Z"
   },
   {
    "duration": 3,
    "start_time": "2025-01-20T18:21:06.642Z"
   },
   {
    "duration": 4,
    "start_time": "2025-01-20T18:21:06.646Z"
   },
   {
    "duration": 823,
    "start_time": "2025-01-20T18:28:42.541Z"
   },
   {
    "duration": 211,
    "start_time": "2025-01-20T18:28:43.367Z"
   },
   {
    "duration": 10,
    "start_time": "2025-01-20T18:28:43.580Z"
   },
   {
    "duration": 11,
    "start_time": "2025-01-20T18:28:43.593Z"
   },
   {
    "duration": 8,
    "start_time": "2025-01-20T18:28:43.606Z"
   },
   {
    "duration": 18,
    "start_time": "2025-01-20T18:28:43.616Z"
   },
   {
    "duration": 11,
    "start_time": "2025-01-20T18:28:43.636Z"
   },
   {
    "duration": 11,
    "start_time": "2025-01-20T18:28:43.649Z"
   },
   {
    "duration": 16,
    "start_time": "2025-01-20T18:28:43.662Z"
   },
   {
    "duration": 10,
    "start_time": "2025-01-20T18:28:43.682Z"
   },
   {
    "duration": 63,
    "start_time": "2025-01-20T18:28:43.693Z"
   },
   {
    "duration": 11,
    "start_time": "2025-01-20T18:28:43.758Z"
   },
   {
    "duration": 8,
    "start_time": "2025-01-20T18:28:43.771Z"
   },
   {
    "duration": 17,
    "start_time": "2025-01-20T18:28:43.781Z"
   },
   {
    "duration": 39,
    "start_time": "2025-01-20T18:28:43.800Z"
   },
   {
    "duration": 9,
    "start_time": "2025-01-20T18:28:43.840Z"
   },
   {
    "duration": 26,
    "start_time": "2025-01-20T18:28:43.851Z"
   },
   {
    "duration": 8,
    "start_time": "2025-01-20T18:28:43.879Z"
   },
   {
    "duration": 13,
    "start_time": "2025-01-20T18:28:43.889Z"
   },
   {
    "duration": 6,
    "start_time": "2025-01-20T18:28:43.931Z"
   },
   {
    "duration": 9,
    "start_time": "2025-01-20T18:28:43.939Z"
   },
   {
    "duration": 12,
    "start_time": "2025-01-20T18:28:43.949Z"
   },
   {
    "duration": 1952,
    "start_time": "2025-01-20T18:28:43.963Z"
   },
   {
    "duration": 0,
    "start_time": "2025-01-20T18:28:45.917Z"
   },
   {
    "duration": 0,
    "start_time": "2025-01-20T18:28:45.918Z"
   },
   {
    "duration": 0,
    "start_time": "2025-01-20T18:28:45.919Z"
   },
   {
    "duration": 0,
    "start_time": "2025-01-20T18:28:45.920Z"
   },
   {
    "duration": 0,
    "start_time": "2025-01-20T18:28:45.922Z"
   },
   {
    "duration": 0,
    "start_time": "2025-01-20T18:28:45.931Z"
   },
   {
    "duration": 0,
    "start_time": "2025-01-20T18:28:45.932Z"
   },
   {
    "duration": 0,
    "start_time": "2025-01-20T18:28:45.933Z"
   },
   {
    "duration": 0,
    "start_time": "2025-01-20T18:28:45.934Z"
   },
   {
    "duration": 0,
    "start_time": "2025-01-20T18:28:45.935Z"
   },
   {
    "duration": 787,
    "start_time": "2025-01-20T18:30:43.469Z"
   },
   {
    "duration": 206,
    "start_time": "2025-01-20T18:30:44.258Z"
   },
   {
    "duration": 9,
    "start_time": "2025-01-20T18:30:44.466Z"
   },
   {
    "duration": 9,
    "start_time": "2025-01-20T18:30:44.476Z"
   },
   {
    "duration": 8,
    "start_time": "2025-01-20T18:30:44.488Z"
   },
   {
    "duration": 9,
    "start_time": "2025-01-20T18:30:44.498Z"
   },
   {
    "duration": 27,
    "start_time": "2025-01-20T18:30:44.509Z"
   },
   {
    "duration": 15,
    "start_time": "2025-01-20T18:30:44.538Z"
   },
   {
    "duration": 16,
    "start_time": "2025-01-20T18:30:44.555Z"
   },
   {
    "duration": 10,
    "start_time": "2025-01-20T18:30:44.573Z"
   },
   {
    "duration": 59,
    "start_time": "2025-01-20T18:30:44.585Z"
   },
   {
    "duration": 12,
    "start_time": "2025-01-20T18:30:44.646Z"
   },
   {
    "duration": 8,
    "start_time": "2025-01-20T18:30:44.660Z"
   },
   {
    "duration": 17,
    "start_time": "2025-01-20T18:30:44.672Z"
   },
   {
    "duration": 14,
    "start_time": "2025-01-20T18:30:44.690Z"
   },
   {
    "duration": 35,
    "start_time": "2025-01-20T18:30:44.705Z"
   },
   {
    "duration": 21,
    "start_time": "2025-01-20T18:30:44.742Z"
   },
   {
    "duration": 8,
    "start_time": "2025-01-20T18:30:44.764Z"
   },
   {
    "duration": 15,
    "start_time": "2025-01-20T18:30:44.774Z"
   },
   {
    "duration": 6,
    "start_time": "2025-01-20T18:30:44.791Z"
   },
   {
    "duration": 38,
    "start_time": "2025-01-20T18:30:44.798Z"
   },
   {
    "duration": 12,
    "start_time": "2025-01-20T18:30:44.838Z"
   },
   {
    "duration": 1758,
    "start_time": "2025-01-20T18:30:44.852Z"
   },
   {
    "duration": 2,
    "start_time": "2025-01-20T18:30:46.612Z"
   },
   {
    "duration": 4,
    "start_time": "2025-01-20T18:30:46.616Z"
   },
   {
    "duration": 11,
    "start_time": "2025-01-20T18:30:46.621Z"
   },
   {
    "duration": 3,
    "start_time": "2025-01-20T18:30:46.634Z"
   },
   {
    "duration": 3,
    "start_time": "2025-01-20T18:30:46.638Z"
   },
   {
    "duration": 3,
    "start_time": "2025-01-20T18:30:46.642Z"
   },
   {
    "duration": 3,
    "start_time": "2025-01-20T18:30:46.647Z"
   },
   {
    "duration": 4,
    "start_time": "2025-01-20T18:30:46.651Z"
   },
   {
    "duration": 3,
    "start_time": "2025-01-20T18:30:46.656Z"
   },
   {
    "duration": 3,
    "start_time": "2025-01-20T18:30:46.661Z"
   },
   {
    "duration": 2,
    "start_time": "2025-01-20T18:31:00.877Z"
   },
   {
    "duration": 571,
    "start_time": "2025-01-20T18:51:06.055Z"
   },
   {
    "duration": 44,
    "start_time": "2025-01-20T18:51:17.241Z"
   },
   {
    "duration": 13,
    "start_time": "2025-01-20T18:51:27.875Z"
   },
   {
    "duration": 159,
    "start_time": "2025-01-20T20:08:37.105Z"
   },
   {
    "duration": 2505,
    "start_time": "2025-01-20T20:08:42.989Z"
   },
   {
    "duration": 204,
    "start_time": "2025-01-20T20:08:45.496Z"
   },
   {
    "duration": 9,
    "start_time": "2025-01-20T20:08:45.702Z"
   },
   {
    "duration": 10,
    "start_time": "2025-01-20T20:08:45.712Z"
   },
   {
    "duration": 9,
    "start_time": "2025-01-20T20:08:45.724Z"
   },
   {
    "duration": 10,
    "start_time": "2025-01-20T20:08:45.734Z"
   },
   {
    "duration": 11,
    "start_time": "2025-01-20T20:08:45.745Z"
   },
   {
    "duration": 10,
    "start_time": "2025-01-20T20:08:45.758Z"
   },
   {
    "duration": 17,
    "start_time": "2025-01-20T20:08:45.770Z"
   },
   {
    "duration": 8,
    "start_time": "2025-01-20T20:08:45.789Z"
   },
   {
    "duration": 28,
    "start_time": "2025-01-20T20:08:45.832Z"
   },
   {
    "duration": 13,
    "start_time": "2025-01-20T20:08:45.862Z"
   },
   {
    "duration": 8,
    "start_time": "2025-01-20T20:08:45.876Z"
   },
   {
    "duration": 18,
    "start_time": "2025-01-20T20:08:45.887Z"
   },
   {
    "duration": 17,
    "start_time": "2025-01-20T20:08:45.932Z"
   },
   {
    "duration": 9,
    "start_time": "2025-01-20T20:08:45.952Z"
   },
   {
    "duration": 25,
    "start_time": "2025-01-20T20:08:45.963Z"
   },
   {
    "duration": 7,
    "start_time": "2025-01-20T20:08:45.990Z"
   },
   {
    "duration": 15,
    "start_time": "2025-01-20T20:08:46.030Z"
   },
   {
    "duration": 6,
    "start_time": "2025-01-20T20:08:46.046Z"
   },
   {
    "duration": 8,
    "start_time": "2025-01-20T20:08:46.053Z"
   },
   {
    "duration": 11,
    "start_time": "2025-01-20T20:08:46.063Z"
   },
   {
    "duration": 2,
    "start_time": "2025-01-20T20:08:46.076Z"
   },
   {
    "duration": 3,
    "start_time": "2025-01-20T20:08:46.079Z"
   },
   {
    "duration": 2,
    "start_time": "2025-01-20T20:08:46.085Z"
   },
   {
    "duration": 3,
    "start_time": "2025-01-20T20:08:46.089Z"
   },
   {
    "duration": 39,
    "start_time": "2025-01-20T20:08:46.093Z"
   },
   {
    "duration": 5,
    "start_time": "2025-01-20T20:08:46.134Z"
   },
   {
    "duration": 3,
    "start_time": "2025-01-20T20:08:46.141Z"
   },
   {
    "duration": 3,
    "start_time": "2025-01-20T20:08:46.145Z"
   },
   {
    "duration": 3,
    "start_time": "2025-01-20T20:08:46.150Z"
   },
   {
    "duration": 4,
    "start_time": "2025-01-20T20:08:46.154Z"
   },
   {
    "duration": 3,
    "start_time": "2025-01-20T20:08:46.161Z"
   },
   {
    "duration": 11,
    "start_time": "2025-01-20T20:09:21.990Z"
   },
   {
    "duration": 182,
    "start_time": "2025-01-20T22:53:24.516Z"
   },
   {
    "duration": 2756,
    "start_time": "2025-01-20T22:53:30.345Z"
   },
   {
    "duration": 242,
    "start_time": "2025-01-20T22:53:33.104Z"
   },
   {
    "duration": 10,
    "start_time": "2025-01-20T22:53:33.348Z"
   },
   {
    "duration": 10,
    "start_time": "2025-01-20T22:53:33.360Z"
   },
   {
    "duration": 8,
    "start_time": "2025-01-20T22:53:33.372Z"
   },
   {
    "duration": 11,
    "start_time": "2025-01-20T22:53:33.382Z"
   },
   {
    "duration": 13,
    "start_time": "2025-01-20T22:53:33.395Z"
   },
   {
    "duration": 34,
    "start_time": "2025-01-20T22:53:33.409Z"
   },
   {
    "duration": 17,
    "start_time": "2025-01-20T22:53:33.445Z"
   },
   {
    "duration": 12,
    "start_time": "2025-01-20T22:53:33.466Z"
   },
   {
    "duration": 58,
    "start_time": "2025-01-20T22:53:33.480Z"
   },
   {
    "duration": 14,
    "start_time": "2025-01-20T22:53:33.540Z"
   },
   {
    "duration": 10,
    "start_time": "2025-01-20T22:53:33.556Z"
   },
   {
    "duration": 19,
    "start_time": "2025-01-20T22:53:33.570Z"
   },
   {
    "duration": 46,
    "start_time": "2025-01-20T22:53:33.591Z"
   },
   {
    "duration": 12,
    "start_time": "2025-01-20T22:53:33.639Z"
   },
   {
    "duration": 29,
    "start_time": "2025-01-20T22:53:33.653Z"
   },
   {
    "duration": 7,
    "start_time": "2025-01-20T22:53:33.685Z"
   },
   {
    "duration": 14,
    "start_time": "2025-01-20T22:53:33.694Z"
   },
   {
    "duration": 7,
    "start_time": "2025-01-20T22:53:33.732Z"
   },
   {
    "duration": 19,
    "start_time": "2025-01-20T22:53:33.741Z"
   },
   {
    "duration": 14,
    "start_time": "2025-01-20T22:53:33.763Z"
   },
   {
    "duration": 2,
    "start_time": "2025-01-20T22:53:33.779Z"
   },
   {
    "duration": 3,
    "start_time": "2025-01-20T22:53:33.784Z"
   },
   {
    "duration": 3,
    "start_time": "2025-01-20T22:53:33.789Z"
   },
   {
    "duration": 2,
    "start_time": "2025-01-20T22:53:33.797Z"
   },
   {
    "duration": 2,
    "start_time": "2025-01-20T22:53:33.801Z"
   },
   {
    "duration": 2,
    "start_time": "2025-01-20T22:53:33.834Z"
   },
   {
    "duration": 3,
    "start_time": "2025-01-20T22:53:33.838Z"
   },
   {
    "duration": 2,
    "start_time": "2025-01-20T22:53:33.843Z"
   },
   {
    "duration": 3,
    "start_time": "2025-01-20T22:53:33.847Z"
   },
   {
    "duration": 3,
    "start_time": "2025-01-20T22:53:33.851Z"
   },
   {
    "duration": 2,
    "start_time": "2025-01-20T22:53:33.856Z"
   },
   {
    "duration": 12,
    "start_time": "2025-01-20T22:53:41.448Z"
   },
   {
    "duration": 13,
    "start_time": "2025-01-20T22:53:43.162Z"
   },
   {
    "duration": 12,
    "start_time": "2025-01-20T22:53:45.284Z"
   },
   {
    "duration": 11,
    "start_time": "2025-01-20T22:53:46.235Z"
   },
   {
    "duration": 13,
    "start_time": "2025-01-20T23:15:19.112Z"
   },
   {
    "duration": 8,
    "start_time": "2025-01-20T23:18:03.106Z"
   },
   {
    "duration": 18,
    "start_time": "2025-01-20T23:18:17.854Z"
   },
   {
    "duration": 14,
    "start_time": "2025-01-20T23:18:23.597Z"
   },
   {
    "duration": 17,
    "start_time": "2025-01-20T23:18:30.768Z"
   },
   {
    "duration": 12,
    "start_time": "2025-01-20T23:19:29.733Z"
   },
   {
    "duration": 8,
    "start_time": "2025-01-20T23:19:43.855Z"
   },
   {
    "duration": 97,
    "start_time": "2025-01-20T23:20:37.309Z"
   },
   {
    "duration": 16,
    "start_time": "2025-01-20T23:21:18.379Z"
   },
   {
    "duration": 21,
    "start_time": "2025-01-20T23:21:53.394Z"
   },
   {
    "duration": 16,
    "start_time": "2025-01-20T23:22:08.641Z"
   },
   {
    "duration": 18,
    "start_time": "2025-01-20T23:25:53.056Z"
   },
   {
    "duration": 13,
    "start_time": "2025-01-20T23:26:36.001Z"
   },
   {
    "duration": 12,
    "start_time": "2025-01-20T23:26:58.394Z"
   },
   {
    "duration": 5,
    "start_time": "2025-01-20T23:31:18.618Z"
   },
   {
    "duration": 7,
    "start_time": "2025-01-20T23:31:36.964Z"
   },
   {
    "duration": 10,
    "start_time": "2025-01-20T23:31:47.102Z"
   },
   {
    "duration": 7,
    "start_time": "2025-01-20T23:31:54.270Z"
   },
   {
    "duration": 7,
    "start_time": "2025-01-20T23:31:58.472Z"
   },
   {
    "duration": 7,
    "start_time": "2025-01-20T23:31:59.785Z"
   },
   {
    "duration": 7,
    "start_time": "2025-01-20T23:32:00.509Z"
   },
   {
    "duration": 10,
    "start_time": "2025-01-20T23:32:06.397Z"
   },
   {
    "duration": 3,
    "start_time": "2025-01-20T23:34:05.688Z"
   },
   {
    "duration": 9,
    "start_time": "2025-01-20T23:34:18.320Z"
   },
   {
    "duration": 643,
    "start_time": "2025-01-20T23:37:30.075Z"
   },
   {
    "duration": 6,
    "start_time": "2025-01-20T23:37:53.794Z"
   },
   {
    "duration": 10,
    "start_time": "2025-01-20T23:38:02.491Z"
   },
   {
    "duration": 15,
    "start_time": "2025-01-20T23:38:40.370Z"
   },
   {
    "duration": 11,
    "start_time": "2025-01-20T23:38:45.491Z"
   },
   {
    "duration": 6,
    "start_time": "2025-01-20T23:42:14.083Z"
   },
   {
    "duration": 13,
    "start_time": "2025-01-20T23:42:19.681Z"
   },
   {
    "duration": 7,
    "start_time": "2025-01-20T23:43:33.598Z"
   },
   {
    "duration": 13,
    "start_time": "2025-01-20T23:43:35.220Z"
   },
   {
    "duration": 731,
    "start_time": "2025-01-20T23:49:24.800Z"
   },
   {
    "duration": 164,
    "start_time": "2025-01-20T23:49:25.533Z"
   },
   {
    "duration": 9,
    "start_time": "2025-01-20T23:49:25.698Z"
   },
   {
    "duration": 10,
    "start_time": "2025-01-20T23:49:25.708Z"
   },
   {
    "duration": 8,
    "start_time": "2025-01-20T23:49:25.731Z"
   },
   {
    "duration": 9,
    "start_time": "2025-01-20T23:49:25.741Z"
   },
   {
    "duration": 11,
    "start_time": "2025-01-20T23:49:25.751Z"
   },
   {
    "duration": 11,
    "start_time": "2025-01-20T23:49:25.764Z"
   },
   {
    "duration": 16,
    "start_time": "2025-01-20T23:49:25.778Z"
   },
   {
    "duration": 45,
    "start_time": "2025-01-20T23:49:25.796Z"
   },
   {
    "duration": 26,
    "start_time": "2025-01-20T23:49:25.842Z"
   },
   {
    "duration": 16,
    "start_time": "2025-01-20T23:49:25.870Z"
   },
   {
    "duration": 11,
    "start_time": "2025-01-20T23:49:25.888Z"
   },
   {
    "duration": 9,
    "start_time": "2025-01-20T23:49:25.930Z"
   },
   {
    "duration": 17,
    "start_time": "2025-01-20T23:49:25.940Z"
   },
   {
    "duration": 9,
    "start_time": "2025-01-20T23:49:25.959Z"
   },
   {
    "duration": 14,
    "start_time": "2025-01-20T23:49:25.970Z"
   },
   {
    "duration": 9,
    "start_time": "2025-01-20T23:49:25.986Z"
   },
   {
    "duration": 54,
    "start_time": "2025-01-20T23:49:25.997Z"
   },
   {
    "duration": 7,
    "start_time": "2025-01-20T23:49:26.053Z"
   },
   {
    "duration": 18,
    "start_time": "2025-01-20T23:49:26.062Z"
   },
   {
    "duration": 14,
    "start_time": "2025-01-20T23:49:26.082Z"
   },
   {
    "duration": 10,
    "start_time": "2025-01-20T23:49:36.510Z"
   },
   {
    "duration": 6,
    "start_time": "2025-01-20T23:49:45.392Z"
   },
   {
    "duration": 5,
    "start_time": "2025-01-20T23:49:46.332Z"
   },
   {
    "duration": 13,
    "start_time": "2025-01-20T23:49:48.287Z"
   },
   {
    "duration": 159,
    "start_time": "2025-01-22T01:00:58.768Z"
   },
   {
    "duration": 2580,
    "start_time": "2025-01-22T01:01:07.731Z"
   },
   {
    "duration": 233,
    "start_time": "2025-01-22T01:01:10.313Z"
   },
   {
    "duration": 10,
    "start_time": "2025-01-22T01:01:10.548Z"
   },
   {
    "duration": 11,
    "start_time": "2025-01-22T01:01:10.560Z"
   },
   {
    "duration": 10,
    "start_time": "2025-01-22T01:01:10.574Z"
   },
   {
    "duration": 10,
    "start_time": "2025-01-22T01:01:10.586Z"
   },
   {
    "duration": 39,
    "start_time": "2025-01-22T01:01:10.598Z"
   },
   {
    "duration": 10,
    "start_time": "2025-01-22T01:01:10.639Z"
   },
   {
    "duration": 143,
    "start_time": "2025-01-22T01:01:10.652Z"
   },
   {
    "duration": 0,
    "start_time": "2025-01-22T01:01:10.798Z"
   },
   {
    "duration": 0,
    "start_time": "2025-01-22T01:01:10.799Z"
   },
   {
    "duration": 0,
    "start_time": "2025-01-22T01:01:10.799Z"
   },
   {
    "duration": 0,
    "start_time": "2025-01-22T01:01:10.800Z"
   },
   {
    "duration": 0,
    "start_time": "2025-01-22T01:01:10.801Z"
   },
   {
    "duration": 0,
    "start_time": "2025-01-22T01:01:10.802Z"
   },
   {
    "duration": 0,
    "start_time": "2025-01-22T01:01:10.803Z"
   },
   {
    "duration": 0,
    "start_time": "2025-01-22T01:01:10.804Z"
   },
   {
    "duration": 0,
    "start_time": "2025-01-22T01:01:10.805Z"
   },
   {
    "duration": 0,
    "start_time": "2025-01-22T01:01:10.806Z"
   },
   {
    "duration": 0,
    "start_time": "2025-01-22T01:01:10.808Z"
   },
   {
    "duration": 0,
    "start_time": "2025-01-22T01:01:10.809Z"
   },
   {
    "duration": 0,
    "start_time": "2025-01-22T01:01:10.831Z"
   },
   {
    "duration": 0,
    "start_time": "2025-01-22T01:01:10.832Z"
   },
   {
    "duration": 0,
    "start_time": "2025-01-22T01:01:10.833Z"
   },
   {
    "duration": 0,
    "start_time": "2025-01-22T01:01:10.834Z"
   },
   {
    "duration": 0,
    "start_time": "2025-01-22T01:01:10.835Z"
   },
   {
    "duration": 0,
    "start_time": "2025-01-22T01:01:10.836Z"
   },
   {
    "duration": 0,
    "start_time": "2025-01-22T01:01:10.837Z"
   },
   {
    "duration": 0,
    "start_time": "2025-01-22T01:01:10.838Z"
   },
   {
    "duration": 0,
    "start_time": "2025-01-22T01:01:10.839Z"
   },
   {
    "duration": 0,
    "start_time": "2025-01-22T01:01:10.841Z"
   },
   {
    "duration": 0,
    "start_time": "2025-01-22T01:01:10.842Z"
   },
   {
    "duration": 0,
    "start_time": "2025-01-22T01:01:10.843Z"
   },
   {
    "duration": 0,
    "start_time": "2025-01-22T01:01:10.844Z"
   },
   {
    "duration": 0,
    "start_time": "2025-01-22T01:01:10.845Z"
   },
   {
    "duration": 0,
    "start_time": "2025-01-22T01:01:10.847Z"
   },
   {
    "duration": 0,
    "start_time": "2025-01-22T01:01:10.848Z"
   },
   {
    "duration": 1,
    "start_time": "2025-01-22T01:01:10.848Z"
   },
   {
    "duration": 0,
    "start_time": "2025-01-22T01:01:10.850Z"
   },
   {
    "duration": 0,
    "start_time": "2025-01-22T01:01:10.851Z"
   },
   {
    "duration": 0,
    "start_time": "2025-01-22T01:01:10.852Z"
   },
   {
    "duration": 5,
    "start_time": "2025-01-22T01:01:46.100Z"
   },
   {
    "duration": 362,
    "start_time": "2025-01-22T01:01:52.681Z"
   },
   {
    "duration": 25,
    "start_time": "2025-01-22T01:02:00.721Z"
   },
   {
    "duration": 24,
    "start_time": "2025-01-22T01:02:45.348Z"
   },
   {
    "duration": 26,
    "start_time": "2025-01-22T01:03:16.450Z"
   },
   {
    "duration": 16,
    "start_time": "2025-01-22T01:04:56.956Z"
   },
   {
    "duration": 5,
    "start_time": "2025-01-22T01:05:01.690Z"
   },
   {
    "duration": 4,
    "start_time": "2025-01-22T01:05:06.878Z"
   },
   {
    "duration": 5,
    "start_time": "2025-01-22T01:05:11.091Z"
   },
   {
    "duration": 10,
    "start_time": "2025-01-22T01:05:33.102Z"
   },
   {
    "duration": 5,
    "start_time": "2025-01-22T01:07:33.288Z"
   },
   {
    "duration": 20,
    "start_time": "2025-01-22T01:07:39.681Z"
   },
   {
    "duration": 779,
    "start_time": "2025-01-22T01:08:28.070Z"
   },
   {
    "duration": 151,
    "start_time": "2025-01-22T01:08:28.851Z"
   },
   {
    "duration": 9,
    "start_time": "2025-01-22T01:08:29.004Z"
   },
   {
    "duration": 18,
    "start_time": "2025-01-22T01:08:29.015Z"
   },
   {
    "duration": 8,
    "start_time": "2025-01-22T01:08:29.037Z"
   },
   {
    "duration": 13,
    "start_time": "2025-01-22T01:08:29.046Z"
   },
   {
    "duration": 13,
    "start_time": "2025-01-22T01:08:29.061Z"
   },
   {
    "duration": 12,
    "start_time": "2025-01-22T01:08:29.076Z"
   },
   {
    "duration": 50,
    "start_time": "2025-01-22T01:08:29.089Z"
   },
   {
    "duration": 13,
    "start_time": "2025-01-22T01:08:29.141Z"
   },
   {
    "duration": 28,
    "start_time": "2025-01-22T01:08:29.156Z"
   },
   {
    "duration": 18,
    "start_time": "2025-01-22T01:08:29.186Z"
   },
   {
    "duration": 12,
    "start_time": "2025-01-22T01:08:29.230Z"
   },
   {
    "duration": 7,
    "start_time": "2025-01-22T01:08:29.247Z"
   },
   {
    "duration": 18,
    "start_time": "2025-01-22T01:08:29.256Z"
   },
   {
    "duration": 10,
    "start_time": "2025-01-22T01:08:29.275Z"
   },
   {
    "duration": 13,
    "start_time": "2025-01-22T01:08:29.287Z"
   },
   {
    "duration": 38,
    "start_time": "2025-01-22T01:08:29.302Z"
   },
   {
    "duration": 21,
    "start_time": "2025-01-22T01:08:29.341Z"
   },
   {
    "duration": 6,
    "start_time": "2025-01-22T01:08:29.364Z"
   },
   {
    "duration": 18,
    "start_time": "2025-01-22T01:08:29.372Z"
   },
   {
    "duration": 41,
    "start_time": "2025-01-22T01:08:29.392Z"
   },
   {
    "duration": 10,
    "start_time": "2025-01-22T01:08:29.435Z"
   },
   {
    "duration": 12,
    "start_time": "2025-01-22T01:08:29.447Z"
   },
   {
    "duration": 5,
    "start_time": "2025-01-22T01:08:29.461Z"
   },
   {
    "duration": 6,
    "start_time": "2025-01-22T01:08:29.467Z"
   },
   {
    "duration": 11,
    "start_time": "2025-01-22T01:08:29.475Z"
   },
   {
    "duration": 44,
    "start_time": "2025-01-22T01:08:29.488Z"
   },
   {
    "duration": 9,
    "start_time": "2025-01-22T01:08:29.534Z"
   },
   {
    "duration": 11,
    "start_time": "2025-01-22T01:08:29.545Z"
   },
   {
    "duration": 1,
    "start_time": "2025-01-22T01:08:29.559Z"
   },
   {
    "duration": 3,
    "start_time": "2025-01-22T01:08:29.562Z"
   },
   {
    "duration": 3,
    "start_time": "2025-01-22T01:08:29.567Z"
   },
   {
    "duration": 3,
    "start_time": "2025-01-22T01:08:29.572Z"
   },
   {
    "duration": 3,
    "start_time": "2025-01-22T01:08:29.577Z"
   },
   {
    "duration": 3,
    "start_time": "2025-01-22T01:08:29.582Z"
   },
   {
    "duration": 3,
    "start_time": "2025-01-22T01:08:29.586Z"
   },
   {
    "duration": 2,
    "start_time": "2025-01-22T01:08:29.592Z"
   },
   {
    "duration": 3,
    "start_time": "2025-01-22T01:08:29.595Z"
   },
   {
    "duration": 2,
    "start_time": "2025-01-22T01:08:29.632Z"
   },
   {
    "duration": 23,
    "start_time": "2025-01-22T01:08:54.132Z"
   },
   {
    "duration": 19,
    "start_time": "2025-01-22T01:09:12.040Z"
   },
   {
    "duration": 761,
    "start_time": "2025-01-22T01:09:26.811Z"
   },
   {
    "duration": 171,
    "start_time": "2025-01-22T01:09:27.574Z"
   },
   {
    "duration": 9,
    "start_time": "2025-01-22T01:09:27.747Z"
   },
   {
    "duration": 10,
    "start_time": "2025-01-22T01:09:27.758Z"
   },
   {
    "duration": 9,
    "start_time": "2025-01-22T01:09:27.770Z"
   },
   {
    "duration": 9,
    "start_time": "2025-01-22T01:09:27.781Z"
   },
   {
    "duration": 11,
    "start_time": "2025-01-22T01:09:27.791Z"
   },
   {
    "duration": 37,
    "start_time": "2025-01-22T01:09:27.804Z"
   },
   {
    "duration": 17,
    "start_time": "2025-01-22T01:09:27.843Z"
   },
   {
    "duration": 10,
    "start_time": "2025-01-22T01:09:27.861Z"
   },
   {
    "duration": 26,
    "start_time": "2025-01-22T01:09:27.872Z"
   },
   {
    "duration": 48,
    "start_time": "2025-01-22T01:09:27.901Z"
   },
   {
    "duration": 12,
    "start_time": "2025-01-22T01:09:27.951Z"
   },
   {
    "duration": 7,
    "start_time": "2025-01-22T01:09:27.967Z"
   },
   {
    "duration": 17,
    "start_time": "2025-01-22T01:09:27.977Z"
   },
   {
    "duration": 36,
    "start_time": "2025-01-22T01:09:27.997Z"
   },
   {
    "duration": 17,
    "start_time": "2025-01-22T01:09:28.035Z"
   },
   {
    "duration": 9,
    "start_time": "2025-01-22T01:09:28.053Z"
   },
   {
    "duration": 22,
    "start_time": "2025-01-22T01:09:28.064Z"
   },
   {
    "duration": 8,
    "start_time": "2025-01-22T01:09:28.088Z"
   },
   {
    "duration": 49,
    "start_time": "2025-01-22T01:09:28.097Z"
   },
   {
    "duration": 15,
    "start_time": "2025-01-22T01:09:28.149Z"
   },
   {
    "duration": 11,
    "start_time": "2025-01-22T01:09:28.166Z"
   },
   {
    "duration": 12,
    "start_time": "2025-01-22T01:09:28.178Z"
   },
   {
    "duration": 4,
    "start_time": "2025-01-22T01:09:28.192Z"
   },
   {
    "duration": 35,
    "start_time": "2025-01-22T01:09:28.198Z"
   },
   {
    "duration": 13,
    "start_time": "2025-01-22T01:09:28.235Z"
   },
   {
    "duration": 5,
    "start_time": "2025-01-22T01:09:28.250Z"
   },
   {
    "duration": 8,
    "start_time": "2025-01-22T01:09:28.257Z"
   },
   {
    "duration": 10,
    "start_time": "2025-01-22T01:09:28.267Z"
   },
   {
    "duration": 2,
    "start_time": "2025-01-22T01:09:28.279Z"
   },
   {
    "duration": 3,
    "start_time": "2025-01-22T01:09:28.283Z"
   },
   {
    "duration": 3,
    "start_time": "2025-01-22T01:09:28.287Z"
   },
   {
    "duration": 41,
    "start_time": "2025-01-22T01:09:28.292Z"
   },
   {
    "duration": 4,
    "start_time": "2025-01-22T01:09:28.336Z"
   },
   {
    "duration": 2,
    "start_time": "2025-01-22T01:09:28.342Z"
   },
   {
    "duration": 2,
    "start_time": "2025-01-22T01:09:28.347Z"
   },
   {
    "duration": 4,
    "start_time": "2025-01-22T01:09:28.350Z"
   },
   {
    "duration": 4,
    "start_time": "2025-01-22T01:09:28.355Z"
   },
   {
    "duration": 9,
    "start_time": "2025-01-22T01:09:28.360Z"
   },
   {
    "duration": 17,
    "start_time": "2025-01-22T01:09:31.080Z"
   },
   {
    "duration": 17,
    "start_time": "2025-01-22T01:09:34.952Z"
   },
   {
    "duration": 706,
    "start_time": "2025-01-22T01:12:49.873Z"
   },
   {
    "duration": 16,
    "start_time": "2025-01-22T01:13:10.388Z"
   },
   {
    "duration": 16,
    "start_time": "2025-01-22T01:15:08.512Z"
   },
   {
    "duration": 11,
    "start_time": "2025-01-22T01:15:36.349Z"
   },
   {
    "duration": 11,
    "start_time": "2025-01-22T01:25:58.665Z"
   },
   {
    "duration": 15,
    "start_time": "2025-01-22T01:26:05.168Z"
   },
   {
    "duration": 4,
    "start_time": "2025-01-22T01:26:15.168Z"
   },
   {
    "duration": 13,
    "start_time": "2025-01-22T01:26:18.863Z"
   },
   {
    "duration": 11,
    "start_time": "2025-01-22T01:27:38.257Z"
   },
   {
    "duration": 11,
    "start_time": "2025-01-22T01:27:42.618Z"
   },
   {
    "duration": 375,
    "start_time": "2025-01-22T01:30:51.245Z"
   },
   {
    "duration": 18,
    "start_time": "2025-01-22T01:31:04.516Z"
   },
   {
    "duration": 16,
    "start_time": "2025-01-22T01:31:08.690Z"
   },
   {
    "duration": 11,
    "start_time": "2025-01-22T01:31:53.929Z"
   },
   {
    "duration": 8,
    "start_time": "2025-01-22T01:32:00.311Z"
   },
   {
    "duration": 8,
    "start_time": "2025-01-22T01:32:04.260Z"
   },
   {
    "duration": 10,
    "start_time": "2025-01-22T01:32:14.763Z"
   },
   {
    "duration": 10,
    "start_time": "2025-01-22T01:32:56.396Z"
   },
   {
    "duration": 13,
    "start_time": "2025-01-22T01:34:24.543Z"
   },
   {
    "duration": 9,
    "start_time": "2025-01-22T01:34:33.412Z"
   },
   {
    "duration": 734,
    "start_time": "2025-01-22T01:36:41.400Z"
   },
   {
    "duration": 163,
    "start_time": "2025-01-22T01:36:42.137Z"
   },
   {
    "duration": 10,
    "start_time": "2025-01-22T01:36:42.301Z"
   },
   {
    "duration": 9,
    "start_time": "2025-01-22T01:36:42.312Z"
   },
   {
    "duration": 12,
    "start_time": "2025-01-22T01:36:42.324Z"
   },
   {
    "duration": 9,
    "start_time": "2025-01-22T01:36:42.337Z"
   },
   {
    "duration": 11,
    "start_time": "2025-01-22T01:36:42.347Z"
   },
   {
    "duration": 11,
    "start_time": "2025-01-22T01:36:42.359Z"
   },
   {
    "duration": 15,
    "start_time": "2025-01-22T01:36:42.372Z"
   },
   {
    "duration": 47,
    "start_time": "2025-01-22T01:36:42.389Z"
   },
   {
    "duration": 26,
    "start_time": "2025-01-22T01:36:42.438Z"
   },
   {
    "duration": 18,
    "start_time": "2025-01-22T01:36:42.466Z"
   },
   {
    "duration": 12,
    "start_time": "2025-01-22T01:36:42.485Z"
   },
   {
    "duration": 34,
    "start_time": "2025-01-22T01:36:42.501Z"
   },
   {
    "duration": 16,
    "start_time": "2025-01-22T01:36:42.537Z"
   },
   {
    "duration": 10,
    "start_time": "2025-01-22T01:36:42.555Z"
   },
   {
    "duration": 13,
    "start_time": "2025-01-22T01:36:42.567Z"
   },
   {
    "duration": 9,
    "start_time": "2025-01-22T01:36:42.581Z"
   },
   {
    "duration": 49,
    "start_time": "2025-01-22T01:36:42.592Z"
   },
   {
    "duration": 14,
    "start_time": "2025-01-22T01:36:42.643Z"
   },
   {
    "duration": 7,
    "start_time": "2025-01-22T01:36:42.658Z"
   },
   {
    "duration": 17,
    "start_time": "2025-01-22T01:36:42.667Z"
   },
   {
    "duration": 13,
    "start_time": "2025-01-22T01:36:42.686Z"
   },
   {
    "duration": 38,
    "start_time": "2025-01-22T01:36:42.701Z"
   },
   {
    "duration": 9,
    "start_time": "2025-01-22T01:36:42.741Z"
   },
   {
    "duration": 5,
    "start_time": "2025-01-22T01:36:42.752Z"
   },
   {
    "duration": 7,
    "start_time": "2025-01-22T01:36:42.758Z"
   },
   {
    "duration": 4,
    "start_time": "2025-01-22T01:36:42.766Z"
   },
   {
    "duration": 10,
    "start_time": "2025-01-22T01:36:42.772Z"
   },
   {
    "duration": 10,
    "start_time": "2025-01-22T01:36:42.783Z"
   },
   {
    "duration": 3,
    "start_time": "2025-01-22T01:36:42.831Z"
   },
   {
    "duration": 3,
    "start_time": "2025-01-22T01:36:42.836Z"
   },
   {
    "duration": 4,
    "start_time": "2025-01-22T01:36:42.840Z"
   },
   {
    "duration": 3,
    "start_time": "2025-01-22T01:36:42.846Z"
   },
   {
    "duration": 3,
    "start_time": "2025-01-22T01:36:42.850Z"
   },
   {
    "duration": 3,
    "start_time": "2025-01-22T01:36:42.855Z"
   },
   {
    "duration": 4,
    "start_time": "2025-01-22T01:36:42.859Z"
   },
   {
    "duration": 4,
    "start_time": "2025-01-22T01:36:42.864Z"
   },
   {
    "duration": 3,
    "start_time": "2025-01-22T01:36:42.869Z"
   },
   {
    "duration": 3,
    "start_time": "2025-01-22T01:36:42.874Z"
   },
   {
    "duration": 13,
    "start_time": "2025-01-22T01:37:01.412Z"
   },
   {
    "duration": 10,
    "start_time": "2025-01-22T01:37:41.824Z"
   },
   {
    "duration": 10,
    "start_time": "2025-01-22T01:37:42.516Z"
   },
   {
    "duration": 9,
    "start_time": "2025-01-22T01:37:43.083Z"
   },
   {
    "duration": 9,
    "start_time": "2025-01-22T01:37:43.640Z"
   },
   {
    "duration": 10,
    "start_time": "2025-01-22T01:37:44.124Z"
   },
   {
    "duration": 12,
    "start_time": "2025-01-22T01:37:44.672Z"
   },
   {
    "duration": 9,
    "start_time": "2025-01-22T01:37:45.224Z"
   },
   {
    "duration": 10,
    "start_time": "2025-01-22T01:37:46.264Z"
   },
   {
    "duration": 13,
    "start_time": "2025-01-22T01:37:47.981Z"
   },
   {
    "duration": 10,
    "start_time": "2025-01-22T01:37:49.030Z"
   },
   {
    "duration": 9,
    "start_time": "2025-01-22T01:37:51.066Z"
   },
   {
    "duration": 8,
    "start_time": "2025-01-22T01:37:52.246Z"
   },
   {
    "duration": 11,
    "start_time": "2025-01-22T01:45:54.057Z"
   },
   {
    "duration": 13,
    "start_time": "2025-01-22T01:46:02.282Z"
   },
   {
    "duration": 15,
    "start_time": "2025-01-22T01:46:11.528Z"
   },
   {
    "duration": 13,
    "start_time": "2025-01-22T01:46:46.199Z"
   },
   {
    "duration": 4,
    "start_time": "2025-01-22T01:46:48.149Z"
   },
   {
    "duration": 11,
    "start_time": "2025-01-22T01:46:49.923Z"
   },
   {
    "duration": 5,
    "start_time": "2025-01-22T01:47:45.802Z"
   },
   {
    "duration": 3,
    "start_time": "2025-01-22T01:48:21.230Z"
   },
   {
    "duration": 11,
    "start_time": "2025-01-22T01:48:24.411Z"
   },
   {
    "duration": 9,
    "start_time": "2025-01-22T02:14:59.491Z"
   },
   {
    "duration": 603,
    "start_time": "2025-01-22T02:18:38.123Z"
   },
   {
    "duration": 195,
    "start_time": "2025-01-22T02:21:02.354Z"
   },
   {
    "duration": 48,
    "start_time": "2025-01-22T02:23:43.205Z"
   },
   {
    "duration": 32,
    "start_time": "2025-01-22T02:23:52.128Z"
   },
   {
    "duration": 14,
    "start_time": "2025-01-22T02:24:07.234Z"
   },
   {
    "duration": 16,
    "start_time": "2025-01-22T02:26:50.719Z"
   },
   {
    "duration": 15,
    "start_time": "2025-01-22T02:27:28.683Z"
   },
   {
    "duration": 796,
    "start_time": "2025-01-22T02:28:37.744Z"
   },
   {
    "duration": 158,
    "start_time": "2025-01-22T02:28:38.542Z"
   },
   {
    "duration": 9,
    "start_time": "2025-01-22T02:28:38.702Z"
   },
   {
    "duration": 9,
    "start_time": "2025-01-22T02:28:38.714Z"
   },
   {
    "duration": 11,
    "start_time": "2025-01-22T02:28:38.731Z"
   },
   {
    "duration": 9,
    "start_time": "2025-01-22T02:28:38.743Z"
   },
   {
    "duration": 10,
    "start_time": "2025-01-22T02:28:38.754Z"
   },
   {
    "duration": 10,
    "start_time": "2025-01-22T02:28:38.766Z"
   },
   {
    "duration": 8,
    "start_time": "2025-01-22T02:28:38.778Z"
   },
   {
    "duration": 49,
    "start_time": "2025-01-22T02:28:38.790Z"
   },
   {
    "duration": 11,
    "start_time": "2025-01-22T02:28:38.840Z"
   },
   {
    "duration": 27,
    "start_time": "2025-01-22T02:28:38.853Z"
   },
   {
    "duration": 18,
    "start_time": "2025-01-22T02:28:38.882Z"
   },
   {
    "duration": 37,
    "start_time": "2025-01-22T02:28:38.902Z"
   },
   {
    "duration": 7,
    "start_time": "2025-01-22T02:28:38.941Z"
   },
   {
    "duration": 17,
    "start_time": "2025-01-22T02:28:38.950Z"
   },
   {
    "duration": 10,
    "start_time": "2025-01-22T02:28:38.969Z"
   },
   {
    "duration": 14,
    "start_time": "2025-01-22T02:28:38.980Z"
   },
   {
    "duration": 41,
    "start_time": "2025-01-22T02:28:38.996Z"
   },
   {
    "duration": 20,
    "start_time": "2025-01-22T02:28:39.038Z"
   },
   {
    "duration": 13,
    "start_time": "2025-01-22T02:28:39.060Z"
   },
   {
    "duration": 6,
    "start_time": "2025-01-22T02:28:39.075Z"
   },
   {
    "duration": 16,
    "start_time": "2025-01-22T02:28:39.083Z"
   },
   {
    "duration": 41,
    "start_time": "2025-01-22T02:28:39.101Z"
   },
   {
    "duration": 9,
    "start_time": "2025-01-22T02:28:39.144Z"
   },
   {
    "duration": 10,
    "start_time": "2025-01-22T02:28:39.155Z"
   },
   {
    "duration": 5,
    "start_time": "2025-01-22T02:28:39.166Z"
   },
   {
    "duration": 15,
    "start_time": "2025-01-22T02:28:39.175Z"
   },
   {
    "duration": 48,
    "start_time": "2025-01-22T02:28:39.191Z"
   },
   {
    "duration": 3,
    "start_time": "2025-01-22T02:28:39.241Z"
   },
   {
    "duration": 14,
    "start_time": "2025-01-22T02:28:39.246Z"
   },
   {
    "duration": 11,
    "start_time": "2025-01-22T02:28:39.262Z"
   },
   {
    "duration": 2,
    "start_time": "2025-01-22T02:28:39.275Z"
   },
   {
    "duration": 3,
    "start_time": "2025-01-22T02:28:39.279Z"
   },
   {
    "duration": 2,
    "start_time": "2025-01-22T02:28:39.284Z"
   },
   {
    "duration": 4,
    "start_time": "2025-01-22T02:28:39.287Z"
   },
   {
    "duration": 38,
    "start_time": "2025-01-22T02:28:39.293Z"
   },
   {
    "duration": 2,
    "start_time": "2025-01-22T02:28:39.333Z"
   },
   {
    "duration": 3,
    "start_time": "2025-01-22T02:28:39.337Z"
   },
   {
    "duration": 4,
    "start_time": "2025-01-22T02:28:39.341Z"
   },
   {
    "duration": 3,
    "start_time": "2025-01-22T02:28:39.346Z"
   },
   {
    "duration": 4,
    "start_time": "2025-01-22T02:28:39.350Z"
   },
   {
    "duration": 780,
    "start_time": "2025-01-22T02:29:40.582Z"
   },
   {
    "duration": 161,
    "start_time": "2025-01-22T02:29:41.364Z"
   },
   {
    "duration": 10,
    "start_time": "2025-01-22T02:29:41.532Z"
   },
   {
    "duration": 10,
    "start_time": "2025-01-22T02:29:41.545Z"
   },
   {
    "duration": 8,
    "start_time": "2025-01-22T02:29:41.557Z"
   },
   {
    "duration": 9,
    "start_time": "2025-01-22T02:29:41.568Z"
   },
   {
    "duration": 11,
    "start_time": "2025-01-22T02:29:41.581Z"
   },
   {
    "duration": 11,
    "start_time": "2025-01-22T02:29:41.593Z"
   },
   {
    "duration": 9,
    "start_time": "2025-01-22T02:29:41.632Z"
   },
   {
    "duration": 16,
    "start_time": "2025-01-22T02:29:41.645Z"
   },
   {
    "duration": 10,
    "start_time": "2025-01-22T02:29:41.663Z"
   },
   {
    "duration": 27,
    "start_time": "2025-01-22T02:29:41.675Z"
   },
   {
    "duration": 19,
    "start_time": "2025-01-22T02:29:41.731Z"
   },
   {
    "duration": 13,
    "start_time": "2025-01-22T02:29:41.751Z"
   },
   {
    "duration": 9,
    "start_time": "2025-01-22T02:29:41.765Z"
   },
   {
    "duration": 18,
    "start_time": "2025-01-22T02:29:41.776Z"
   },
   {
    "duration": 37,
    "start_time": "2025-01-22T02:29:41.796Z"
   },
   {
    "duration": 14,
    "start_time": "2025-01-22T02:29:41.834Z"
   },
   {
    "duration": 9,
    "start_time": "2025-01-22T02:29:41.850Z"
   },
   {
    "duration": 22,
    "start_time": "2025-01-22T02:29:41.861Z"
   },
   {
    "duration": 14,
    "start_time": "2025-01-22T02:29:41.884Z"
   },
   {
    "duration": 37,
    "start_time": "2025-01-22T02:29:41.899Z"
   },
   {
    "duration": 21,
    "start_time": "2025-01-22T02:29:41.938Z"
   },
   {
    "duration": 21,
    "start_time": "2025-01-22T02:29:41.964Z"
   },
   {
    "duration": 13,
    "start_time": "2025-01-22T02:29:41.987Z"
   },
   {
    "duration": 28,
    "start_time": "2025-01-22T02:29:42.003Z"
   },
   {
    "duration": 5,
    "start_time": "2025-01-22T02:29:42.033Z"
   },
   {
    "duration": 16,
    "start_time": "2025-01-22T02:29:42.042Z"
   },
   {
    "duration": 14,
    "start_time": "2025-01-22T02:29:42.060Z"
   },
   {
    "duration": 3,
    "start_time": "2025-01-22T02:29:42.076Z"
   },
   {
    "duration": 14,
    "start_time": "2025-01-22T02:29:42.081Z"
   },
   {
    "duration": 2,
    "start_time": "2025-01-22T02:29:42.096Z"
   },
   {
    "duration": 4,
    "start_time": "2025-01-22T02:29:42.131Z"
   },
   {
    "duration": 4,
    "start_time": "2025-01-22T02:29:42.136Z"
   },
   {
    "duration": 3,
    "start_time": "2025-01-22T02:29:42.141Z"
   },
   {
    "duration": 3,
    "start_time": "2025-01-22T02:29:42.146Z"
   },
   {
    "duration": 2,
    "start_time": "2025-01-22T02:29:42.151Z"
   },
   {
    "duration": 3,
    "start_time": "2025-01-22T02:29:42.155Z"
   },
   {
    "duration": 3,
    "start_time": "2025-01-22T02:29:42.160Z"
   },
   {
    "duration": 4,
    "start_time": "2025-01-22T02:29:42.164Z"
   },
   {
    "duration": 3,
    "start_time": "2025-01-22T02:29:42.169Z"
   },
   {
    "duration": 14,
    "start_time": "2025-01-22T02:32:21.722Z"
   },
   {
    "duration": 15,
    "start_time": "2025-01-22T02:32:39.044Z"
   },
   {
    "duration": 7,
    "start_time": "2025-01-22T02:36:04.378Z"
   },
   {
    "duration": 18,
    "start_time": "2025-01-22T02:39:41.941Z"
   },
   {
    "duration": 15,
    "start_time": "2025-01-22T02:39:55.480Z"
   },
   {
    "duration": 14,
    "start_time": "2025-01-22T02:40:04.859Z"
   },
   {
    "duration": 173,
    "start_time": "2025-01-24T01:22:48.112Z"
   },
   {
    "duration": 2504,
    "start_time": "2025-01-24T01:22:54.129Z"
   },
   {
    "duration": 210,
    "start_time": "2025-01-24T01:22:56.636Z"
   },
   {
    "duration": 10,
    "start_time": "2025-01-24T01:22:56.848Z"
   },
   {
    "duration": 10,
    "start_time": "2025-01-24T01:22:56.860Z"
   },
   {
    "duration": 8,
    "start_time": "2025-01-24T01:22:56.872Z"
   },
   {
    "duration": 10,
    "start_time": "2025-01-24T01:22:56.883Z"
   },
   {
    "duration": 35,
    "start_time": "2025-01-24T01:22:56.895Z"
   },
   {
    "duration": 11,
    "start_time": "2025-01-24T01:22:56.932Z"
   },
   {
    "duration": 8,
    "start_time": "2025-01-24T01:22:56.945Z"
   },
   {
    "duration": 15,
    "start_time": "2025-01-24T01:22:56.955Z"
   },
   {
    "duration": 9,
    "start_time": "2025-01-24T01:22:56.972Z"
   },
   {
    "duration": 60,
    "start_time": "2025-01-24T01:22:56.983Z"
   },
   {
    "duration": 17,
    "start_time": "2025-01-24T01:22:57.045Z"
   },
   {
    "duration": 11,
    "start_time": "2025-01-24T01:22:57.066Z"
   },
   {
    "duration": 8,
    "start_time": "2025-01-24T01:22:57.079Z"
   },
   {
    "duration": 44,
    "start_time": "2025-01-24T01:22:57.088Z"
   },
   {
    "duration": 9,
    "start_time": "2025-01-24T01:22:57.135Z"
   },
   {
    "duration": 14,
    "start_time": "2025-01-24T01:22:57.145Z"
   },
   {
    "duration": 9,
    "start_time": "2025-01-24T01:22:57.160Z"
   },
   {
    "duration": 20,
    "start_time": "2025-01-24T01:22:57.171Z"
   },
   {
    "duration": 43,
    "start_time": "2025-01-24T01:22:57.193Z"
   },
   {
    "duration": 8,
    "start_time": "2025-01-24T01:22:57.237Z"
   },
   {
    "duration": 17,
    "start_time": "2025-01-24T01:22:57.246Z"
   },
   {
    "duration": 14,
    "start_time": "2025-01-24T01:22:57.265Z"
   },
   {
    "duration": 9,
    "start_time": "2025-01-24T01:22:57.281Z"
   },
   {
    "duration": 38,
    "start_time": "2025-01-24T01:22:57.291Z"
   },
   {
    "duration": 4,
    "start_time": "2025-01-24T01:22:57.331Z"
   },
   {
    "duration": 13,
    "start_time": "2025-01-24T01:22:57.337Z"
   },
   {
    "duration": 14,
    "start_time": "2025-01-24T01:22:57.352Z"
   },
   {
    "duration": 3,
    "start_time": "2025-01-24T01:22:57.368Z"
   },
   {
    "duration": 52,
    "start_time": "2025-01-24T01:22:57.373Z"
   },
   {
    "duration": 14,
    "start_time": "2025-01-24T01:22:57.427Z"
   },
   {
    "duration": 2,
    "start_time": "2025-01-24T01:22:57.442Z"
   },
   {
    "duration": 2,
    "start_time": "2025-01-24T01:22:57.446Z"
   },
   {
    "duration": 2,
    "start_time": "2025-01-24T01:22:57.450Z"
   },
   {
    "duration": 3,
    "start_time": "2025-01-24T01:22:57.454Z"
   },
   {
    "duration": 3,
    "start_time": "2025-01-24T01:22:57.458Z"
   },
   {
    "duration": 3,
    "start_time": "2025-01-24T01:22:57.463Z"
   },
   {
    "duration": 3,
    "start_time": "2025-01-24T01:22:57.467Z"
   },
   {
    "duration": 2,
    "start_time": "2025-01-24T01:22:57.472Z"
   },
   {
    "duration": 2,
    "start_time": "2025-01-24T01:22:57.479Z"
   },
   {
    "duration": 48,
    "start_time": "2025-01-24T01:22:57.482Z"
   },
   {
    "duration": 14,
    "start_time": "2025-01-24T01:23:05.236Z"
   },
   {
    "duration": 800,
    "start_time": "2025-01-24T01:23:54.052Z"
   },
   {
    "duration": 157,
    "start_time": "2025-01-24T01:23:54.854Z"
   },
   {
    "duration": 12,
    "start_time": "2025-01-24T01:23:55.012Z"
   },
   {
    "duration": 10,
    "start_time": "2025-01-24T01:23:55.025Z"
   },
   {
    "duration": 8,
    "start_time": "2025-01-24T01:23:55.038Z"
   },
   {
    "duration": 9,
    "start_time": "2025-01-24T01:23:55.048Z"
   },
   {
    "duration": 10,
    "start_time": "2025-01-24T01:23:55.059Z"
   },
   {
    "duration": 10,
    "start_time": "2025-01-24T01:23:55.071Z"
   },
   {
    "duration": 50,
    "start_time": "2025-01-24T01:23:55.083Z"
   },
   {
    "duration": 15,
    "start_time": "2025-01-24T01:23:55.135Z"
   },
   {
    "duration": 10,
    "start_time": "2025-01-24T01:23:55.152Z"
   },
   {
    "duration": 27,
    "start_time": "2025-01-24T01:23:55.163Z"
   },
   {
    "duration": 46,
    "start_time": "2025-01-24T01:23:55.192Z"
   },
   {
    "duration": 12,
    "start_time": "2025-01-24T01:23:55.241Z"
   },
   {
    "duration": 9,
    "start_time": "2025-01-24T01:23:55.254Z"
   },
   {
    "duration": 18,
    "start_time": "2025-01-24T01:23:55.264Z"
   },
   {
    "duration": 9,
    "start_time": "2025-01-24T01:23:55.284Z"
   },
   {
    "duration": 15,
    "start_time": "2025-01-24T01:23:55.325Z"
   },
   {
    "duration": 9,
    "start_time": "2025-01-24T01:23:55.341Z"
   },
   {
    "duration": 21,
    "start_time": "2025-01-24T01:23:55.351Z"
   },
   {
    "duration": 15,
    "start_time": "2025-01-24T01:23:55.374Z"
   },
   {
    "duration": 35,
    "start_time": "2025-01-24T01:23:55.390Z"
   },
   {
    "duration": 18,
    "start_time": "2025-01-24T01:23:55.427Z"
   },
   {
    "duration": 14,
    "start_time": "2025-01-24T01:23:55.447Z"
   },
   {
    "duration": 10,
    "start_time": "2025-01-24T01:23:55.462Z"
   },
   {
    "duration": 9,
    "start_time": "2025-01-24T01:23:55.473Z"
   },
   {
    "duration": 5,
    "start_time": "2025-01-24T01:23:55.484Z"
   },
   {
    "duration": 48,
    "start_time": "2025-01-24T01:23:55.490Z"
   },
   {
    "duration": 13,
    "start_time": "2025-01-24T01:23:55.540Z"
   },
   {
    "duration": 3,
    "start_time": "2025-01-24T01:23:55.555Z"
   },
   {
    "duration": 11,
    "start_time": "2025-01-24T01:23:55.560Z"
   },
   {
    "duration": 4,
    "start_time": "2025-01-24T01:23:55.574Z"
   },
   {
    "duration": 46,
    "start_time": "2025-01-24T01:23:55.579Z"
   },
   {
    "duration": 2,
    "start_time": "2025-01-24T01:23:55.627Z"
   },
   {
    "duration": 3,
    "start_time": "2025-01-24T01:23:55.631Z"
   },
   {
    "duration": 2,
    "start_time": "2025-01-24T01:23:55.636Z"
   },
   {
    "duration": 2,
    "start_time": "2025-01-24T01:23:55.640Z"
   },
   {
    "duration": 3,
    "start_time": "2025-01-24T01:23:55.644Z"
   },
   {
    "duration": 4,
    "start_time": "2025-01-24T01:23:55.648Z"
   },
   {
    "duration": 3,
    "start_time": "2025-01-24T01:23:55.654Z"
   },
   {
    "duration": 1,
    "start_time": "2025-01-24T01:23:55.662Z"
   },
   {
    "duration": 3,
    "start_time": "2025-01-24T01:23:55.665Z"
   },
   {
    "duration": 3,
    "start_time": "2025-01-24T01:23:55.669Z"
   },
   {
    "duration": 2538,
    "start_time": "2025-01-27T20:34:53.877Z"
   },
   {
    "duration": 247,
    "start_time": "2025-01-27T20:34:56.417Z"
   },
   {
    "duration": 11,
    "start_time": "2025-01-27T20:34:56.666Z"
   },
   {
    "duration": 10,
    "start_time": "2025-01-27T20:34:56.679Z"
   },
   {
    "duration": 8,
    "start_time": "2025-01-27T20:34:56.692Z"
   },
   {
    "duration": 9,
    "start_time": "2025-01-27T20:34:56.702Z"
   },
   {
    "duration": 11,
    "start_time": "2025-01-27T20:34:56.731Z"
   },
   {
    "duration": 12,
    "start_time": "2025-01-27T20:34:56.744Z"
   },
   {
    "duration": 10,
    "start_time": "2025-01-27T20:34:56.758Z"
   },
   {
    "duration": 22,
    "start_time": "2025-01-27T20:34:56.770Z"
   },
   {
    "duration": 38,
    "start_time": "2025-01-27T20:34:56.794Z"
   },
   {
    "duration": 26,
    "start_time": "2025-01-27T20:34:56.834Z"
   },
   {
    "duration": 22,
    "start_time": "2025-01-27T20:34:56.863Z"
   },
   {
    "duration": 16,
    "start_time": "2025-01-27T20:34:56.891Z"
   },
   {
    "duration": 10,
    "start_time": "2025-01-27T20:34:56.933Z"
   },
   {
    "duration": 25,
    "start_time": "2025-01-27T20:34:56.945Z"
   },
   {
    "duration": 13,
    "start_time": "2025-01-27T20:34:56.972Z"
   },
   {
    "duration": 20,
    "start_time": "2025-01-27T20:34:56.987Z"
   },
   {
    "duration": 14,
    "start_time": "2025-01-27T20:34:57.032Z"
   },
   {
    "duration": 31,
    "start_time": "2025-01-27T20:34:57.048Z"
   },
   {
    "duration": 19,
    "start_time": "2025-01-27T20:34:57.081Z"
   },
   {
    "duration": 31,
    "start_time": "2025-01-27T20:34:57.102Z"
   },
   {
    "duration": 24,
    "start_time": "2025-01-27T20:34:57.135Z"
   },
   {
    "duration": 13,
    "start_time": "2025-01-27T20:34:57.161Z"
   },
   {
    "duration": 13,
    "start_time": "2025-01-27T20:34:57.176Z"
   },
   {
    "duration": 40,
    "start_time": "2025-01-27T20:34:57.191Z"
   },
   {
    "duration": 6,
    "start_time": "2025-01-27T20:34:57.234Z"
   },
   {
    "duration": 19,
    "start_time": "2025-01-27T20:34:57.242Z"
   },
   {
    "duration": 19,
    "start_time": "2025-01-27T20:34:57.263Z"
   },
   {
    "duration": 4,
    "start_time": "2025-01-27T20:34:57.284Z"
   },
   {
    "duration": 46,
    "start_time": "2025-01-27T20:34:57.289Z"
   },
   {
    "duration": 5,
    "start_time": "2025-01-27T20:34:57.337Z"
   },
   {
    "duration": 19,
    "start_time": "2025-01-27T20:34:57.344Z"
   },
   {
    "duration": 3,
    "start_time": "2025-01-27T20:34:57.365Z"
   },
   {
    "duration": 3,
    "start_time": "2025-01-27T20:34:57.370Z"
   },
   {
    "duration": 3,
    "start_time": "2025-01-27T20:34:57.375Z"
   },
   {
    "duration": 3,
    "start_time": "2025-01-27T20:34:57.380Z"
   },
   {
    "duration": 3,
    "start_time": "2025-01-27T20:34:57.385Z"
   },
   {
    "duration": 41,
    "start_time": "2025-01-27T20:34:57.390Z"
   },
   {
    "duration": 3,
    "start_time": "2025-01-27T20:34:57.433Z"
   },
   {
    "duration": 5,
    "start_time": "2025-01-27T20:34:57.440Z"
   },
   {
    "duration": 2,
    "start_time": "2025-01-27T20:34:57.447Z"
   },
   {
    "duration": 2566,
    "start_time": "2025-01-31T18:18:26.370Z"
   },
   {
    "duration": 220,
    "start_time": "2025-01-31T18:18:28.939Z"
   },
   {
    "duration": 10,
    "start_time": "2025-01-31T18:18:29.161Z"
   },
   {
    "duration": 10,
    "start_time": "2025-01-31T18:18:29.174Z"
   },
   {
    "duration": 8,
    "start_time": "2025-01-31T18:18:29.186Z"
   },
   {
    "duration": 19,
    "start_time": "2025-01-31T18:18:29.197Z"
   },
   {
    "duration": 10,
    "start_time": "2025-01-31T18:18:29.218Z"
   },
   {
    "duration": 11,
    "start_time": "2025-01-31T18:18:29.230Z"
   },
   {
    "duration": 8,
    "start_time": "2025-01-31T18:18:29.243Z"
   },
   {
    "duration": 16,
    "start_time": "2025-01-31T18:18:29.254Z"
   },
   {
    "duration": 41,
    "start_time": "2025-01-31T18:18:29.272Z"
   },
   {
    "duration": 27,
    "start_time": "2025-01-31T18:18:29.315Z"
   },
   {
    "duration": 18,
    "start_time": "2025-01-31T18:18:29.344Z"
   },
   {
    "duration": 12,
    "start_time": "2025-01-31T18:18:29.364Z"
   },
   {
    "duration": 40,
    "start_time": "2025-01-31T18:18:29.378Z"
   },
   {
    "duration": 17,
    "start_time": "2025-01-31T18:18:29.420Z"
   },
   {
    "duration": 10,
    "start_time": "2025-01-31T18:18:29.439Z"
   },
   {
    "duration": 14,
    "start_time": "2025-01-31T18:18:29.450Z"
   },
   {
    "duration": 9,
    "start_time": "2025-01-31T18:18:29.465Z"
   },
   {
    "duration": 54,
    "start_time": "2025-01-31T18:18:29.476Z"
   },
   {
    "duration": 14,
    "start_time": "2025-01-31T18:18:29.531Z"
   },
   {
    "duration": 6,
    "start_time": "2025-01-31T18:18:29.547Z"
   },
   {
    "duration": 20,
    "start_time": "2025-01-31T18:18:29.554Z"
   },
   {
    "duration": 41,
    "start_time": "2025-01-31T18:18:29.575Z"
   },
   {
    "duration": 9,
    "start_time": "2025-01-31T18:18:29.618Z"
   },
   {
    "duration": 9,
    "start_time": "2025-01-31T18:18:29.629Z"
   },
   {
    "duration": 6,
    "start_time": "2025-01-31T18:18:29.640Z"
   },
   {
    "duration": 13,
    "start_time": "2025-01-31T18:18:29.649Z"
   },
   {
    "duration": 50,
    "start_time": "2025-01-31T18:18:29.663Z"
   },
   {
    "duration": 3,
    "start_time": "2025-01-31T18:18:29.715Z"
   },
   {
    "duration": 13,
    "start_time": "2025-01-31T18:18:29.720Z"
   },
   {
    "duration": 4,
    "start_time": "2025-01-31T18:18:29.734Z"
   },
   {
    "duration": 14,
    "start_time": "2025-01-31T18:18:29.739Z"
   },
   {
    "duration": 5,
    "start_time": "2025-01-31T18:18:29.754Z"
   },
   {
    "duration": 2,
    "start_time": "2025-01-31T18:18:29.761Z"
   },
   {
    "duration": 3,
    "start_time": "2025-01-31T18:18:29.765Z"
   },
   {
    "duration": 5,
    "start_time": "2025-01-31T18:18:29.769Z"
   },
   {
    "duration": 2,
    "start_time": "2025-01-31T18:18:29.812Z"
   },
   {
    "duration": 2,
    "start_time": "2025-01-31T18:18:29.816Z"
   },
   {
    "duration": 3,
    "start_time": "2025-01-31T18:18:29.820Z"
   },
   {
    "duration": 4,
    "start_time": "2025-01-31T18:18:29.824Z"
   },
   {
    "duration": 3,
    "start_time": "2025-01-31T18:18:29.829Z"
   },
   {
    "duration": 212,
    "start_time": "2025-01-31T18:19:22.506Z"
   },
   {
    "duration": 554,
    "start_time": "2025-01-31T18:19:27.136Z"
   },
   {
    "duration": 19,
    "start_time": "2025-01-31T19:08:44.796Z"
   },
   {
    "duration": 6,
    "start_time": "2025-01-31T19:08:50.143Z"
   },
   {
    "duration": 42,
    "start_time": "2025-01-31T19:08:55.035Z"
   },
   {
    "duration": 3,
    "start_time": "2025-01-31T19:09:16.372Z"
   },
   {
    "duration": 57,
    "start_time": "2025-01-31T19:09:17.725Z"
   },
   {
    "duration": 70,
    "start_time": "2025-01-31T19:09:25.998Z"
   },
   {
    "duration": 2419,
    "start_time": "2025-01-31T19:57:10.346Z"
   },
   {
    "duration": 213,
    "start_time": "2025-01-31T19:57:12.767Z"
   },
   {
    "duration": 10,
    "start_time": "2025-01-31T19:57:12.981Z"
   },
   {
    "duration": 10,
    "start_time": "2025-01-31T19:57:12.993Z"
   },
   {
    "duration": 8,
    "start_time": "2025-01-31T19:57:13.004Z"
   },
   {
    "duration": 9,
    "start_time": "2025-01-31T19:57:13.013Z"
   },
   {
    "duration": 10,
    "start_time": "2025-01-31T19:57:13.024Z"
   },
   {
    "duration": 34,
    "start_time": "2025-01-31T19:57:13.036Z"
   },
   {
    "duration": 7,
    "start_time": "2025-01-31T19:57:13.072Z"
   },
   {
    "duration": 16,
    "start_time": "2025-01-31T19:57:13.083Z"
   },
   {
    "duration": 9,
    "start_time": "2025-01-31T19:57:13.100Z"
   },
   {
    "duration": 24,
    "start_time": "2025-01-31T19:57:13.111Z"
   },
   {
    "duration": 46,
    "start_time": "2025-01-31T19:57:13.137Z"
   },
   {
    "duration": 14,
    "start_time": "2025-01-31T19:57:13.185Z"
   },
   {
    "duration": 8,
    "start_time": "2025-01-31T19:57:13.201Z"
   },
   {
    "duration": 19,
    "start_time": "2025-01-31T19:57:13.211Z"
   },
   {
    "duration": 38,
    "start_time": "2025-01-31T19:57:13.232Z"
   },
   {
    "duration": 14,
    "start_time": "2025-01-31T19:57:13.272Z"
   },
   {
    "duration": 9,
    "start_time": "2025-01-31T19:57:13.287Z"
   },
   {
    "duration": 21,
    "start_time": "2025-01-31T19:57:13.298Z"
   },
   {
    "duration": 14,
    "start_time": "2025-01-31T19:57:13.320Z"
   },
   {
    "duration": 35,
    "start_time": "2025-01-31T19:57:13.336Z"
   },
   {
    "duration": 18,
    "start_time": "2025-01-31T19:57:13.373Z"
   },
   {
    "duration": 12,
    "start_time": "2025-01-31T19:57:13.392Z"
   },
   {
    "duration": 9,
    "start_time": "2025-01-31T19:57:13.406Z"
   },
   {
    "duration": 8,
    "start_time": "2025-01-31T19:57:13.417Z"
   },
   {
    "duration": 4,
    "start_time": "2025-01-31T19:57:13.427Z"
   },
   {
    "duration": 14,
    "start_time": "2025-01-31T19:57:13.470Z"
   },
   {
    "duration": 14,
    "start_time": "2025-01-31T19:57:13.486Z"
   },
   {
    "duration": 3,
    "start_time": "2025-01-31T19:57:13.501Z"
   },
   {
    "duration": 11,
    "start_time": "2025-01-31T19:57:13.506Z"
   },
   {
    "duration": 4,
    "start_time": "2025-01-31T19:57:13.518Z"
   },
   {
    "duration": 48,
    "start_time": "2025-01-31T19:57:13.523Z"
   },
   {
    "duration": 24,
    "start_time": "2025-01-31T19:57:13.573Z"
   },
   {
    "duration": 5,
    "start_time": "2025-01-31T19:57:13.599Z"
   },
   {
    "duration": 3,
    "start_time": "2025-01-31T19:57:13.606Z"
   },
   {
    "duration": 89,
    "start_time": "2025-01-31T19:57:13.614Z"
   },
   {
    "duration": 3,
    "start_time": "2025-01-31T19:57:13.704Z"
   },
   {
    "duration": 3,
    "start_time": "2025-01-31T19:57:13.708Z"
   },
   {
    "duration": 4,
    "start_time": "2025-01-31T19:57:13.713Z"
   },
   {
    "duration": 4,
    "start_time": "2025-01-31T19:57:13.718Z"
   },
   {
    "duration": 3,
    "start_time": "2025-01-31T19:57:13.723Z"
   },
   {
    "duration": 4,
    "start_time": "2025-01-31T19:57:13.727Z"
   },
   {
    "duration": 3,
    "start_time": "2025-01-31T19:57:13.732Z"
   },
   {
    "duration": 33,
    "start_time": "2025-01-31T19:57:13.737Z"
   },
   {
    "duration": 2667,
    "start_time": "2025-01-31T23:53:09.047Z"
   },
   {
    "duration": 251,
    "start_time": "2025-01-31T23:53:11.716Z"
   },
   {
    "duration": 11,
    "start_time": "2025-01-31T23:53:11.969Z"
   },
   {
    "duration": 10,
    "start_time": "2025-01-31T23:53:11.981Z"
   },
   {
    "duration": 9,
    "start_time": "2025-01-31T23:53:11.995Z"
   },
   {
    "duration": 20,
    "start_time": "2025-01-31T23:53:12.006Z"
   },
   {
    "duration": 12,
    "start_time": "2025-01-31T23:53:12.028Z"
   },
   {
    "duration": 11,
    "start_time": "2025-01-31T23:53:12.041Z"
   },
   {
    "duration": 8,
    "start_time": "2025-01-31T23:53:12.056Z"
   },
   {
    "duration": 20,
    "start_time": "2025-01-31T23:53:12.065Z"
   },
   {
    "duration": 40,
    "start_time": "2025-01-31T23:53:12.087Z"
   },
   {
    "duration": 27,
    "start_time": "2025-01-31T23:53:12.129Z"
   },
   {
    "duration": 18,
    "start_time": "2025-01-31T23:53:12.157Z"
   },
   {
    "duration": 14,
    "start_time": "2025-01-31T23:53:12.179Z"
   },
   {
    "duration": 10,
    "start_time": "2025-01-31T23:53:12.224Z"
   },
   {
    "duration": 23,
    "start_time": "2025-01-31T23:53:12.236Z"
   },
   {
    "duration": 11,
    "start_time": "2025-01-31T23:53:12.262Z"
   },
   {
    "duration": 16,
    "start_time": "2025-01-31T23:53:12.275Z"
   },
   {
    "duration": 35,
    "start_time": "2025-01-31T23:53:12.293Z"
   },
   {
    "duration": 22,
    "start_time": "2025-01-31T23:53:12.330Z"
   },
   {
    "duration": 15,
    "start_time": "2025-01-31T23:53:12.353Z"
   },
   {
    "duration": 8,
    "start_time": "2025-01-31T23:53:12.370Z"
   },
   {
    "duration": 47,
    "start_time": "2025-01-31T23:53:12.379Z"
   },
   {
    "duration": 15,
    "start_time": "2025-01-31T23:53:12.430Z"
   },
   {
    "duration": 12,
    "start_time": "2025-01-31T23:53:12.447Z"
   },
   {
    "duration": 12,
    "start_time": "2025-01-31T23:53:12.461Z"
   },
   {
    "duration": 6,
    "start_time": "2025-01-31T23:53:12.476Z"
   },
   {
    "duration": 45,
    "start_time": "2025-01-31T23:53:12.484Z"
   },
   {
    "duration": 18,
    "start_time": "2025-01-31T23:53:12.531Z"
   },
   {
    "duration": 5,
    "start_time": "2025-01-31T23:53:12.552Z"
   },
   {
    "duration": 16,
    "start_time": "2025-01-31T23:53:12.560Z"
   },
   {
    "duration": 4,
    "start_time": "2025-01-31T23:53:12.579Z"
   },
   {
    "duration": 39,
    "start_time": "2025-01-31T23:53:12.586Z"
   },
   {
    "duration": 22,
    "start_time": "2025-01-31T23:53:12.627Z"
   },
   {
    "duration": 6,
    "start_time": "2025-01-31T23:53:12.651Z"
   },
   {
    "duration": 5,
    "start_time": "2025-01-31T23:53:12.659Z"
   },
   {
    "duration": 114,
    "start_time": "2025-01-31T23:53:12.666Z"
   },
   {
    "duration": 2,
    "start_time": "2025-01-31T23:53:12.782Z"
   },
   {
    "duration": 3,
    "start_time": "2025-01-31T23:53:12.787Z"
   },
   {
    "duration": 4,
    "start_time": "2025-01-31T23:53:12.791Z"
   },
   {
    "duration": 2,
    "start_time": "2025-01-31T23:53:12.801Z"
   },
   {
    "duration": 22,
    "start_time": "2025-01-31T23:53:12.805Z"
   },
   {
    "duration": 4,
    "start_time": "2025-01-31T23:53:12.830Z"
   },
   {
    "duration": 2,
    "start_time": "2025-01-31T23:53:12.836Z"
   },
   {
    "duration": 2,
    "start_time": "2025-01-31T23:53:12.840Z"
   },
   {
    "duration": 13,
    "start_time": "2025-01-31T23:57:51.290Z"
   },
   {
    "duration": 255,
    "start_time": "2025-01-31T23:59:24.435Z"
   },
   {
    "duration": 6,
    "start_time": "2025-01-31T23:59:30.981Z"
   },
   {
    "duration": 11,
    "start_time": "2025-01-31T23:59:40.858Z"
   },
   {
    "duration": 6,
    "start_time": "2025-02-01T00:00:00.661Z"
   },
   {
    "duration": 11,
    "start_time": "2025-02-01T00:00:52.781Z"
   },
   {
    "duration": 15,
    "start_time": "2025-02-01T00:02:24.743Z"
   },
   {
    "duration": 15,
    "start_time": "2025-02-01T00:03:05.836Z"
   },
   {
    "duration": 137,
    "start_time": "2025-02-01T00:10:02.216Z"
   },
   {
    "duration": 17,
    "start_time": "2025-02-01T00:10:08.061Z"
   },
   {
    "duration": 197,
    "start_time": "2025-02-01T00:10:12.709Z"
   },
   {
    "duration": 211,
    "start_time": "2025-02-01T00:10:36.703Z"
   },
   {
    "duration": 151,
    "start_time": "2025-02-01T00:11:00.183Z"
   },
   {
    "duration": 158,
    "start_time": "2025-02-01T00:11:12.291Z"
   },
   {
    "duration": 173,
    "start_time": "2025-02-01T00:11:40.509Z"
   },
   {
    "duration": 165,
    "start_time": "2025-02-01T00:11:44.824Z"
   },
   {
    "duration": 167,
    "start_time": "2025-02-01T00:11:48.004Z"
   },
   {
    "duration": 168,
    "start_time": "2025-02-01T00:12:05.299Z"
   },
   {
    "duration": 159,
    "start_time": "2025-02-01T00:12:09.107Z"
   },
   {
    "duration": 140,
    "start_time": "2025-02-01T00:12:22.573Z"
   },
   {
    "duration": 164,
    "start_time": "2025-02-01T00:12:27.336Z"
   },
   {
    "duration": 151,
    "start_time": "2025-02-01T00:12:58.847Z"
   },
   {
    "duration": 260,
    "start_time": "2025-02-01T00:13:42.219Z"
   },
   {
    "duration": 174,
    "start_time": "2025-02-01T00:13:55.722Z"
   },
   {
    "duration": 160,
    "start_time": "2025-02-01T00:14:28.802Z"
   },
   {
    "duration": 199,
    "start_time": "2025-02-01T00:15:02.892Z"
   },
   {
    "duration": 194,
    "start_time": "2025-02-01T00:15:34.381Z"
   },
   {
    "duration": 202,
    "start_time": "2025-02-01T00:16:16.049Z"
   },
   {
    "duration": 303,
    "start_time": "2025-02-01T00:16:44.794Z"
   },
   {
    "duration": 6,
    "start_time": "2025-02-01T00:16:55.849Z"
   },
   {
    "duration": 236,
    "start_time": "2025-02-01T00:18:10.614Z"
   },
   {
    "duration": 192,
    "start_time": "2025-02-01T00:18:14.260Z"
   },
   {
    "duration": 205,
    "start_time": "2025-02-01T00:18:20.606Z"
   },
   {
    "duration": 222,
    "start_time": "2025-02-01T00:18:42.049Z"
   },
   {
    "duration": 296,
    "start_time": "2025-02-01T00:18:45.145Z"
   },
   {
    "duration": 793,
    "start_time": "2025-02-01T00:18:55.023Z"
   },
   {
    "duration": 178,
    "start_time": "2025-02-01T00:18:55.818Z"
   },
   {
    "duration": 9,
    "start_time": "2025-02-01T00:18:55.998Z"
   },
   {
    "duration": 10,
    "start_time": "2025-02-01T00:18:56.010Z"
   },
   {
    "duration": 28,
    "start_time": "2025-02-01T00:18:56.021Z"
   },
   {
    "duration": 9,
    "start_time": "2025-02-01T00:18:56.050Z"
   },
   {
    "duration": 10,
    "start_time": "2025-02-01T00:18:56.061Z"
   },
   {
    "duration": 11,
    "start_time": "2025-02-01T00:18:56.073Z"
   },
   {
    "duration": 9,
    "start_time": "2025-02-01T00:18:56.086Z"
   },
   {
    "duration": 51,
    "start_time": "2025-02-01T00:18:56.099Z"
   },
   {
    "duration": 13,
    "start_time": "2025-02-01T00:18:56.151Z"
   },
   {
    "duration": 29,
    "start_time": "2025-02-01T00:18:56.165Z"
   },
   {
    "duration": 22,
    "start_time": "2025-02-01T00:18:56.197Z"
   },
   {
    "duration": 31,
    "start_time": "2025-02-01T00:18:56.221Z"
   },
   {
    "duration": 9,
    "start_time": "2025-02-01T00:18:56.255Z"
   },
   {
    "duration": 17,
    "start_time": "2025-02-01T00:18:56.265Z"
   },
   {
    "duration": 9,
    "start_time": "2025-02-01T00:18:56.284Z"
   },
   {
    "duration": 13,
    "start_time": "2025-02-01T00:18:56.295Z"
   },
   {
    "duration": 17,
    "start_time": "2025-02-01T00:18:56.327Z"
   },
   {
    "duration": 28,
    "start_time": "2025-02-01T00:18:56.347Z"
   },
   {
    "duration": 13,
    "start_time": "2025-02-01T00:18:56.377Z"
   },
   {
    "duration": 7,
    "start_time": "2025-02-01T00:18:56.392Z"
   },
   {
    "duration": 37,
    "start_time": "2025-02-01T00:18:56.401Z"
   },
   {
    "duration": 17,
    "start_time": "2025-02-01T00:18:56.440Z"
   },
   {
    "duration": 12,
    "start_time": "2025-02-01T00:18:56.459Z"
   },
   {
    "duration": 10,
    "start_time": "2025-02-01T00:18:56.473Z"
   },
   {
    "duration": 7,
    "start_time": "2025-02-01T00:18:56.485Z"
   },
   {
    "duration": 18,
    "start_time": "2025-02-01T00:18:56.527Z"
   },
   {
    "duration": 28,
    "start_time": "2025-02-01T00:18:56.547Z"
   },
   {
    "duration": 5,
    "start_time": "2025-02-01T00:18:56.585Z"
   },
   {
    "duration": 12,
    "start_time": "2025-02-01T00:18:56.591Z"
   },
   {
    "duration": 4,
    "start_time": "2025-02-01T00:18:56.604Z"
   },
   {
    "duration": 42,
    "start_time": "2025-02-01T00:18:56.610Z"
   },
   {
    "duration": 18,
    "start_time": "2025-02-01T00:18:56.654Z"
   },
   {
    "duration": 4,
    "start_time": "2025-02-01T00:18:56.674Z"
   },
   {
    "duration": 4,
    "start_time": "2025-02-01T00:18:56.680Z"
   },
   {
    "duration": 100,
    "start_time": "2025-02-01T00:18:56.685Z"
   },
   {
    "duration": 202,
    "start_time": "2025-02-01T00:18:56.787Z"
   },
   {
    "duration": 3,
    "start_time": "2025-02-01T00:18:56.991Z"
   },
   {
    "duration": 2,
    "start_time": "2025-02-01T00:18:56.996Z"
   },
   {
    "duration": 3,
    "start_time": "2025-02-01T00:18:57.000Z"
   },
   {
    "duration": 3,
    "start_time": "2025-02-01T00:18:57.005Z"
   },
   {
    "duration": 3,
    "start_time": "2025-02-01T00:18:57.028Z"
   },
   {
    "duration": 4,
    "start_time": "2025-02-01T00:18:57.032Z"
   },
   {
    "duration": 3,
    "start_time": "2025-02-01T00:18:57.037Z"
   },
   {
    "duration": 185,
    "start_time": "2025-02-01T00:19:25.577Z"
   },
   {
    "duration": 220,
    "start_time": "2025-02-01T00:19:31.055Z"
   },
   {
    "duration": 750,
    "start_time": "2025-02-01T00:19:49.397Z"
   },
   {
    "duration": 190,
    "start_time": "2025-02-01T00:19:50.153Z"
   },
   {
    "duration": 10,
    "start_time": "2025-02-01T00:19:50.348Z"
   },
   {
    "duration": 9,
    "start_time": "2025-02-01T00:19:50.360Z"
   },
   {
    "duration": 8,
    "start_time": "2025-02-01T00:19:50.371Z"
   },
   {
    "duration": 10,
    "start_time": "2025-02-01T00:19:50.380Z"
   },
   {
    "duration": 10,
    "start_time": "2025-02-01T00:19:50.392Z"
   },
   {
    "duration": 11,
    "start_time": "2025-02-01T00:19:50.404Z"
   },
   {
    "duration": 10,
    "start_time": "2025-02-01T00:19:50.424Z"
   },
   {
    "duration": 24,
    "start_time": "2025-02-01T00:19:50.436Z"
   },
   {
    "duration": 10,
    "start_time": "2025-02-01T00:19:50.462Z"
   },
   {
    "duration": 25,
    "start_time": "2025-02-01T00:19:50.474Z"
   },
   {
    "duration": 58,
    "start_time": "2025-02-01T00:19:50.501Z"
   },
   {
    "duration": 12,
    "start_time": "2025-02-01T00:19:50.563Z"
   },
   {
    "duration": 9,
    "start_time": "2025-02-01T00:19:50.577Z"
   },
   {
    "duration": 17,
    "start_time": "2025-02-01T00:19:50.588Z"
   },
   {
    "duration": 44,
    "start_time": "2025-02-01T00:19:50.607Z"
   },
   {
    "duration": 13,
    "start_time": "2025-02-01T00:19:50.653Z"
   },
   {
    "duration": 8,
    "start_time": "2025-02-01T00:19:50.668Z"
   },
   {
    "duration": 19,
    "start_time": "2025-02-01T00:19:50.678Z"
   },
   {
    "duration": 13,
    "start_time": "2025-02-01T00:19:50.699Z"
   },
   {
    "duration": 13,
    "start_time": "2025-02-01T00:19:50.714Z"
   },
   {
    "duration": 21,
    "start_time": "2025-02-01T00:19:50.744Z"
   },
   {
    "duration": 12,
    "start_time": "2025-02-01T00:19:50.767Z"
   },
   {
    "duration": 9,
    "start_time": "2025-02-01T00:19:50.781Z"
   },
   {
    "duration": 9,
    "start_time": "2025-02-01T00:19:50.791Z"
   },
   {
    "duration": 5,
    "start_time": "2025-02-01T00:19:50.802Z"
   },
   {
    "duration": 40,
    "start_time": "2025-02-01T00:19:50.809Z"
   },
   {
    "duration": 14,
    "start_time": "2025-02-01T00:19:50.851Z"
   },
   {
    "duration": 2,
    "start_time": "2025-02-01T00:19:50.867Z"
   },
   {
    "duration": 12,
    "start_time": "2025-02-01T00:19:50.871Z"
   },
   {
    "duration": 4,
    "start_time": "2025-02-01T00:19:50.884Z"
   },
   {
    "duration": 13,
    "start_time": "2025-02-01T00:19:50.889Z"
   },
   {
    "duration": 59,
    "start_time": "2025-02-01T00:19:50.904Z"
   },
   {
    "duration": 5,
    "start_time": "2025-02-01T00:19:50.965Z"
   },
   {
    "duration": 4,
    "start_time": "2025-02-01T00:19:50.971Z"
   },
   {
    "duration": 80,
    "start_time": "2025-02-01T00:19:50.976Z"
   },
   {
    "duration": 204,
    "start_time": "2025-02-01T00:19:51.058Z"
   },
   {
    "duration": 2,
    "start_time": "2025-02-01T00:19:51.264Z"
   },
   {
    "duration": 2,
    "start_time": "2025-02-01T00:19:51.269Z"
   },
   {
    "duration": 2,
    "start_time": "2025-02-01T00:19:51.276Z"
   },
   {
    "duration": 3,
    "start_time": "2025-02-01T00:19:51.280Z"
   },
   {
    "duration": 3,
    "start_time": "2025-02-01T00:19:51.284Z"
   },
   {
    "duration": 3,
    "start_time": "2025-02-01T00:19:51.289Z"
   },
   {
    "duration": 32,
    "start_time": "2025-02-01T00:19:51.293Z"
   },
   {
    "duration": 206,
    "start_time": "2025-02-01T00:20:10.858Z"
   },
   {
    "duration": 240,
    "start_time": "2025-02-01T00:37:59.352Z"
   },
   {
    "duration": 278,
    "start_time": "2025-02-01T00:41:33.248Z"
   },
   {
    "duration": 241,
    "start_time": "2025-02-01T00:42:05.813Z"
   },
   {
    "duration": 582,
    "start_time": "2025-02-01T00:42:11.303Z"
   },
   {
    "duration": 76,
    "start_time": "2025-02-01T00:42:27.944Z"
   },
   {
    "duration": 98,
    "start_time": "2025-02-01T00:45:30.063Z"
   },
   {
    "duration": 814,
    "start_time": "2025-02-01T00:46:52.864Z"
   },
   {
    "duration": 187,
    "start_time": "2025-02-01T00:46:53.680Z"
   },
   {
    "duration": 10,
    "start_time": "2025-02-01T00:46:53.869Z"
   },
   {
    "duration": 10,
    "start_time": "2025-02-01T00:46:53.881Z"
   },
   {
    "duration": 9,
    "start_time": "2025-02-01T00:46:53.893Z"
   },
   {
    "duration": 49,
    "start_time": "2025-02-01T00:46:53.904Z"
   },
   {
    "duration": 12,
    "start_time": "2025-02-01T00:46:53.955Z"
   },
   {
    "duration": 11,
    "start_time": "2025-02-01T00:46:53.968Z"
   },
   {
    "duration": 9,
    "start_time": "2025-02-01T00:46:53.981Z"
   },
   {
    "duration": 16,
    "start_time": "2025-02-01T00:46:53.992Z"
   },
   {
    "duration": 42,
    "start_time": "2025-02-01T00:46:54.010Z"
   },
   {
    "duration": 28,
    "start_time": "2025-02-01T00:46:54.055Z"
   },
   {
    "duration": 18,
    "start_time": "2025-02-01T00:46:54.085Z"
   },
   {
    "duration": 35,
    "start_time": "2025-02-01T00:46:54.108Z"
   },
   {
    "duration": 9,
    "start_time": "2025-02-01T00:46:54.144Z"
   },
   {
    "duration": 17,
    "start_time": "2025-02-01T00:46:54.155Z"
   },
   {
    "duration": 9,
    "start_time": "2025-02-01T00:46:54.173Z"
   },
   {
    "duration": 12,
    "start_time": "2025-02-01T00:46:54.184Z"
   },
   {
    "duration": 8,
    "start_time": "2025-02-01T00:46:54.198Z"
   },
   {
    "duration": 33,
    "start_time": "2025-02-01T00:46:54.235Z"
   },
   {
    "duration": 15,
    "start_time": "2025-02-01T00:46:54.269Z"
   },
   {
    "duration": 7,
    "start_time": "2025-02-01T00:46:54.286Z"
   },
   {
    "duration": 17,
    "start_time": "2025-02-01T00:46:54.295Z"
   },
   {
    "duration": 45,
    "start_time": "2025-02-01T00:46:54.314Z"
   },
   {
    "duration": 10,
    "start_time": "2025-02-01T00:46:54.363Z"
   },
   {
    "duration": 10,
    "start_time": "2025-02-01T00:46:54.375Z"
   },
   {
    "duration": 5,
    "start_time": "2025-02-01T00:46:54.387Z"
   },
   {
    "duration": 15,
    "start_time": "2025-02-01T00:46:54.394Z"
   },
   {
    "duration": 26,
    "start_time": "2025-02-01T00:46:54.432Z"
   },
   {
    "duration": 6,
    "start_time": "2025-02-01T00:46:54.460Z"
   },
   {
    "duration": 13,
    "start_time": "2025-02-01T00:46:54.467Z"
   },
   {
    "duration": 4,
    "start_time": "2025-02-01T00:46:54.481Z"
   },
   {
    "duration": 14,
    "start_time": "2025-02-01T00:46:54.486Z"
   },
   {
    "duration": 51,
    "start_time": "2025-02-01T00:46:54.502Z"
   },
   {
    "duration": 4,
    "start_time": "2025-02-01T00:46:54.555Z"
   },
   {
    "duration": 5,
    "start_time": "2025-02-01T00:46:54.561Z"
   },
   {
    "duration": 94,
    "start_time": "2025-02-01T00:46:54.568Z"
   },
   {
    "duration": 917,
    "start_time": "2025-02-01T00:46:54.663Z"
   },
   {
    "duration": 0,
    "start_time": "2025-02-01T00:46:55.582Z"
   },
   {
    "duration": 0,
    "start_time": "2025-02-01T00:46:55.583Z"
   },
   {
    "duration": 0,
    "start_time": "2025-02-01T00:46:55.584Z"
   },
   {
    "duration": 0,
    "start_time": "2025-02-01T00:46:55.585Z"
   },
   {
    "duration": 0,
    "start_time": "2025-02-01T00:46:55.587Z"
   },
   {
    "duration": 0,
    "start_time": "2025-02-01T00:46:55.588Z"
   },
   {
    "duration": 0,
    "start_time": "2025-02-01T00:46:55.590Z"
   },
   {
    "duration": 266,
    "start_time": "2025-02-01T00:47:49.399Z"
   },
   {
    "duration": 23,
    "start_time": "2025-02-01T00:50:21.580Z"
   },
   {
    "duration": 93,
    "start_time": "2025-02-01T00:50:29.488Z"
   },
   {
    "duration": 237,
    "start_time": "2025-02-01T00:50:39.317Z"
   },
   {
    "duration": 11,
    "start_time": "2025-02-01T00:59:56.628Z"
   },
   {
    "duration": 8,
    "start_time": "2025-02-01T01:10:52.385Z"
   },
   {
    "duration": 11,
    "start_time": "2025-02-01T01:10:58.848Z"
   },
   {
    "duration": 4,
    "start_time": "2025-02-01T01:18:21.525Z"
   },
   {
    "duration": 11,
    "start_time": "2025-02-01T01:18:28.620Z"
   },
   {
    "duration": 12,
    "start_time": "2025-02-01T01:42:30.249Z"
   },
   {
    "duration": 2,
    "start_time": "2025-02-01T02:13:48.720Z"
   },
   {
    "duration": 195,
    "start_time": "2025-02-01T02:14:37.367Z"
   },
   {
    "duration": 5,
    "start_time": "2025-02-01T02:20:50.044Z"
   },
   {
    "duration": 5,
    "start_time": "2025-02-01T02:21:05.352Z"
   },
   {
    "duration": 8,
    "start_time": "2025-02-01T02:21:30.524Z"
   },
   {
    "duration": 40,
    "start_time": "2025-02-01T02:21:50.282Z"
   },
   {
    "duration": 9,
    "start_time": "2025-02-01T02:22:13.687Z"
   },
   {
    "duration": 123,
    "start_time": "2025-02-01T02:23:55.065Z"
   },
   {
    "duration": 1044,
    "start_time": "2025-02-01T02:24:20.604Z"
   },
   {
    "duration": 128,
    "start_time": "2025-02-01T02:24:35.641Z"
   },
   {
    "duration": 146,
    "start_time": "2025-02-01T02:25:06.014Z"
   },
   {
    "duration": 145,
    "start_time": "2025-02-01T02:25:31.540Z"
   },
   {
    "duration": 175,
    "start_time": "2025-02-01T02:25:48.770Z"
   },
   {
    "duration": 168,
    "start_time": "2025-02-01T02:26:06.157Z"
   },
   {
    "duration": 185,
    "start_time": "2025-02-01T02:26:24.708Z"
   },
   {
    "duration": 153,
    "start_time": "2025-02-01T02:26:47.833Z"
   },
   {
    "duration": 184,
    "start_time": "2025-02-01T02:30:45.491Z"
   },
   {
    "duration": 183,
    "start_time": "2025-02-01T02:34:10.004Z"
   },
   {
    "duration": 176,
    "start_time": "2025-02-01T02:34:32.994Z"
   },
   {
    "duration": 11,
    "start_time": "2025-02-01T02:45:15.019Z"
   },
   {
    "duration": 3,
    "start_time": "2025-02-01T02:51:49.973Z"
   },
   {
    "duration": 5,
    "start_time": "2025-02-01T02:52:56.660Z"
   },
   {
    "duration": 11,
    "start_time": "2025-02-01T02:53:04.068Z"
   },
   {
    "duration": 4,
    "start_time": "2025-02-01T02:53:25.930Z"
   },
   {
    "duration": 6,
    "start_time": "2025-02-01T02:53:31.638Z"
   },
   {
    "duration": 4,
    "start_time": "2025-02-01T02:55:56.566Z"
   },
   {
    "duration": 5,
    "start_time": "2025-02-01T02:56:04.290Z"
   },
   {
    "duration": 6,
    "start_time": "2025-02-01T02:56:27.661Z"
   },
   {
    "duration": 43,
    "start_time": "2025-02-01T02:57:12.885Z"
   },
   {
    "duration": 5,
    "start_time": "2025-02-01T02:57:22.792Z"
   },
   {
    "duration": 5,
    "start_time": "2025-02-01T03:02:44.998Z"
   },
   {
    "duration": 17,
    "start_time": "2025-02-01T03:03:00.920Z"
   },
   {
    "duration": 15,
    "start_time": "2025-02-01T03:03:06.608Z"
   },
   {
    "duration": 15,
    "start_time": "2025-02-01T03:04:04.407Z"
   },
   {
    "duration": 5,
    "start_time": "2025-02-01T03:04:09.190Z"
   },
   {
    "duration": 13,
    "start_time": "2025-02-01T03:04:23.651Z"
   },
   {
    "duration": 6,
    "start_time": "2025-02-01T03:04:59.383Z"
   },
   {
    "duration": 5,
    "start_time": "2025-02-01T03:06:17.840Z"
   },
   {
    "duration": 6,
    "start_time": "2025-02-01T03:09:28.237Z"
   },
   {
    "duration": 6,
    "start_time": "2025-02-01T03:09:41.912Z"
   },
   {
    "duration": 6,
    "start_time": "2025-02-01T03:15:44.822Z"
   },
   {
    "duration": 6,
    "start_time": "2025-02-01T03:16:17.746Z"
   },
   {
    "duration": 4,
    "start_time": "2025-02-01T03:21:12.797Z"
   },
   {
    "duration": 836,
    "start_time": "2025-02-01T03:31:28.859Z"
   },
   {
    "duration": 161,
    "start_time": "2025-02-01T03:31:29.697Z"
   },
   {
    "duration": 9,
    "start_time": "2025-02-01T03:31:29.860Z"
   },
   {
    "duration": 9,
    "start_time": "2025-02-01T03:31:29.873Z"
   },
   {
    "duration": 9,
    "start_time": "2025-02-01T03:31:29.884Z"
   },
   {
    "duration": 30,
    "start_time": "2025-02-01T03:31:29.895Z"
   },
   {
    "duration": 16,
    "start_time": "2025-02-01T03:31:29.927Z"
   },
   {
    "duration": 15,
    "start_time": "2025-02-01T03:31:29.947Z"
   },
   {
    "duration": 9,
    "start_time": "2025-02-01T03:31:29.964Z"
   },
   {
    "duration": 17,
    "start_time": "2025-02-01T03:31:29.979Z"
   },
   {
    "duration": 27,
    "start_time": "2025-02-01T03:31:29.998Z"
   },
   {
    "duration": 35,
    "start_time": "2025-02-01T03:31:30.027Z"
   },
   {
    "duration": 21,
    "start_time": "2025-02-01T03:31:30.063Z"
   },
   {
    "duration": 14,
    "start_time": "2025-02-01T03:31:30.085Z"
   },
   {
    "duration": 31,
    "start_time": "2025-02-01T03:31:30.100Z"
   },
   {
    "duration": 17,
    "start_time": "2025-02-01T03:31:30.133Z"
   },
   {
    "duration": 11,
    "start_time": "2025-02-01T03:31:30.152Z"
   },
   {
    "duration": 16,
    "start_time": "2025-02-01T03:31:30.166Z"
   },
   {
    "duration": 10,
    "start_time": "2025-02-01T03:31:30.185Z"
   },
   {
    "duration": 46,
    "start_time": "2025-02-01T03:31:30.197Z"
   },
   {
    "duration": 13,
    "start_time": "2025-02-01T03:31:30.245Z"
   },
   {
    "duration": 6,
    "start_time": "2025-02-01T03:31:30.260Z"
   },
   {
    "duration": 17,
    "start_time": "2025-02-01T03:31:30.268Z"
   },
   {
    "duration": 38,
    "start_time": "2025-02-01T03:31:30.287Z"
   },
   {
    "duration": 12,
    "start_time": "2025-02-01T03:31:30.327Z"
   },
   {
    "duration": 11,
    "start_time": "2025-02-01T03:31:30.340Z"
   },
   {
    "duration": 5,
    "start_time": "2025-02-01T03:31:30.353Z"
   },
   {
    "duration": 14,
    "start_time": "2025-02-01T03:31:30.362Z"
   },
   {
    "duration": 14,
    "start_time": "2025-02-01T03:31:30.377Z"
   },
   {
    "duration": 4,
    "start_time": "2025-02-01T03:31:30.424Z"
   },
   {
    "duration": 13,
    "start_time": "2025-02-01T03:31:30.430Z"
   },
   {
    "duration": 4,
    "start_time": "2025-02-01T03:31:30.444Z"
   },
   {
    "duration": 17,
    "start_time": "2025-02-01T03:31:30.449Z"
   },
   {
    "duration": 18,
    "start_time": "2025-02-01T03:31:30.469Z"
   },
   {
    "duration": 5,
    "start_time": "2025-02-01T03:31:30.488Z"
   },
   {
    "duration": 4,
    "start_time": "2025-02-01T03:31:30.524Z"
   },
   {
    "duration": 72,
    "start_time": "2025-02-01T03:31:30.529Z"
   },
   {
    "duration": 220,
    "start_time": "2025-02-01T03:31:30.602Z"
   },
   {
    "duration": 227,
    "start_time": "2025-02-01T03:31:30.824Z"
   },
   {
    "duration": 6,
    "start_time": "2025-02-01T03:31:31.053Z"
   },
   {
    "duration": 3,
    "start_time": "2025-02-01T03:31:31.060Z"
   },
   {
    "duration": 4,
    "start_time": "2025-02-01T03:31:31.064Z"
   },
   {
    "duration": 2,
    "start_time": "2025-02-01T03:31:31.070Z"
   },
   {
    "duration": 3,
    "start_time": "2025-02-01T03:31:31.074Z"
   },
   {
    "duration": 3,
    "start_time": "2025-02-01T03:31:31.078Z"
   },
   {
    "duration": 74,
    "start_time": "2025-02-01T03:36:26.398Z"
   },
   {
    "duration": 372,
    "start_time": "2025-02-01T03:39:42.908Z"
   },
   {
    "duration": 302,
    "start_time": "2025-02-01T03:41:10.047Z"
   },
   {
    "duration": 132,
    "start_time": "2025-02-01T03:41:31.632Z"
   },
   {
    "duration": 4,
    "start_time": "2025-02-01T03:47:37.360Z"
   },
   {
    "duration": 28,
    "start_time": "2025-02-01T03:47:55.046Z"
   },
   {
    "duration": 5,
    "start_time": "2025-02-01T03:48:12.914Z"
   },
   {
    "duration": 26,
    "start_time": "2025-02-01T03:48:22.595Z"
   },
   {
    "duration": 110,
    "start_time": "2025-02-01T03:48:43.820Z"
   },
   {
    "duration": 16,
    "start_time": "2025-02-01T03:57:23.758Z"
   },
   {
    "duration": 3,
    "start_time": "2025-02-01T04:03:12.425Z"
   },
   {
    "duration": 12,
    "start_time": "2025-02-01T04:03:16.343Z"
   },
   {
    "duration": 11,
    "start_time": "2025-02-01T04:03:54.383Z"
   },
   {
    "duration": 4,
    "start_time": "2025-02-01T04:03:59.473Z"
   },
   {
    "duration": 6,
    "start_time": "2025-02-01T04:04:07.799Z"
   },
   {
    "duration": 206,
    "start_time": "2025-02-01T04:05:01.890Z"
   },
   {
    "duration": 202,
    "start_time": "2025-02-01T04:05:12.414Z"
   },
   {
    "duration": 207,
    "start_time": "2025-02-01T04:05:19.124Z"
   },
   {
    "duration": 216,
    "start_time": "2025-02-01T04:05:28.024Z"
   },
   {
    "duration": 672,
    "start_time": "2025-02-01T04:06:39.866Z"
   },
   {
    "duration": 839,
    "start_time": "2025-02-01T04:07:30.835Z"
   },
   {
    "duration": 159,
    "start_time": "2025-02-01T04:07:31.676Z"
   },
   {
    "duration": 9,
    "start_time": "2025-02-01T04:07:31.837Z"
   },
   {
    "duration": 10,
    "start_time": "2025-02-01T04:07:31.849Z"
   },
   {
    "duration": 7,
    "start_time": "2025-02-01T04:07:31.860Z"
   },
   {
    "duration": 10,
    "start_time": "2025-02-01T04:07:31.869Z"
   },
   {
    "duration": 11,
    "start_time": "2025-02-01T04:07:31.880Z"
   },
   {
    "duration": 12,
    "start_time": "2025-02-01T04:07:31.924Z"
   },
   {
    "duration": 8,
    "start_time": "2025-02-01T04:07:31.938Z"
   },
   {
    "duration": 15,
    "start_time": "2025-02-01T04:07:31.949Z"
   },
   {
    "duration": 9,
    "start_time": "2025-02-01T04:07:31.966Z"
   },
   {
    "duration": 53,
    "start_time": "2025-02-01T04:07:31.976Z"
   },
   {
    "duration": 21,
    "start_time": "2025-02-01T04:07:32.031Z"
   },
   {
    "duration": 12,
    "start_time": "2025-02-01T04:07:32.055Z"
   },
   {
    "duration": 8,
    "start_time": "2025-02-01T04:07:32.069Z"
   },
   {
    "duration": 17,
    "start_time": "2025-02-01T04:07:32.079Z"
   },
   {
    "duration": 10,
    "start_time": "2025-02-01T04:07:32.123Z"
   },
   {
    "duration": 14,
    "start_time": "2025-02-01T04:07:32.134Z"
   },
   {
    "duration": 9,
    "start_time": "2025-02-01T04:07:32.149Z"
   },
   {
    "duration": 19,
    "start_time": "2025-02-01T04:07:32.160Z"
   },
   {
    "duration": 44,
    "start_time": "2025-02-01T04:07:32.181Z"
   },
   {
    "duration": 7,
    "start_time": "2025-02-01T04:07:32.226Z"
   },
   {
    "duration": 17,
    "start_time": "2025-02-01T04:07:32.234Z"
   },
   {
    "duration": 13,
    "start_time": "2025-02-01T04:07:32.253Z"
   },
   {
    "duration": 8,
    "start_time": "2025-02-01T04:07:32.268Z"
   },
   {
    "duration": 9,
    "start_time": "2025-02-01T04:07:32.278Z"
   },
   {
    "duration": 36,
    "start_time": "2025-02-01T04:07:32.288Z"
   },
   {
    "duration": 13,
    "start_time": "2025-02-01T04:07:32.329Z"
   },
   {
    "duration": 13,
    "start_time": "2025-02-01T04:07:32.344Z"
   },
   {
    "duration": 3,
    "start_time": "2025-02-01T04:07:32.360Z"
   },
   {
    "duration": 12,
    "start_time": "2025-02-01T04:07:32.365Z"
   },
   {
    "duration": 3,
    "start_time": "2025-02-01T04:07:32.379Z"
   },
   {
    "duration": 45,
    "start_time": "2025-02-01T04:07:32.384Z"
   },
   {
    "duration": 18,
    "start_time": "2025-02-01T04:07:32.430Z"
   },
   {
    "duration": 5,
    "start_time": "2025-02-01T04:07:32.449Z"
   },
   {
    "duration": 4,
    "start_time": "2025-02-01T04:07:32.455Z"
   },
   {
    "duration": 90,
    "start_time": "2025-02-01T04:07:32.461Z"
   },
   {
    "duration": 206,
    "start_time": "2025-02-01T04:07:32.553Z"
   },
   {
    "duration": 233,
    "start_time": "2025-02-01T04:07:32.761Z"
   },
   {
    "duration": 5,
    "start_time": "2025-02-01T04:07:32.995Z"
   },
   {
    "duration": 91,
    "start_time": "2025-02-01T04:07:33.002Z"
   },
   {
    "duration": 9639,
    "start_time": "2025-02-01T04:07:33.095Z"
   },
   {
    "duration": 2,
    "start_time": "2025-02-01T04:07:42.736Z"
   },
   {
    "duration": 3,
    "start_time": "2025-02-01T04:07:42.740Z"
   },
   {
    "duration": 3,
    "start_time": "2025-02-01T04:07:42.744Z"
   },
   {
    "duration": 11,
    "start_time": "2025-02-01T04:08:14.838Z"
   },
   {
    "duration": 185,
    "start_time": "2025-02-01T04:09:13.931Z"
   },
   {
    "duration": 182,
    "start_time": "2025-02-01T04:09:26.359Z"
   },
   {
    "duration": 2,
    "start_time": "2025-02-01T04:09:48.979Z"
   },
   {
    "duration": 8857,
    "start_time": "2025-02-01T04:10:47.724Z"
   },
   {
    "duration": 2646,
    "start_time": "2025-02-01T18:12:42.015Z"
   },
   {
    "duration": 239,
    "start_time": "2025-02-01T18:12:44.663Z"
   },
   {
    "duration": 11,
    "start_time": "2025-02-01T18:12:44.904Z"
   },
   {
    "duration": 10,
    "start_time": "2025-02-01T18:12:44.917Z"
   },
   {
    "duration": 9,
    "start_time": "2025-02-01T18:12:44.930Z"
   },
   {
    "duration": 10,
    "start_time": "2025-02-01T18:12:44.941Z"
   },
   {
    "duration": 38,
    "start_time": "2025-02-01T18:12:44.953Z"
   },
   {
    "duration": 11,
    "start_time": "2025-02-01T18:12:44.992Z"
   },
   {
    "duration": 8,
    "start_time": "2025-02-01T18:12:45.005Z"
   },
   {
    "duration": 17,
    "start_time": "2025-02-01T18:12:45.015Z"
   },
   {
    "duration": 11,
    "start_time": "2025-02-01T18:12:45.034Z"
   },
   {
    "duration": 59,
    "start_time": "2025-02-01T18:12:45.046Z"
   },
   {
    "duration": 17,
    "start_time": "2025-02-01T18:12:45.107Z"
   },
   {
    "duration": 13,
    "start_time": "2025-02-01T18:12:45.128Z"
   },
   {
    "duration": 9,
    "start_time": "2025-02-01T18:12:45.143Z"
   },
   {
    "duration": 43,
    "start_time": "2025-02-01T18:12:45.153Z"
   },
   {
    "duration": 10,
    "start_time": "2025-02-01T18:12:45.198Z"
   },
   {
    "duration": 14,
    "start_time": "2025-02-01T18:12:45.210Z"
   },
   {
    "duration": 9,
    "start_time": "2025-02-01T18:12:45.226Z"
   },
   {
    "duration": 55,
    "start_time": "2025-02-01T18:12:45.237Z"
   },
   {
    "duration": 15,
    "start_time": "2025-02-01T18:12:45.294Z"
   },
   {
    "duration": 7,
    "start_time": "2025-02-01T18:12:45.311Z"
   },
   {
    "duration": 18,
    "start_time": "2025-02-01T18:12:45.319Z"
   },
   {
    "duration": 15,
    "start_time": "2025-02-01T18:12:45.339Z"
   },
   {
    "duration": 39,
    "start_time": "2025-02-01T18:12:45.356Z"
   },
   {
    "duration": 10,
    "start_time": "2025-02-01T18:12:45.397Z"
   },
   {
    "duration": 5,
    "start_time": "2025-02-01T18:12:45.409Z"
   },
   {
    "duration": 15,
    "start_time": "2025-02-01T18:12:45.416Z"
   },
   {
    "duration": 16,
    "start_time": "2025-02-01T18:12:45.432Z"
   },
   {
    "duration": 4,
    "start_time": "2025-02-01T18:12:45.486Z"
   },
   {
    "duration": 13,
    "start_time": "2025-02-01T18:12:45.492Z"
   },
   {
    "duration": 4,
    "start_time": "2025-02-01T18:12:45.508Z"
   },
   {
    "duration": 15,
    "start_time": "2025-02-01T18:12:45.515Z"
   },
   {
    "duration": 18,
    "start_time": "2025-02-01T18:12:45.532Z"
   },
   {
    "duration": 34,
    "start_time": "2025-02-01T18:12:45.553Z"
   },
   {
    "duration": 5,
    "start_time": "2025-02-01T18:12:45.589Z"
   },
   {
    "duration": 74,
    "start_time": "2025-02-01T18:12:45.596Z"
   },
   {
    "duration": 224,
    "start_time": "2025-02-01T18:12:45.687Z"
   },
   {
    "duration": 204,
    "start_time": "2025-02-01T18:12:45.914Z"
   },
   {
    "duration": 5,
    "start_time": "2025-02-01T18:12:46.120Z"
   },
   {
    "duration": 86,
    "start_time": "2025-02-01T18:12:46.130Z"
   },
   {
    "duration": 11,
    "start_time": "2025-02-01T18:12:46.218Z"
   },
   {
    "duration": 3,
    "start_time": "2025-02-01T18:12:46.230Z"
   },
   {
    "duration": 3,
    "start_time": "2025-02-01T18:12:46.234Z"
   },
   {
    "duration": 3,
    "start_time": "2025-02-01T18:12:46.239Z"
   },
   {
    "duration": 2575,
    "start_time": "2025-02-03T23:38:20.011Z"
   },
   {
    "duration": 206,
    "start_time": "2025-02-03T23:38:22.589Z"
   },
   {
    "duration": 11,
    "start_time": "2025-02-03T23:38:22.797Z"
   },
   {
    "duration": 11,
    "start_time": "2025-02-03T23:38:22.809Z"
   },
   {
    "duration": 8,
    "start_time": "2025-02-03T23:38:22.823Z"
   },
   {
    "duration": 11,
    "start_time": "2025-02-03T23:38:22.833Z"
   },
   {
    "duration": 13,
    "start_time": "2025-02-03T23:38:22.846Z"
   },
   {
    "duration": 13,
    "start_time": "2025-02-03T23:38:22.861Z"
   },
   {
    "duration": 39,
    "start_time": "2025-02-03T23:38:22.876Z"
   },
   {
    "duration": 16,
    "start_time": "2025-02-03T23:38:22.916Z"
   },
   {
    "duration": 10,
    "start_time": "2025-02-03T23:38:22.934Z"
   },
   {
    "duration": 27,
    "start_time": "2025-02-03T23:38:22.945Z"
   },
   {
    "duration": 41,
    "start_time": "2025-02-03T23:38:22.973Z"
   },
   {
    "duration": 11,
    "start_time": "2025-02-03T23:38:23.017Z"
   },
   {
    "duration": 8,
    "start_time": "2025-02-03T23:38:23.030Z"
   },
   {
    "duration": 17,
    "start_time": "2025-02-03T23:38:23.040Z"
   },
   {
    "duration": 11,
    "start_time": "2025-02-03T23:38:23.059Z"
   },
   {
    "duration": 42,
    "start_time": "2025-02-03T23:38:23.072Z"
   },
   {
    "duration": 9,
    "start_time": "2025-02-03T23:38:23.116Z"
   },
   {
    "duration": 21,
    "start_time": "2025-02-03T23:38:23.127Z"
   },
   {
    "duration": 14,
    "start_time": "2025-02-03T23:38:23.150Z"
   },
   {
    "duration": 8,
    "start_time": "2025-02-03T23:38:23.165Z"
   },
   {
    "duration": 48,
    "start_time": "2025-02-03T23:38:23.175Z"
   },
   {
    "duration": 13,
    "start_time": "2025-02-03T23:38:23.225Z"
   },
   {
    "duration": 10,
    "start_time": "2025-02-03T23:38:23.240Z"
   },
   {
    "duration": 9,
    "start_time": "2025-02-03T23:38:23.252Z"
   },
   {
    "duration": 5,
    "start_time": "2025-02-03T23:38:23.262Z"
   },
   {
    "duration": 48,
    "start_time": "2025-02-03T23:38:23.269Z"
   },
   {
    "duration": 15,
    "start_time": "2025-02-03T23:38:23.319Z"
   },
   {
    "duration": 2,
    "start_time": "2025-02-03T23:38:23.337Z"
   },
   {
    "duration": 11,
    "start_time": "2025-02-03T23:38:23.343Z"
   },
   {
    "duration": 3,
    "start_time": "2025-02-03T23:38:23.356Z"
   },
   {
    "duration": 15,
    "start_time": "2025-02-03T23:38:23.361Z"
   },
   {
    "duration": 20,
    "start_time": "2025-02-03T23:38:23.410Z"
   },
   {
    "duration": 4,
    "start_time": "2025-02-03T23:38:23.432Z"
   },
   {
    "duration": 4,
    "start_time": "2025-02-03T23:38:23.438Z"
   },
   {
    "duration": 95,
    "start_time": "2025-02-03T23:38:23.444Z"
   },
   {
    "duration": 213,
    "start_time": "2025-02-03T23:38:23.541Z"
   },
   {
    "duration": 198,
    "start_time": "2025-02-03T23:38:23.756Z"
   },
   {
    "duration": 7,
    "start_time": "2025-02-03T23:38:23.957Z"
   },
   {
    "duration": 81,
    "start_time": "2025-02-03T23:38:23.970Z"
   },
   {
    "duration": 11,
    "start_time": "2025-02-03T23:38:24.052Z"
   },
   {
    "duration": 2,
    "start_time": "2025-02-03T23:38:24.064Z"
   },
   {
    "duration": 3,
    "start_time": "2025-02-03T23:38:24.068Z"
   },
   {
    "duration": 3,
    "start_time": "2025-02-03T23:38:24.072Z"
   },
   {
    "duration": 12,
    "start_time": "2025-02-03T23:52:14.854Z"
   },
   {
    "duration": 5,
    "start_time": "2025-02-03T23:52:52.549Z"
   },
   {
    "duration": 108,
    "start_time": "2025-02-03T23:53:25.388Z"
   },
   {
    "duration": 157,
    "start_time": "2025-02-03T23:54:05.118Z"
   },
   {
    "duration": 5388,
    "start_time": "2025-02-03T23:55:28.601Z"
   },
   {
    "duration": 251,
    "start_time": "2025-02-03T23:55:50.196Z"
   },
   {
    "duration": 5494,
    "start_time": "2025-02-03T23:57:06.823Z"
   },
   {
    "duration": 105,
    "start_time": "2025-02-03T23:58:22.847Z"
   },
   {
    "duration": 5,
    "start_time": "2025-02-04T00:05:40.494Z"
   },
   {
    "duration": 7,
    "start_time": "2025-02-04T00:05:55.088Z"
   },
   {
    "duration": 8,
    "start_time": "2025-02-04T00:06:03.372Z"
   },
   {
    "duration": 2646,
    "start_time": "2025-02-05T00:14:41.686Z"
   },
   {
    "duration": 216,
    "start_time": "2025-02-05T00:14:44.335Z"
   },
   {
    "duration": 10,
    "start_time": "2025-02-05T00:14:44.553Z"
   },
   {
    "duration": 10,
    "start_time": "2025-02-05T00:14:44.564Z"
   },
   {
    "duration": 8,
    "start_time": "2025-02-05T00:14:44.576Z"
   },
   {
    "duration": 9,
    "start_time": "2025-02-05T00:14:44.587Z"
   },
   {
    "duration": 11,
    "start_time": "2025-02-05T00:14:44.603Z"
   },
   {
    "duration": 11,
    "start_time": "2025-02-05T00:14:44.615Z"
   },
   {
    "duration": 8,
    "start_time": "2025-02-05T00:14:44.628Z"
   },
   {
    "duration": 14,
    "start_time": "2025-02-05T00:14:44.638Z"
   },
   {
    "duration": 34,
    "start_time": "2025-02-05T00:14:44.654Z"
   },
   {
    "duration": 25,
    "start_time": "2025-02-05T00:14:44.690Z"
   },
   {
    "duration": 17,
    "start_time": "2025-02-05T00:14:44.716Z"
   },
   {
    "duration": 11,
    "start_time": "2025-02-05T00:14:44.737Z"
   },
   {
    "duration": 38,
    "start_time": "2025-02-05T00:14:44.749Z"
   },
   {
    "duration": 16,
    "start_time": "2025-02-05T00:14:44.790Z"
   },
   {
    "duration": 9,
    "start_time": "2025-02-05T00:14:44.807Z"
   },
   {
    "duration": 14,
    "start_time": "2025-02-05T00:14:44.818Z"
   },
   {
    "duration": 8,
    "start_time": "2025-02-05T00:14:44.834Z"
   },
   {
    "duration": 49,
    "start_time": "2025-02-05T00:14:44.844Z"
   },
   {
    "duration": 14,
    "start_time": "2025-02-05T00:14:44.895Z"
   },
   {
    "duration": 8,
    "start_time": "2025-02-05T00:14:44.911Z"
   },
   {
    "duration": 17,
    "start_time": "2025-02-05T00:14:44.921Z"
   },
   {
    "duration": 13,
    "start_time": "2025-02-05T00:14:44.939Z"
   },
   {
    "duration": 39,
    "start_time": "2025-02-05T00:14:44.954Z"
   },
   {
    "duration": 9,
    "start_time": "2025-02-05T00:14:44.996Z"
   },
   {
    "duration": 6,
    "start_time": "2025-02-05T00:14:45.006Z"
   },
   {
    "duration": 15,
    "start_time": "2025-02-05T00:14:45.013Z"
   },
   {
    "duration": 14,
    "start_time": "2025-02-05T00:14:45.029Z"
   },
   {
    "duration": 3,
    "start_time": "2025-02-05T00:14:45.045Z"
   },
   {
    "duration": 45,
    "start_time": "2025-02-05T00:14:45.050Z"
   },
   {
    "duration": 4,
    "start_time": "2025-02-05T00:14:45.097Z"
   },
   {
    "duration": 14,
    "start_time": "2025-02-05T00:14:45.102Z"
   },
   {
    "duration": 20,
    "start_time": "2025-02-05T00:14:45.118Z"
   },
   {
    "duration": 4,
    "start_time": "2025-02-05T00:14:45.140Z"
   },
   {
    "duration": 4,
    "start_time": "2025-02-05T00:14:45.146Z"
   },
   {
    "duration": 108,
    "start_time": "2025-02-05T00:14:45.151Z"
   },
   {
    "duration": 225,
    "start_time": "2025-02-05T00:14:45.261Z"
   },
   {
    "duration": 204,
    "start_time": "2025-02-05T00:14:45.488Z"
   },
   {
    "duration": 6,
    "start_time": "2025-02-05T00:14:45.694Z"
   },
   {
    "duration": 94,
    "start_time": "2025-02-05T00:14:45.704Z"
   },
   {
    "duration": 8,
    "start_time": "2025-02-05T00:14:45.800Z"
   },
   {
    "duration": 127,
    "start_time": "2025-02-05T00:14:45.810Z"
   },
   {
    "duration": 2,
    "start_time": "2025-02-05T00:14:45.939Z"
   },
   {
    "duration": 3,
    "start_time": "2025-02-05T00:14:45.943Z"
   },
   {
    "duration": 105,
    "start_time": "2025-02-05T00:16:08.262Z"
   },
   {
    "duration": 173,
    "start_time": "2025-02-05T00:16:19.543Z"
   },
   {
    "duration": 194,
    "start_time": "2025-02-05T00:18:18.969Z"
   },
   {
    "duration": 187,
    "start_time": "2025-02-05T00:18:27.305Z"
   },
   {
    "duration": 168,
    "start_time": "2025-02-05T00:18:58.209Z"
   },
   {
    "duration": 172,
    "start_time": "2025-02-05T00:19:03.636Z"
   },
   {
    "duration": 170,
    "start_time": "2025-02-05T00:19:25.061Z"
   },
   {
    "duration": 189,
    "start_time": "2025-02-05T00:19:28.907Z"
   },
   {
    "duration": 7,
    "start_time": "2025-02-05T00:19:40.352Z"
   },
   {
    "duration": 174,
    "start_time": "2025-02-05T00:19:44.623Z"
   },
   {
    "duration": 172,
    "start_time": "2025-02-05T00:19:57.450Z"
   },
   {
    "duration": 183,
    "start_time": "2025-02-05T00:39:13.164Z"
   },
   {
    "duration": 7,
    "start_time": "2025-02-05T00:46:40.969Z"
   },
   {
    "duration": 73,
    "start_time": "2025-02-05T00:46:44.714Z"
   },
   {
    "duration": 6,
    "start_time": "2025-02-05T00:46:59.032Z"
   },
   {
    "duration": 5,
    "start_time": "2025-02-05T00:47:12.932Z"
   },
   {
    "duration": 273,
    "start_time": "2025-02-05T00:50:46.392Z"
   },
   {
    "duration": 188,
    "start_time": "2025-02-05T00:51:54.474Z"
   },
   {
    "duration": 187,
    "start_time": "2025-02-05T00:52:09.024Z"
   },
   {
    "duration": 223,
    "start_time": "2025-02-05T00:53:40.984Z"
   },
   {
    "duration": 221,
    "start_time": "2025-02-05T01:27:58.862Z"
   },
   {
    "duration": 29,
    "start_time": "2025-02-05T01:32:29.336Z"
   },
   {
    "duration": 9,
    "start_time": "2025-02-05T01:44:51.277Z"
   },
   {
    "duration": 16,
    "start_time": "2025-02-05T01:44:56.221Z"
   },
   {
    "duration": 350,
    "start_time": "2025-02-05T01:53:20.469Z"
   },
   {
    "duration": 468,
    "start_time": "2025-02-05T01:54:33.793Z"
   },
   {
    "duration": 4,
    "start_time": "2025-02-05T01:54:38.473Z"
   },
   {
    "duration": 17,
    "start_time": "2025-02-05T01:54:40.700Z"
   },
   {
    "duration": 331,
    "start_time": "2025-02-05T01:54:45.217Z"
   },
   {
    "duration": 76,
    "start_time": "2025-02-05T02:15:38.449Z"
   },
   {
    "duration": 443,
    "start_time": "2025-02-05T02:17:38.881Z"
   },
   {
    "duration": 76,
    "start_time": "2025-02-05T02:20:10.340Z"
   },
   {
    "duration": 42,
    "start_time": "2025-02-05T02:20:18.141Z"
   },
   {
    "duration": 43,
    "start_time": "2025-02-05T02:20:37.159Z"
   },
   {
    "duration": 41,
    "start_time": "2025-02-05T02:21:01.159Z"
   },
   {
    "duration": 43,
    "start_time": "2025-02-05T02:21:18.134Z"
   },
   {
    "duration": 836,
    "start_time": "2025-02-05T02:21:26.820Z"
   },
   {
    "duration": 190,
    "start_time": "2025-02-05T02:21:27.658Z"
   },
   {
    "duration": 20,
    "start_time": "2025-02-05T02:21:27.851Z"
   },
   {
    "duration": 12,
    "start_time": "2025-02-05T02:21:27.875Z"
   },
   {
    "duration": 17,
    "start_time": "2025-02-05T02:21:27.890Z"
   },
   {
    "duration": 11,
    "start_time": "2025-02-05T02:21:27.909Z"
   },
   {
    "duration": 11,
    "start_time": "2025-02-05T02:21:27.922Z"
   },
   {
    "duration": 13,
    "start_time": "2025-02-05T02:21:27.935Z"
   },
   {
    "duration": 9,
    "start_time": "2025-02-05T02:21:27.950Z"
   },
   {
    "duration": 38,
    "start_time": "2025-02-05T02:21:27.962Z"
   },
   {
    "duration": 12,
    "start_time": "2025-02-05T02:21:28.002Z"
   },
   {
    "duration": 26,
    "start_time": "2025-02-05T02:21:28.015Z"
   },
   {
    "duration": 17,
    "start_time": "2025-02-05T02:21:28.043Z"
   },
   {
    "duration": 11,
    "start_time": "2025-02-05T02:21:28.086Z"
   },
   {
    "duration": 8,
    "start_time": "2025-02-05T02:21:28.099Z"
   },
   {
    "duration": 19,
    "start_time": "2025-02-05T02:21:28.108Z"
   },
   {
    "duration": 10,
    "start_time": "2025-02-05T02:21:28.129Z"
   },
   {
    "duration": 14,
    "start_time": "2025-02-05T02:21:28.141Z"
   },
   {
    "duration": 9,
    "start_time": "2025-02-05T02:21:28.186Z"
   },
   {
    "duration": 21,
    "start_time": "2025-02-05T02:21:28.197Z"
   },
   {
    "duration": 15,
    "start_time": "2025-02-05T02:21:28.220Z"
   },
   {
    "duration": 7,
    "start_time": "2025-02-05T02:21:28.236Z"
   },
   {
    "duration": 43,
    "start_time": "2025-02-05T02:21:28.244Z"
   },
   {
    "duration": 13,
    "start_time": "2025-02-05T02:21:28.289Z"
   },
   {
    "duration": 9,
    "start_time": "2025-02-05T02:21:28.304Z"
   },
   {
    "duration": 9,
    "start_time": "2025-02-05T02:21:28.314Z"
   },
   {
    "duration": 4,
    "start_time": "2025-02-05T02:21:28.325Z"
   },
   {
    "duration": 12,
    "start_time": "2025-02-05T02:21:28.334Z"
   },
   {
    "duration": 47,
    "start_time": "2025-02-05T02:21:28.348Z"
   },
   {
    "duration": 2,
    "start_time": "2025-02-05T02:21:28.397Z"
   },
   {
    "duration": 11,
    "start_time": "2025-02-05T02:21:28.401Z"
   },
   {
    "duration": 3,
    "start_time": "2025-02-05T02:21:28.414Z"
   },
   {
    "duration": 13,
    "start_time": "2025-02-05T02:21:28.420Z"
   },
   {
    "duration": 18,
    "start_time": "2025-02-05T02:21:28.434Z"
   },
   {
    "duration": 32,
    "start_time": "2025-02-05T02:21:28.454Z"
   },
   {
    "duration": 3,
    "start_time": "2025-02-05T02:21:28.488Z"
   },
   {
    "duration": 72,
    "start_time": "2025-02-05T02:21:28.493Z"
   },
   {
    "duration": 225,
    "start_time": "2025-02-05T02:21:28.567Z"
   },
   {
    "duration": 274,
    "start_time": "2025-02-05T02:21:28.796Z"
   },
   {
    "duration": 6,
    "start_time": "2025-02-05T02:21:29.072Z"
   },
   {
    "duration": 392,
    "start_time": "2025-02-05T02:21:29.087Z"
   },
   {
    "duration": 0,
    "start_time": "2025-02-05T02:21:29.481Z"
   },
   {
    "duration": 0,
    "start_time": "2025-02-05T02:21:29.487Z"
   },
   {
    "duration": 0,
    "start_time": "2025-02-05T02:21:29.488Z"
   },
   {
    "duration": 0,
    "start_time": "2025-02-05T02:21:29.489Z"
   },
   {
    "duration": 0,
    "start_time": "2025-02-05T02:21:29.490Z"
   },
   {
    "duration": 81,
    "start_time": "2025-02-05T02:23:38.854Z"
   },
   {
    "duration": 87,
    "start_time": "2025-02-05T02:23:51.518Z"
   },
   {
    "duration": 161,
    "start_time": "2025-02-05T02:23:53.762Z"
   },
   {
    "duration": 74,
    "start_time": "2025-02-05T02:24:01.069Z"
   },
   {
    "duration": 7,
    "start_time": "2025-02-05T02:25:21.100Z"
   },
   {
    "duration": 73,
    "start_time": "2025-02-05T02:25:25.540Z"
   },
   {
    "duration": 8,
    "start_time": "2025-02-05T02:25:50.607Z"
   },
   {
    "duration": 80,
    "start_time": "2025-02-05T02:26:03.080Z"
   },
   {
    "duration": 5,
    "start_time": "2025-02-05T02:26:14.087Z"
   },
   {
    "duration": 5,
    "start_time": "2025-02-05T02:26:20.844Z"
   },
   {
    "duration": 72,
    "start_time": "2025-02-05T02:26:22.491Z"
   },
   {
    "duration": 14,
    "start_time": "2025-02-05T02:27:37.524Z"
   },
   {
    "duration": 5,
    "start_time": "2025-02-05T02:51:35.390Z"
   },
   {
    "duration": 6,
    "start_time": "2025-02-05T02:51:43.923Z"
   },
   {
    "duration": 6,
    "start_time": "2025-02-05T02:51:53.991Z"
   },
   {
    "duration": 6,
    "start_time": "2025-02-05T02:54:20.966Z"
   },
   {
    "duration": 7,
    "start_time": "2025-02-05T02:55:58.774Z"
   },
   {
    "duration": 7,
    "start_time": "2025-02-05T02:56:22.110Z"
   },
   {
    "duration": 8,
    "start_time": "2025-02-05T02:56:42.168Z"
   },
   {
    "duration": 8,
    "start_time": "2025-02-05T02:56:51.833Z"
   },
   {
    "duration": 19,
    "start_time": "2025-02-05T03:04:49.643Z"
   },
   {
    "duration": 9,
    "start_time": "2025-02-05T03:05:43.509Z"
   },
   {
    "duration": 10,
    "start_time": "2025-02-05T03:07:00.525Z"
   },
   {
    "duration": 8,
    "start_time": "2025-02-05T03:08:12.076Z"
   },
   {
    "duration": 14,
    "start_time": "2025-02-05T03:09:23.643Z"
   },
   {
    "duration": 22,
    "start_time": "2025-02-05T03:09:45.413Z"
   },
   {
    "duration": 8,
    "start_time": "2025-02-05T03:10:26.738Z"
   },
   {
    "duration": 32,
    "start_time": "2025-02-05T03:10:30.609Z"
   },
   {
    "duration": 29,
    "start_time": "2025-02-05T03:10:55.003Z"
   },
   {
    "duration": 9,
    "start_time": "2025-02-05T03:11:46.613Z"
   },
   {
    "duration": 18,
    "start_time": "2025-02-05T03:11:52.661Z"
   },
   {
    "duration": 14,
    "start_time": "2025-02-05T03:12:18.069Z"
   },
   {
    "duration": 66,
    "start_time": "2025-02-05T03:15:31.535Z"
   },
   {
    "duration": 4,
    "start_time": "2025-02-05T03:15:42.184Z"
   },
   {
    "duration": 4,
    "start_time": "2025-02-05T03:15:48.412Z"
   },
   {
    "duration": 13,
    "start_time": "2025-02-05T03:15:56.503Z"
   },
   {
    "duration": 7,
    "start_time": "2025-02-05T03:16:54.219Z"
   },
   {
    "duration": 7,
    "start_time": "2025-02-05T03:17:00.462Z"
   },
   {
    "duration": 7,
    "start_time": "2025-02-05T03:17:44.169Z"
   },
   {
    "duration": 19,
    "start_time": "2025-02-05T03:17:56.936Z"
   },
   {
    "duration": 15,
    "start_time": "2025-02-05T03:18:01.326Z"
   },
   {
    "duration": 10,
    "start_time": "2025-02-05T03:18:10.771Z"
   },
   {
    "duration": 11,
    "start_time": "2025-02-05T03:18:29.951Z"
   },
   {
    "duration": 6,
    "start_time": "2025-02-05T03:19:05.209Z"
   },
   {
    "duration": 14,
    "start_time": "2025-02-05T03:19:51.056Z"
   },
   {
    "duration": 23,
    "start_time": "2025-02-05T03:20:43.684Z"
   },
   {
    "duration": 396,
    "start_time": "2025-02-05T03:20:58.906Z"
   },
   {
    "duration": 6,
    "start_time": "2025-02-05T03:21:27.806Z"
   },
   {
    "duration": 20,
    "start_time": "2025-02-05T03:21:32.855Z"
   },
   {
    "duration": 9,
    "start_time": "2025-02-05T03:21:36.215Z"
   },
   {
    "duration": 7,
    "start_time": "2025-02-05T03:22:03.348Z"
   },
   {
    "duration": 9,
    "start_time": "2025-02-05T03:22:10.324Z"
   },
   {
    "duration": 10,
    "start_time": "2025-02-05T03:22:20.719Z"
   },
   {
    "duration": 8,
    "start_time": "2025-02-05T03:22:32.121Z"
   },
   {
    "duration": 7,
    "start_time": "2025-02-05T03:22:35.768Z"
   },
   {
    "duration": 7,
    "start_time": "2025-02-05T03:24:04.810Z"
   },
   {
    "duration": 11,
    "start_time": "2025-02-05T03:24:32.157Z"
   },
   {
    "duration": 9,
    "start_time": "2025-02-05T03:25:21.813Z"
   },
   {
    "duration": 9,
    "start_time": "2025-02-05T03:25:28.301Z"
   },
   {
    "duration": 138,
    "start_time": "2025-02-05T03:26:36.301Z"
   },
   {
    "duration": 174,
    "start_time": "2025-02-05T03:26:38.225Z"
   }
  ],
  "colab": {
   "provenance": []
  },
  "kernelspec": {
   "display_name": "base",
   "language": "python",
   "name": "python3"
  },
  "language_info": {
   "codemirror_mode": {
    "name": "ipython",
    "version": 3
   },
   "file_extension": ".py",
   "mimetype": "text/x-python",
   "name": "python",
   "nbconvert_exporter": "python",
   "pygments_lexer": "ipython3",
   "version": "3.12.7"
  },
  "toc": {
   "base_numbering": 1,
   "nav_menu": {},
   "number_sections": true,
   "sideBar": true,
   "skip_h1_title": false,
   "title_cell": "Table of Contents",
   "title_sidebar": "Contents",
   "toc_cell": false,
   "toc_position": {},
   "toc_section_display": true,
   "toc_window_display": true
  }
 },
 "nbformat": 4,
 "nbformat_minor": 1
}
